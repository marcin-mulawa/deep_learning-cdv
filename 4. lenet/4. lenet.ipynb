{
  "cells": [
    {
      "cell_type": "markdown",
      "id": "efa4efe7",
      "metadata": {
        "id": "efa4efe7"
      },
      "source": [
        "**Korzystając z notebooka o sieciach konwolucyjnych oraz notebooka o płytkiej sieci w Tensorflow, za pomocą biblioteki Tensorflow zaprojektuj konwolucyjną sieć neuronową o architekturze zbliżonej do słynnej sieci [LeNet-5](http://yann.lecun.com/exdb/publis/pdf/lecun-01a.pdf) której sukcesy w rozpoznawaniu obrazów rozpoczęły na przełomie lat 80. i 90. boom na głębokie uczenie, i użyj jej do predykcji zbioru FashionMnist, zgodnie z następującym opisem:**\n",
        "\n",
        "|Nr warstwy|Rodzaj|Rozmiar wyjścia|Liczba filtrów|Rozmiar jądra (`kernel_size`)|Krok (`stride`)|Padding|Funkcja aktywacji|\n",
        "|----------|---|---------------|--------------|-----------------------|---------------|-------|-----------------|\n",
        "|1|splotowa|$28\\times 28$|6|$5\\times 5$|1|2|tanh|\n",
        "|2|avgerage pooling|$14\\times 14$|6|$2\\times 2$|2|0|sigmoid|\n",
        "|3|splotowa|$10\\times 10$|16|$5\\times 5$|1|0|tanh|\n",
        "|4|average pooling|$5\\times 5$|16|$2\\times 2$|2|0|sigmoid|\n",
        "|5|splotowa|$1\\times 1$|120|$5\\times 5$|1|0|tanh|\n",
        "|6|pełna|84|||||tanh|\n",
        "|7|pełna|10|||||softmax|\n",
        "\n",
        "**Kolejne kroki:**\n",
        " - załadowanie zbioru\n",
        " - wydzielenie zbioru walidacyjnego\n",
        " - normalizacja i kategoryzacja danych\n",
        " - zaprojektowanie sieci (nie zapominaj o spłaszczeniu w odpowiednim momencie)\n",
        " - zbudowanie modelu z dowolną funkcją kosztu dla problemów wieloklasowych, dowolnym optymalizatorem i trafnością jako metryką\n",
        " - nauczenie sieci w maksymalnie stu epokach z zastosowaniem wczesnego zatrzymania (najlepiej użyć wbudowanego, z dowolną wartością do monitorowania)\n",
        " - ewaluacja modelu na zbiorze walidacyjnym\n",
        " - wyświetlenie 10 niepoprawnie zaklasyfikowanych próbek w postaci: prawdziwa prognozowana, np. 2 7"
      ]
    },
    {
      "cell_type": "code",
      "execution_count": 1,
      "id": "6d74efb0",
      "metadata": {
        "id": "6d74efb0"
      },
      "outputs": [],
      "source": [
        "import tensorflow as tf\n",
        "from tensorflow.keras.datasets import fashion_mnist\n",
        "from tensorflow.keras.utils import to_categorical\n",
        "from tensorflow.keras.models import Sequential\n",
        "from tensorflow.keras.layers import Dense, Flatten, Conv2D, AvgPool2D\n",
        "from tensorflow.keras.optimizers import SGD\n",
        "from tensorflow.keras.callbacks import EarlyStopping\n",
        "from matplotlib import pyplot as plt\n",
        "from sklearn.model_selection import train_test_split\n",
        "from sklearn.preprocessing import Normalizer\n",
        "from sklearn.metrics import accuracy_score, confusion_matrix"
      ]
    },
    {
      "cell_type": "markdown",
      "id": "xczUAvqr-AfQ",
      "metadata": {
        "id": "xczUAvqr-AfQ"
      },
      "source": [
        "Załadowanie zbioru"
      ]
    },
    {
      "cell_type": "code",
      "execution_count": 2,
      "id": "zX3QDyP-7c5y",
      "metadata": {
        "id": "zX3QDyP-7c5y"
      },
      "outputs": [],
      "source": [
        "(X_train, y_train), (X_test, y_test) = fashion_mnist.load_data()\n"
      ]
    },
    {
      "cell_type": "markdown",
      "id": "tsV9yC1--Tsv",
      "metadata": {
        "id": "tsV9yC1--Tsv"
      },
      "source": [
        "Wydzielenie zboiru walidacyjnego"
      ]
    },
    {
      "cell_type": "code",
      "execution_count": 3,
      "id": "0ipTnV9g98If",
      "metadata": {
        "colab": {
          "base_uri": "https://localhost:8080/"
        },
        "id": "0ipTnV9g98If",
        "outputId": "4215e9cd-22ea-4f76-da40-19cfd6e7c707"
      },
      "outputs": [
        {
          "data": {
            "text/plain": [
              "((48000, 28, 28, 1), (12000, 28, 28, 1), (10000, 28, 28, 1))"
            ]
          },
          "execution_count": 3,
          "metadata": {},
          "output_type": "execute_result"
        }
      ],
      "source": [
        "X_train, X_val, y_train, y_val = train_test_split(X_train, y_train, test_size=0.2, random_state=42)\n",
        "X_train = X_train.reshape(-1,28,28,1)\n",
        "X_val = X_val.reshape(-1,28,28,1)\n",
        "X_test = X_test.reshape(-1,28,28,1)\n",
        "\n",
        "X_train.shape, X_val.shape, X_test.shape"
      ]
    },
    {
      "cell_type": "markdown",
      "id": "E26MX_DN-cHv",
      "metadata": {
        "id": "E26MX_DN-cHv"
      },
      "source": [
        "Normalizacja i kategoryzacja danych"
      ]
    },
    {
      "cell_type": "code",
      "execution_count": 4,
      "id": "HHo7lxeQAo2c",
      "metadata": {
        "id": "HHo7lxeQAo2c"
      },
      "outputs": [],
      "source": [
        "X_train, X_val, X_test = X_train / 255.0, X_val / 255.0, X_test / 255.0"
      ]
    },
    {
      "cell_type": "code",
      "execution_count": 5,
      "id": "JV-6bJIbBKZ9",
      "metadata": {
        "id": "JV-6bJIbBKZ9"
      },
      "outputs": [],
      "source": [
        "n_classes = 10\n",
        "y_train = to_categorical(y_train, n_classes)\n",
        "y_val = to_categorical(y_val, n_classes)\n",
        "y_test = to_categorical(y_test, n_classes)"
      ]
    },
    {
      "cell_type": "markdown",
      "id": "IwNlc_DjCIAE",
      "metadata": {
        "id": "IwNlc_DjCIAE"
      },
      "source": [
        "Zaprojektowanie sieci i zbudowanie modelu"
      ]
    },
    {
      "cell_type": "code",
      "execution_count": 6,
      "id": "1BHsiVVNNloy",
      "metadata": {
        "id": "1BHsiVVNNloy"
      },
      "outputs": [],
      "source": [
        "def lenet5():\n",
        "    model = Sequential([\n",
        "        Conv2D(filters=6, kernel_size=(5, 5), padding='same', strides=(1,1), activation='tanh',\n",
        "                input_shape=(28, 28, 1)),\n",
        "        AvgPool2D(pool_size=(2, 2), strides=(2,2)),\n",
        "        Conv2D(filters=16, kernel_size=(5, 5), activation='tanh'),\n",
        "        AvgPool2D(pool_size=(2, 2), strides=(2,2)),\n",
        "        Conv2D(filters=120, kernel_size=(5, 5), activation='tanh'),\n",
        "        Flatten(),\n",
        "        Dense(units=84, activation='tanh'),\n",
        "        Dense(units=10, activation='softmax')\n",
        "    ])\n",
        "\n",
        "    model.compile(optimizer='adam', loss='categorical_crossentropy', metrics=['accuracy'])\n",
        "\n",
        "    return model"
      ]
    },
    {
      "cell_type": "code",
      "execution_count": 7,
      "id": "p-qU4-ZSRtwW",
      "metadata": {
        "colab": {
          "base_uri": "https://localhost:8080/"
        },
        "id": "p-qU4-ZSRtwW",
        "outputId": "5ecb8804-5924-4098-b358-f4bbd801db55"
      },
      "outputs": [
        {
          "name": "stdout",
          "output_type": "stream",
          "text": [
            "Model: \"sequential\"\n",
            "_________________________________________________________________\n",
            " Layer (type)                Output Shape              Param #   \n",
            "=================================================================\n",
            " conv2d (Conv2D)             (None, 28, 28, 6)         156       \n",
            "                                                                 \n",
            " average_pooling2d (AverageP  (None, 14, 14, 6)        0         \n",
            " ooling2D)                                                       \n",
            "                                                                 \n",
            " conv2d_1 (Conv2D)           (None, 10, 10, 16)        2416      \n",
            "                                                                 \n",
            " average_pooling2d_1 (Averag  (None, 5, 5, 16)         0         \n",
            " ePooling2D)                                                     \n",
            "                                                                 \n",
            " conv2d_2 (Conv2D)           (None, 1, 1, 120)         48120     \n",
            "                                                                 \n",
            " flatten (Flatten)           (None, 120)               0         \n",
            "                                                                 \n",
            " dense (Dense)               (None, 84)                10164     \n",
            "                                                                 \n",
            " dense_1 (Dense)             (None, 10)                850       \n",
            "                                                                 \n",
            "=================================================================\n",
            "Total params: 61,706\n",
            "Trainable params: 61,706\n",
            "Non-trainable params: 0\n",
            "_________________________________________________________________\n"
          ]
        }
      ],
      "source": [
        "model = lenet5()\n",
        "model.summary()"
      ]
    },
    {
      "cell_type": "markdown",
      "id": "o9BWNZT5edQ9",
      "metadata": {
        "id": "o9BWNZT5edQ9"
      },
      "source": [
        "Trening sieci"
      ]
    },
    {
      "cell_type": "code",
      "execution_count": 8,
      "id": "UuRLPGB5eb6m",
      "metadata": {
        "id": "UuRLPGB5eb6m"
      },
      "outputs": [],
      "source": [
        "def train_lenet5(X_train, X_test, y_train, y_test, model, epochs=100, monitor='loss', patience=3):\n",
        "    model.fit(X_train, y_train, epochs=epochs, validation_data=(X_test, y_test),\n",
        "              callbacks=[EarlyStopping(monitor=monitor, patience=patience)])\n",
        "    return model"
      ]
    },
    {
      "cell_type": "code",
      "execution_count": 9,
      "id": "PoUgppKHUOgU",
      "metadata": {
        "colab": {
          "base_uri": "https://localhost:8080/"
        },
        "id": "PoUgppKHUOgU",
        "outputId": "3411c463-e258-46d1-affe-64614d5a8136"
      },
      "outputs": [
        {
          "name": "stdout",
          "output_type": "stream",
          "text": [
            "Epoch 1/100\n",
            "1500/1500 [==============================] - 15s 8ms/step - loss: 0.5446 - accuracy: 0.7991 - val_loss: 0.4221 - val_accuracy: 0.8459\n",
            "Epoch 2/100\n",
            "1500/1500 [==============================] - 9s 6ms/step - loss: 0.3851 - accuracy: 0.8609 - val_loss: 0.3757 - val_accuracy: 0.8593\n",
            "Epoch 3/100\n",
            "1500/1500 [==============================] - 9s 6ms/step - loss: 0.3431 - accuracy: 0.8745 - val_loss: 0.3437 - val_accuracy: 0.8769\n",
            "Epoch 4/100\n",
            "1500/1500 [==============================] - 9s 6ms/step - loss: 0.3124 - accuracy: 0.8854 - val_loss: 0.3290 - val_accuracy: 0.8832\n",
            "Epoch 5/100\n",
            "1500/1500 [==============================] - 9s 6ms/step - loss: 0.2898 - accuracy: 0.8925 - val_loss: 0.3214 - val_accuracy: 0.8803\n",
            "Epoch 6/100\n",
            "1500/1500 [==============================] - 10s 6ms/step - loss: 0.2697 - accuracy: 0.9001 - val_loss: 0.3198 - val_accuracy: 0.8840\n",
            "Epoch 7/100\n",
            "1500/1500 [==============================] - 9s 6ms/step - loss: 0.2541 - accuracy: 0.9048 - val_loss: 0.3086 - val_accuracy: 0.8876\n",
            "Epoch 8/100\n",
            "1500/1500 [==============================] - 9s 6ms/step - loss: 0.2403 - accuracy: 0.9109 - val_loss: 0.3164 - val_accuracy: 0.8898\n",
            "Epoch 9/100\n",
            "1500/1500 [==============================] - 9s 6ms/step - loss: 0.2284 - accuracy: 0.9146 - val_loss: 0.3006 - val_accuracy: 0.8902\n",
            "Epoch 10/100\n",
            "1500/1500 [==============================] - 10s 6ms/step - loss: 0.2168 - accuracy: 0.9189 - val_loss: 0.3010 - val_accuracy: 0.8958\n",
            "Epoch 11/100\n",
            "1500/1500 [==============================] - 9s 6ms/step - loss: 0.2049 - accuracy: 0.9231 - val_loss: 0.3107 - val_accuracy: 0.8924\n",
            "Epoch 12/100\n",
            "1500/1500 [==============================] - 9s 6ms/step - loss: 0.1940 - accuracy: 0.9275 - val_loss: 0.3026 - val_accuracy: 0.8963\n"
          ]
        }
      ],
      "source": [
        "model = train_lenet5(X_train, X_val, y_train, y_val, model, epochs=100, monitor='val_loss', patience=3)\n"
      ]
    },
    {
      "cell_type": "code",
      "execution_count": 10,
      "id": "KTo0MgiDdVBP",
      "metadata": {
        "colab": {
          "base_uri": "https://localhost:8080/"
        },
        "id": "KTo0MgiDdVBP",
        "outputId": "38a26de0-a4c1-4b38-abb6-8cb707c2998f"
      },
      "outputs": [
        {
          "data": {
            "text/plain": [
              "[0.42214441299438477,\n",
              " 0.3757445812225342,\n",
              " 0.3437407910823822,\n",
              " 0.3290189504623413,\n",
              " 0.3213980793952942,\n",
              " 0.3198001980781555,\n",
              " 0.30862486362457275,\n",
              " 0.3163977563381195,\n",
              " 0.30060669779777527,\n",
              " 0.3010435700416565,\n",
              " 0.3106957674026489,\n",
              " 0.3025960326194763]"
            ]
          },
          "execution_count": 10,
          "metadata": {},
          "output_type": "execute_result"
        }
      ],
      "source": [
        "model.history.history['val_loss']"
      ]
    },
    {
      "cell_type": "markdown",
      "id": "9Ap4V2boZ5Sp",
      "metadata": {
        "id": "9Ap4V2boZ5Sp"
      },
      "source": [
        "Ewaluacja modelu na zbiorze walidacyjnym"
      ]
    },
    {
      "cell_type": "code",
      "execution_count": 11,
      "id": "nKdxqKjsYfCI",
      "metadata": {
        "colab": {
          "base_uri": "https://localhost:8080/"
        },
        "id": "nKdxqKjsYfCI",
        "outputId": "b5f9966f-7ecd-4e6b-a8b4-46eb962a1626"
      },
      "outputs": [
        {
          "name": "stdout",
          "output_type": "stream",
          "text": [
            "375/375 [==============================] - 1s 4ms/step - loss: 0.3026 - accuracy: 0.8963\n"
          ]
        },
        {
          "data": {
            "text/plain": [
              "[0.3025960326194763, 0.8962500095367432]"
            ]
          },
          "execution_count": 11,
          "metadata": {},
          "output_type": "execute_result"
        }
      ],
      "source": [
        "model.evaluate(X_val, y_val)"
      ]
    },
    {
      "cell_type": "markdown",
      "id": "7NcVw8mHe-uM",
      "metadata": {
        "id": "7NcVw8mHe-uM"
      },
      "source": [
        "Predykcja modelu"
      ]
    },
    {
      "cell_type": "code",
      "execution_count": 12,
      "id": "zSCkOSSke9CD",
      "metadata": {
        "id": "zSCkOSSke9CD"
      },
      "outputs": [],
      "source": [
        "predictions = model.predict(X_test)"
      ]
    },
    {
      "cell_type": "code",
      "execution_count": 13,
      "id": "W0dCGOMOeRBz",
      "metadata": {
        "colab": {
          "base_uri": "https://localhost:8080/"
        },
        "id": "W0dCGOMOeRBz",
        "outputId": "096cfa72-6546-409d-c4ca-3299b54c34d5"
      },
      "outputs": [
        {
          "name": "stdout",
          "output_type": "stream",
          "text": [
            "0.8875\n"
          ]
        }
      ],
      "source": [
        "print(accuracy_score(y_test.argmax(axis=1), predictions.argmax(axis=1)))"
      ]
    },
    {
      "cell_type": "markdown",
      "id": "mw5mvoSxqWRD",
      "metadata": {
        "id": "mw5mvoSxqWRD"
      },
      "source": [
        "Wyświetlenie 10 niepoprawnie zaklasyfikowanych próbek w postaci: prawdziwa prognozowana, np. 2 7"
      ]
    },
    {
      "cell_type": "code",
      "execution_count": 14,
      "id": "ONJgxG7hoAmY",
      "metadata": {
        "colab": {
          "base_uri": "https://localhost:8080/"
        },
        "id": "ONJgxG7hoAmY",
        "outputId": "de62ee7f-8b1b-4bcf-9d16-513f0547b22b"
      },
      "outputs": [
        {
          "name": "stdout",
          "output_type": "stream",
          "text": [
            "True value: 7, Predicted value: 5\n",
            "True value: 4, Predicted value: 2\n",
            "True value: 9, Predicted value: 5\n",
            "True value: 4, Predicted value: 2\n",
            "True value: 6, Predicted value: 0\n",
            "True value: 3, Predicted value: 6\n",
            "True value: 2, Predicted value: 6\n",
            "True value: 2, Predicted value: 6\n",
            "True value: 4, Predicted value: 2\n",
            "True value: 3, Predicted value: 4\n"
          ]
        }
      ],
      "source": [
        "y_test_bad_predicton =y_test[y_test.argmax(axis=1) != predictions.argmax(axis=1)].argmax(axis=1)\n",
        "bad_predictions  = predictions[y_test.argmax(axis=1) != predictions.argmax(axis=1)].argmax(axis=1)\n",
        "for y_true, y_pred in zip(y_test_bad_predicton[:10], bad_predictions[:10]):\n",
        "    print(f'True value: {y_true}, Predicted value: {y_pred}')"
      ]
    },
    {
      "cell_type": "code",
      "execution_count": 15,
      "id": "5Hc1tFbAgjuY",
      "metadata": {
        "colab": {
          "base_uri": "https://localhost:8080/",
          "height": 614
        },
        "id": "5Hc1tFbAgjuY",
        "outputId": "cefffbe9-bf2a-41a4-a683-8ed10c3b6a8e"
      },
      "outputs": [
        {
          "data": {
            "text/plain": [
              "<sklearn.metrics._plot.confusion_matrix.ConfusionMatrixDisplay at 0x7fe520325350>"
            ]
          },
          "execution_count": 15,
          "metadata": {},
          "output_type": "execute_result"
        },
        {
          "data": {
            "text/plain": [
              "<Figure size 1872x1872 with 0 Axes>"
            ]
          },
          "metadata": {},
          "output_type": "display_data"
        },
        {
          "data": {
            "image/png": "[encoded data removed]",
            "text/plain": [
              "<Figure size 720x720 with 2 Axes>"
            ]
          },
          "metadata": {
            "needs_background": "light"
          },
          "output_type": "display_data"
        }
      ],
      "source": [
        "from sklearn.metrics import confusion_matrix, ConfusionMatrixDisplay\n",
        "plt.figure(figsize=(26,26))\n",
        "cm = confusion_matrix(y_test.argmax(axis=1), predictions.argmax(axis=1))\n",
        "cmd = ConfusionMatrixDisplay(cm, display_labels=[\n",
        "                                                 'T-shirt/top',\n",
        "                                                 'Trouser',\n",
        "                                                 'Pullover',\n",
        "                                                 'Dress',\n",
        "                                                 'Coat',\n",
        "                                                 'Sandal',\n",
        "                                                 'Shirt',\n",
        "                                                 'Sneaker',\n",
        "                                                 'Bag',\n",
        "                                                 'Ankle boo'\n",
        "                                                 ])\n",
        "fig, ax = plt.subplots(figsize=(10,10))\n",
        "cmd.plot(ax=ax)\n"
      ]
    },
    {
      "cell_type": "markdown",
      "id": "pXNyiSYelhzG",
      "metadata": {
        "id": "pXNyiSYelhzG"
      },
      "source": [
        "<tbody>\n",
        "<tr>\n",
        "<td align=\"center\">0</td>\n",
        "<td>T-shirt/top</td>\n",
        "</tr>\n",
        "<tr>\n",
        "<td align=\"center\">1</td>\n",
        "<td>Trouser</td>\n",
        "</tr>\n",
        "<tr>\n",
        "<td align=\"center\">2</td>\n",
        "<td>Pullover</td>\n",
        "</tr>\n",
        "<tr>\n",
        "<td align=\"center\">3</td>\n",
        "<td>Dress</td>\n",
        "</tr>\n",
        "<tr>\n",
        "<td align=\"center\">4</td>\n",
        "<td>Coat</td>\n",
        "</tr>\n",
        "<tr>\n",
        "<td align=\"center\">5</td>\n",
        "<td>Sandal</td>\n",
        "</tr>\n",
        "<tr>\n",
        "<td align=\"center\">6</td>\n",
        "<td>Shirt</td>\n",
        "</tr>\n",
        "<tr>\n",
        "<td align=\"center\">7</td>\n",
        "<td>Sneaker</td>\n",
        "</tr>\n",
        "<tr>\n",
        "<td align=\"center\">8</td>\n",
        "<td>Bag</td>\n",
        "</tr>\n",
        "<tr>\n",
        "<td align=\"center\">9</td>\n",
        "<td>Ankle boot</td>\n",
        "</tr>\n",
        "</tbody>"
      ]
    }
  ],
  "metadata": {
    "accelerator": "GPU",
    "colab": {
      "name": "4. lenet.ipynb",
      "provenance": []
    },
    "kernelspec": {
      "display_name": "Python 3 (ipykernel)",
      "language": "python",
      "name": "python3"
    },
    "language_info": {
      "codemirror_mode": {
        "name": "ipython",
        "version": 3
      },
      "file_extension": ".py",
      "mimetype": "text/x-python",
      "name": "python",
      "nbconvert_exporter": "python",
      "pygments_lexer": "ipython3",
      "version": "3.8.8"
    }
  },
  "nbformat": 4,
  "nbformat_minor": 5
}
