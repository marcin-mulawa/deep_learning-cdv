{
  "cells": [
    {
      "cell_type": "markdown",
      "metadata": {
        "id": "Br81lze4jMZq"
      },
      "source": [
        "# Porównanie klasyfikatora konwolucyjnego i rekurencyjnego dla NLP"
      ]
    },
    {
      "cell_type": "markdown",
      "metadata": {
        "id": "UojsGWLBjMZs"
      },
      "source": [
        "W tym notebooku porównamy działanie (architekturę, złożoność, efektywność uczenia) dwóch klasyfikatorów sentymentu recenzji"
      ]
    },
    {
      "cell_type": "markdown",
      "metadata": {
        "id": "wR7f9cEZjMZs"
      },
      "source": [
        "#### Załadujmy zależności"
      ]
    },
    {
      "cell_type": "code",
      "execution_count": 37,
      "metadata": {
        "id": "wDhuzjaJjMZt"
      },
      "outputs": [],
      "source": [
        "import tensorflow\n",
        "from tensorflow.keras.datasets import imdb\n",
        "from tensorflow.keras.preprocessing.sequence import pad_sequences\n",
        "from tensorflow.keras.models import Sequential\n",
        "from tensorflow.keras.layers import Dense, Dropout, Embedding\n",
        "from tensorflow.keras.layers import SpatialDropout1D, Conv1D, GlobalMaxPooling1D, SimpleRNN\n",
        "from tensorflow.keras.callbacks import ModelCheckpoint\n",
        "import os\n",
        "from sklearn.metrics import roc_auc_score, roc_curve, auc\n",
        "import matplotlib.pyplot as plt\n",
        "import seaborn as sns"
      ]
    },
    {
      "cell_type": "markdown",
      "metadata": {
        "id": "kgCSKBkTjMZt"
      },
      "source": [
        "#### Ustawmy hiperparametry dla klasyfikatora konwolucyjnego"
      ]
    },
    {
      "cell_type": "code",
      "execution_count": 2,
      "metadata": {
        "id": "Cp6RYunujMZu"
      },
      "outputs": [],
      "source": [
        "# lokalizacja wyjściowa dla wag:\n",
        "conv_output_dir = 'model_output/conv'\n",
        "\n",
        "# parametry treningu:\n",
        "conv_epochs = 4\n",
        "conv_batch_size = 128\n",
        "\n",
        "# osadzenie przestrzeni wektorowej: \n",
        "conv_n_dim = 64\n",
        "conv_n_unique_words = 5000 \n",
        "conv_max_review_length = 400\n",
        "conv_pad_type = trunc_type = 'pre'\n",
        "\n",
        "#parametr dropoutu\n",
        "conv_drop_embed = 0.2\n",
        "\n",
        "# parametry architektury konwolucyjnej:\n",
        "n_conv = 256 # filtry/kernele\n",
        "k_conv = 3 # długość kernela\n",
        "\n",
        "# parametry warstwy gęstej: \n",
        "n_dense = 256\n",
        "dropout = 0.2"
      ]
    },
    {
      "cell_type": "markdown",
      "metadata": {
        "id": "I52cpr99jMZu"
      },
      "source": [
        "#### Ustawmy hiperparametry dla klasyfikatora rekurencyjnego"
      ]
    },
    {
      "cell_type": "code",
      "execution_count": 3,
      "metadata": {
        "id": "869PumJ4jMZu"
      },
      "outputs": [],
      "source": [
        "# lokalizacja wyjściowa dla wag:\n",
        "rnn_output_dir = 'model_output/rnn'\n",
        "\n",
        "# parametry treningu:\n",
        "rnn_epochs = 16\n",
        "rnn_batch_size = 128\n",
        "\n",
        "# osadzenie przestrzeni wektorowej: \n",
        "rnn_n_dim = 64 \n",
        "rnn_n_unique_words = 10000 \n",
        "rnn_max_review_length = 100 #zmniejszone z powodu szybciej zanikającego gradientu w jednostkach rekurencyjnych\n",
        "rnn_pad_type = trunc_type = 'pre'\n",
        "rnn_drop_embed = 0.2 \n",
        "\n",
        "# parametry architektury rekurencyjnej:\n",
        "n_rnn = 256 \n",
        "drop_rnn = 0.2"
      ]
    },
    {
      "cell_type": "markdown",
      "metadata": {
        "id": "W2x6CZFMjMZv"
      },
      "source": [
        "#### Załaduj dane treningowe i walidacyjne z parametrem liczby uwzględnianych słów (odrębnie dla obu klasyfikatorów)"
      ]
    },
    {
      "cell_type": "code",
      "execution_count": 4,
      "metadata": {
        "id": "qJgmxjb2jMZv"
      },
      "outputs": [],
      "source": [
        "(x_train_rnn, y_train_rnn), (x_val_rnn, y_val_rnn) = imdb.load_data(num_words=conv_n_unique_words)\n",
        "(x_train_conv, y_train_conv), (x_val_conv, y_val_conv) = imdb.load_data(num_words=rnn_n_unique_words)"
      ]
    },
    {
      "cell_type": "markdown",
      "metadata": {
        "id": "YilITIaijMZv"
      },
      "source": [
        "#### Przetwórz wszystkie załadowane dane poprzez ujednolicenie wielkości danych wejściowych"
      ]
    },
    {
      "cell_type": "code",
      "execution_count": 5,
      "metadata": {
        "id": "jO_mEelCjMZw"
      },
      "outputs": [],
      "source": [
        "#dla rnn\n",
        "x_train_rnn = pad_sequences(x_train_rnn, maxlen=rnn_max_review_length, padding=rnn_pad_type, truncating=trunc_type)\n",
        "x_val_rnn = pad_sequences(x_val_rnn, maxlen=rnn_max_review_length, padding=rnn_pad_type, truncating=trunc_type)"
      ]
    },
    {
      "cell_type": "code",
      "execution_count": 6,
      "metadata": {
        "id": "PZB5fub2jMZw"
      },
      "outputs": [],
      "source": [
        "# dla conv\n",
        "x_train_conv = pad_sequences(x_train_conv, maxlen=conv_max_review_length, padding=conv_pad_type, truncating=trunc_type)\n",
        "x_val_conv = pad_sequences(x_val_conv, maxlen=conv_max_review_length, padding=conv_pad_type, truncating=trunc_type)"
      ]
    },
    {
      "cell_type": "markdown",
      "metadata": {
        "collapsed": true,
        "id": "hsQ4nLHfjMZw"
      },
      "source": [
        "#### Zaprojektuj obie architektury sieci, wybierając odpowiednie zaimportowane obiekty i zadeklarowane wyżej hiperparametry"
      ]
    },
    {
      "cell_type": "markdown",
      "metadata": {
        "id": "aFKXwf9ZjMZw"
      },
      "source": [
        "#### ConvNN\n",
        "- odpowiednio osadź przestrzeń wektorową (embedding), \n",
        "- dodaj przestrzenny dropout z odpowiednim parametrem i wybraną funkcją aktywacji\n",
        "- utwórz warstwę konwolucyjną jednowymiarową z odpowiednimi hiperparametrami\n",
        "- dodaj warstwę redukującą - globalny jednowymiarowy max-pooling\n",
        "- uzupełnij sieć o warstwę gęstą z wybraną funkcją aktywacji i dropoutem\n",
        "- zakończ warstwą klasyfikującą"
      ]
    },
    {
      "cell_type": "code",
      "execution_count": 7,
      "metadata": {
        "id": "-ex4brmVjMZx"
      },
      "outputs": [],
      "source": [
        "model_conv = Sequential([\n",
        "    Embedding(input_dim=conv_n_unique_words, output_dim=conv_n_dim, input_length=conv_max_review_length),\n",
        "    SpatialDropout1D(conv_drop_embed),\n",
        "    Conv1D(filters=n_conv, kernel_size=k_conv, padding='same', activation='relu'),\n",
        "    GlobalMaxPooling1D(),\n",
        "    Dense(n_dense, activation='relu'),\n",
        "    Dropout(dropout),\n",
        "    Dense(1, activation='sigmoid')\n",
        "])"
      ]
    },
    {
      "cell_type": "code",
      "execution_count": 8,
      "metadata": {
        "id": "QgWgSxlwjMZx",
        "outputId": "f5070bbf-0c86-4772-b1e5-484649e29630",
        "colab": {
          "base_uri": "https://localhost:8080/"
        }
      },
      "outputs": [
        {
          "output_type": "stream",
          "name": "stdout",
          "text": [
            "Model: \"sequential\"\n",
            "_________________________________________________________________\n",
            " Layer (type)                Output Shape              Param #   \n",
            "=================================================================\n",
            " embedding (Embedding)       (None, 400, 64)           320000    \n",
            "                                                                 \n",
            " spatial_dropout1d (SpatialD  (None, 400, 64)          0         \n",
            " ropout1D)                                                       \n",
            "                                                                 \n",
            " conv1d (Conv1D)             (None, 400, 256)          49408     \n",
            "                                                                 \n",
            " global_max_pooling1d (Globa  (None, 256)              0         \n",
            " lMaxPooling1D)                                                  \n",
            "                                                                 \n",
            " dense (Dense)               (None, 256)               65792     \n",
            "                                                                 \n",
            " dropout (Dropout)           (None, 256)               0         \n",
            "                                                                 \n",
            " dense_1 (Dense)             (None, 1)                 257       \n",
            "                                                                 \n",
            "=================================================================\n",
            "Total params: 435,457\n",
            "Trainable params: 435,457\n",
            "Non-trainable params: 0\n",
            "_________________________________________________________________\n"
          ]
        }
      ],
      "source": [
        "model_conv.summary() "
      ]
    },
    {
      "cell_type": "markdown",
      "metadata": {
        "id": "YktELe71jMZx"
      },
      "source": [
        "#### RNN\n",
        "- odpowiednio osadź przestrzeń wektorową (embedding), \n",
        "- dodaj przestrzenny dropout z odpowiednim parametrem i wybraną funkcją aktywacji\n",
        "- utwórz prostą warstwę rekurencyjną z odpowiednimi hiperparametrami\n",
        "- zakończ warstwą klasyfikującą"
      ]
    },
    {
      "cell_type": "code",
      "execution_count": 9,
      "metadata": {
        "id": "mEYgbyx2jMZy"
      },
      "outputs": [],
      "source": [
        "model_rnn = Sequential([\n",
        "    Embedding(input_dim=rnn_n_unique_words, output_dim=rnn_n_dim, input_length=rnn_max_review_length),\n",
        "    SpatialDropout1D(rnn_drop_embed),\n",
        "    SimpleRNN(n_rnn, return_sequences=False, activation='relu'),\n",
        "    Dense(1, activation='sigmoid')\n",
        "])"
      ]
    },
    {
      "cell_type": "code",
      "execution_count": 10,
      "metadata": {
        "id": "WC4uUgEqjMZy",
        "outputId": "034c34b6-7b4c-4ef9-8d00-6a4540d6ca10",
        "colab": {
          "base_uri": "https://localhost:8080/"
        }
      },
      "outputs": [
        {
          "output_type": "stream",
          "name": "stdout",
          "text": [
            "Model: \"sequential_1\"\n",
            "_________________________________________________________________\n",
            " Layer (type)                Output Shape              Param #   \n",
            "=================================================================\n",
            " embedding_1 (Embedding)     (None, 100, 64)           640000    \n",
            "                                                                 \n",
            " spatial_dropout1d_1 (Spatia  (None, 100, 64)          0         \n",
            " lDropout1D)                                                     \n",
            "                                                                 \n",
            " simple_rnn (SimpleRNN)      (None, 256)               82176     \n",
            "                                                                 \n",
            " dense_2 (Dense)             (None, 1)                 257       \n",
            "                                                                 \n",
            "=================================================================\n",
            "Total params: 722,433\n",
            "Trainable params: 722,433\n",
            "Non-trainable params: 0\n",
            "_________________________________________________________________\n"
          ]
        }
      ],
      "source": [
        "model_rnn.summary()"
      ]
    },
    {
      "cell_type": "markdown",
      "metadata": {
        "id": "lfjvaZKfjMZy"
      },
      "source": [
        "#### Skompiluj oba modele z odpowiednimi parametrami"
      ]
    },
    {
      "cell_type": "code",
      "execution_count": 11,
      "metadata": {
        "id": "3R9qaydujMZy"
      },
      "outputs": [],
      "source": [
        "# compile the model:\n",
        "model_conv.compile(loss='binary_crossentropy', optimizer='adam', metrics=['accuracy'])\n",
        "model_rnn.compile(loss='binary_crossentropy', optimizer='adam', metrics=['accuracy'])"
      ]
    },
    {
      "cell_type": "markdown",
      "metadata": {
        "id": "9UyS5vsijMZy"
      },
      "source": [
        "#### Stwórz obiekty do rejestrowania wag dla każdego z modeli"
      ]
    },
    {
      "cell_type": "code",
      "execution_count": 12,
      "metadata": {
        "id": "jaArREGajMZz"
      },
      "outputs": [],
      "source": [
        "# dla rnn\n",
        "checkpoint_rnn = ModelCheckpoint(os.path.join(rnn_output_dir, 'rnn_weights.h5'), monitor='val_loss', verbose=1, save_best_only=True, mode='min')\n",
        "if not os.path.exists(rnn_output_dir):\n",
        "    os.makedirs(rnn_output_dir)"
      ]
    },
    {
      "cell_type": "code",
      "execution_count": 13,
      "metadata": {
        "id": "Qi_MTTJSjMZz"
      },
      "outputs": [],
      "source": [
        "# dla conv\n",
        "checkpoint_conv = ModelCheckpoint(os.path.join(conv_output_dir, 'conv_weights.h5'), monitor='val_loss', verbose=1, save_best_only=True, mode='min')\n",
        "if not os.path.exists(conv_output_dir):\n",
        "    os.makedirs(conv_output_dir)"
      ]
    },
    {
      "cell_type": "markdown",
      "metadata": {
        "id": "thYEQYBZjMZz"
      },
      "source": [
        "#### Naucz oba modele z użyciem zbiorów walidacyjnych, z odpowiednimi zadeklarowanymi wyżej parametrami"
      ]
    },
    {
      "cell_type": "code",
      "execution_count": 14,
      "metadata": {
        "id": "YCnoPOXAjMZz",
        "outputId": "505d94aa-2e76-4607-d5a1-a89f2ca7fd72",
        "colab": {
          "base_uri": "https://localhost:8080/"
        }
      },
      "outputs": [
        {
          "output_type": "stream",
          "name": "stdout",
          "text": [
            "Epoch 1/16\n",
            "196/196 [==============================] - ETA: 0s - loss: 0.6637 - accuracy: 0.6090\n",
            "Epoch 1: val_loss improved from inf to 0.52589, saving model to model_output/rnn/rnn_weights.h5\n",
            "196/196 [==============================] - 23s 112ms/step - loss: 0.6637 - accuracy: 0.6090 - val_loss: 0.5259 - val_accuracy: 0.7521\n",
            "Epoch 2/16\n",
            "196/196 [==============================] - ETA: 0s - loss: 0.4809 - accuracy: 0.7794\n",
            "Epoch 2: val_loss improved from 0.52589 to 0.48013, saving model to model_output/rnn/rnn_weights.h5\n",
            "196/196 [==============================] - 22s 110ms/step - loss: 0.4809 - accuracy: 0.7794 - val_loss: 0.4801 - val_accuracy: 0.7777\n",
            "Epoch 3/16\n",
            "196/196 [==============================] - ETA: 0s - loss: 0.4030 - accuracy: 0.8237\n",
            "Epoch 3: val_loss improved from 0.48013 to 0.38484, saving model to model_output/rnn/rnn_weights.h5\n",
            "196/196 [==============================] - 22s 111ms/step - loss: 0.4030 - accuracy: 0.8237 - val_loss: 0.3848 - val_accuracy: 0.8366\n",
            "Epoch 4/16\n",
            "196/196 [==============================] - ETA: 0s - loss: 0.2990 - accuracy: 0.8725\n",
            "Epoch 4: val_loss did not improve from 0.38484\n",
            "196/196 [==============================] - 22s 110ms/step - loss: 0.2990 - accuracy: 0.8725 - val_loss: 0.4009 - val_accuracy: 0.8203\n",
            "Epoch 5/16\n",
            "196/196 [==============================] - ETA: 0s - loss: 0.2931 - accuracy: 0.8806\n",
            "Epoch 5: val_loss did not improve from 0.38484\n",
            "196/196 [==============================] - 21s 108ms/step - loss: 0.2931 - accuracy: 0.8806 - val_loss: 0.4019 - val_accuracy: 0.8251\n",
            "Epoch 6/16\n",
            "196/196 [==============================] - ETA: 0s - loss: 0.2626 - accuracy: 0.8938\n",
            "Epoch 6: val_loss did not improve from 0.38484\n",
            "196/196 [==============================] - 21s 109ms/step - loss: 0.2626 - accuracy: 0.8938 - val_loss: 0.4302 - val_accuracy: 0.8390\n",
            "Epoch 7/16\n",
            "196/196 [==============================] - ETA: 0s - loss: 0.2330 - accuracy: 0.9064\n",
            "Epoch 7: val_loss did not improve from 0.38484\n",
            "196/196 [==============================] - 22s 112ms/step - loss: 0.2330 - accuracy: 0.9064 - val_loss: 0.3921 - val_accuracy: 0.8370\n",
            "Epoch 8/16\n",
            "196/196 [==============================] - ETA: 0s - loss: 0.2115 - accuracy: 0.9178\n",
            "Epoch 8: val_loss did not improve from 0.38484\n",
            "196/196 [==============================] - 21s 109ms/step - loss: 0.2115 - accuracy: 0.9178 - val_loss: 0.4286 - val_accuracy: 0.8372\n",
            "Epoch 9/16\n",
            "196/196 [==============================] - ETA: 0s - loss: 0.1873 - accuracy: 0.9260\n",
            "Epoch 9: val_loss did not improve from 0.38484\n",
            "196/196 [==============================] - 21s 108ms/step - loss: 0.1873 - accuracy: 0.9260 - val_loss: 0.4536 - val_accuracy: 0.8376\n",
            "Epoch 10/16\n",
            "196/196 [==============================] - ETA: 0s - loss: 0.1836 - accuracy: 0.9284\n",
            "Epoch 10: val_loss did not improve from 0.38484\n",
            "196/196 [==============================] - 22s 110ms/step - loss: 0.1836 - accuracy: 0.9284 - val_loss: 0.4942 - val_accuracy: 0.8108\n",
            "Epoch 11/16\n",
            "196/196 [==============================] - ETA: 0s - loss: 0.2310 - accuracy: 0.9047\n",
            "Epoch 11: val_loss did not improve from 0.38484\n",
            "196/196 [==============================] - 21s 107ms/step - loss: 0.2310 - accuracy: 0.9047 - val_loss: 0.5408 - val_accuracy: 0.8215\n",
            "Epoch 12/16\n",
            "196/196 [==============================] - ETA: 0s - loss: 0.2176 - accuracy: 0.9106\n",
            "Epoch 12: val_loss did not improve from 0.38484\n",
            "196/196 [==============================] - 21s 109ms/step - loss: 0.2176 - accuracy: 0.9106 - val_loss: 0.4785 - val_accuracy: 0.8103\n",
            "Epoch 13/16\n",
            "196/196 [==============================] - ETA: 0s - loss: 0.1974 - accuracy: 0.9224\n",
            "Epoch 13: val_loss did not improve from 0.38484\n",
            "196/196 [==============================] - 21s 109ms/step - loss: 0.1974 - accuracy: 0.9224 - val_loss: 0.5844 - val_accuracy: 0.7873\n",
            "Epoch 14/16\n",
            "196/196 [==============================] - ETA: 0s - loss: 0.3328 - accuracy: 0.8466\n",
            "Epoch 14: val_loss did not improve from 0.38484\n",
            "196/196 [==============================] - 21s 109ms/step - loss: 0.3328 - accuracy: 0.8466 - val_loss: 0.5702 - val_accuracy: 0.7196\n",
            "Epoch 15/16\n",
            "196/196 [==============================] - ETA: 0s - loss: 0.3608 - accuracy: 0.8454\n",
            "Epoch 15: val_loss did not improve from 0.38484\n",
            "196/196 [==============================] - 21s 109ms/step - loss: 0.3608 - accuracy: 0.8454 - val_loss: 0.4820 - val_accuracy: 0.7967\n",
            "Epoch 16/16\n",
            "196/196 [==============================] - ETA: 0s - loss: 0.1874 - accuracy: 0.9269\n",
            "Epoch 16: val_loss did not improve from 0.38484\n",
            "196/196 [==============================] - 21s 110ms/step - loss: 0.1874 - accuracy: 0.9269 - val_loss: 0.5038 - val_accuracy: 0.7888\n"
          ]
        }
      ],
      "source": [
        "# rnn\n",
        "history_rnn = model_rnn.fit(x_train_rnn, y_train_rnn, epochs=rnn_epochs, batch_size=rnn_batch_size, validation_data=(x_val_rnn, y_val_rnn), callbacks=[checkpoint_rnn])"
      ]
    },
    {
      "cell_type": "code",
      "execution_count": 15,
      "metadata": {
        "id": "2t93IjlLjMZz",
        "outputId": "8fcb9695-c265-468b-9d81-ac4298d83096",
        "colab": {
          "base_uri": "https://localhost:8080/"
        }
      },
      "outputs": [
        {
          "output_type": "stream",
          "name": "stdout",
          "text": [
            "Epoch 1/4\n",
            "195/196 [============================>.] - ETA: 0s - loss: 0.4906 - accuracy: 0.7375\n",
            "Epoch 1: val_loss improved from inf to 0.30624, saving model to model_output/conv/conv_weights.h5\n",
            "196/196 [==============================] - 6s 19ms/step - loss: 0.4904 - accuracy: 0.7376 - val_loss: 0.3062 - val_accuracy: 0.8704\n",
            "Epoch 2/4\n",
            "193/196 [============================>.] - ETA: 0s - loss: 0.2463 - accuracy: 0.9003\n",
            "Epoch 2: val_loss improved from 0.30624 to 0.25632, saving model to model_output/conv/conv_weights.h5\n",
            "196/196 [==============================] - 4s 18ms/step - loss: 0.2464 - accuracy: 0.9004 - val_loss: 0.2563 - val_accuracy: 0.8950\n",
            "Epoch 3/4\n",
            "193/196 [============================>.] - ETA: 0s - loss: 0.1699 - accuracy: 0.9355\n",
            "Epoch 3: val_loss did not improve from 0.25632\n",
            "196/196 [==============================] - 4s 20ms/step - loss: 0.1702 - accuracy: 0.9354 - val_loss: 0.2644 - val_accuracy: 0.8940\n",
            "Epoch 4/4\n",
            "193/196 [============================>.] - ETA: 0s - loss: 0.1108 - accuracy: 0.9614\n",
            "Epoch 4: val_loss did not improve from 0.25632\n",
            "196/196 [==============================] - 4s 18ms/step - loss: 0.1110 - accuracy: 0.9614 - val_loss: 0.2891 - val_accuracy: 0.8920\n"
          ]
        }
      ],
      "source": [
        "# conv\n",
        "history_conv = model_conv.fit(x_train_conv, y_train_conv, epochs=conv_epochs, batch_size=conv_batch_size, validation_data=(x_val_conv, y_val_conv), callbacks=[checkpoint_conv])"
      ]
    },
    {
      "cell_type": "markdown",
      "metadata": {
        "collapsed": true,
        "id": "yYtkopGjjMZ0"
      },
      "source": [
        "#### Wykonaj inferencję (ewaluację) obu modeli uprzednio ładując wagi z ich najlepszych epok"
      ]
    },
    {
      "cell_type": "code",
      "execution_count": 17,
      "metadata": {
        "id": "lFR2w27TjMZ0"
      },
      "outputs": [],
      "source": [
        "model_conv.load_weights(os.path.join(conv_output_dir, 'conv_weights.h5'))\n",
        "model_rnn.load_weights(os.path.join(rnn_output_dir, 'rnn_weights.h5'))"
      ]
    },
    {
      "cell_type": "code",
      "execution_count": 18,
      "metadata": {
        "id": "8rArQsn5jMZ0"
      },
      "outputs": [],
      "source": [
        "# predict\n",
        "y_pred_conv = model_conv.predict(x_val_conv)\n",
        "y_pred_rnn = model_rnn.predict(x_val_rnn)\n"
      ]
    },
    {
      "cell_type": "markdown",
      "metadata": {
        "id": "DZF4EoF3jMZ0"
      },
      "source": [
        "#### Zestaw na jednym wykresie histogramy dla danych walidacyjnych obu modeli oraz, na kolejnym wykresie, krzywe ROC obu klasyfikatorów,  a następnie - patrząc na oba te wykresy oraz statystyki uczenia, zapisz trzy sensowne wnioski co do wyników"
      ]
    },
    {
      "cell_type": "code",
      "execution_count": 47,
      "metadata": {
        "id": "JJP6sUptjMZ0",
        "outputId": "b7cb0568-9d6f-4572-b7e7-dbb48398a85f",
        "colab": {
          "base_uri": "https://localhost:8080/",
          "height": 320
        }
      },
      "outputs": [
        {
          "output_type": "display_data",
          "data": {
            "text/plain": [
              "<Figure size 720x360 with 1 Axes>"
            ],
            "image/png": "[encoded data removed]"
          },
          "metadata": {
            "needs_background": "light"
          }
        }
      ],
      "source": [
        "plt\n",
        "fig, ax = plt.subplots(figsize=(10, 5))\n",
        "ax.hist(y_pred_conv, bins=20, label='conv', histtype='step', fill=False)\n",
        "ax.hist(y_pred_rnn, bins=20, label='rnn', histtype='step', fill=False)\n",
        "plt.axvline(x=0.5, alpha=0.3, color='r', ls='--')\n",
        "ax.legend(loc='upper center')\n",
        "plt.show()\n"
      ]
    },
    {
      "cell_type": "code",
      "execution_count": 39,
      "metadata": {
        "id": "AfjPjL-djMZ0",
        "outputId": "45d99866-94b2-41bd-f14c-89cf2d06a145",
        "colab": {
          "base_uri": "https://localhost:8080/",
          "height": 320
        }
      },
      "outputs": [
        {
          "output_type": "display_data",
          "data": {
            "text/plain": [
              "<Figure size 720x360 with 1 Axes>"
            ],
            "image/png": "[encoded data removed]"
          },
          "metadata": {
            "needs_background": "light"
          }
        }
      ],
      "source": [
        "def plot_roc_auc(y_valid, y_pred, name):\n",
        "    fpr, tpr, thresholds = roc_curve(y_valid, y_pred)\n",
        "    roc_auc = auc(fpr, tpr)\n",
        "    plt.plot(fpr,tpr,label=f\"{name}, AUC=\"+str(roc_auc))\n",
        "\n",
        "fig, ax = plt.subplots(figsize=(10, 5))\n",
        "plot_roc_auc(y_val_conv, y_pred_conv, 'Conv')\n",
        "plot_roc_auc(y_val_rnn, y_pred_rnn, 'Rnn')\n",
        "ax.legend()\n",
        "plt.show()\n"
      ]
    },
    {
      "cell_type": "markdown",
      "metadata": {
        "id": "4fEaYxSIjMZ1"
      },
      "source": [
        "- Model konwolucyjny wykazywał większą pewność od modelu rekurencyjnego podczas klasyfikacji\n",
        "- Model konwolucyjny osiągnął większą dokładność od modelu rekurencyjnego\n",
        "- Oba modele szybko zaczęły się przeuczać"
      ]
    }
  ],
  "metadata": {
    "kernelspec": {
      "display_name": "Python 3 (ipykernel)",
      "language": "python",
      "name": "python3"
    },
    "language_info": {
      "codemirror_mode": {
        "name": "ipython",
        "version": 3
      },
      "file_extension": ".py",
      "mimetype": "text/x-python",
      "name": "python",
      "nbconvert_exporter": "python",
      "pygments_lexer": "ipython3",
      "version": "3.8.8"
    },
    "colab": {
      "name": "7. nondense_sentiment_classifiers.ipynb",
      "provenance": []
    },
    "accelerator": "GPU"
  },
  "nbformat": 4,
  "nbformat_minor": 0
}