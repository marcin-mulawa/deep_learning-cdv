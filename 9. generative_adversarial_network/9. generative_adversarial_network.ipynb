{
 "cells": [
  {
   "cell_type": "markdown",
   "metadata": {
    "colab_type": "text",
    "id": "CgOPd4Tncaae"
   },
   "source": [
    "# Quick, Draw GAN"
   ]
  },
  {
   "cell_type": "markdown",
   "metadata": {
    "colab_type": "text",
    "id": "CL2-Dw1Gcaak"
   },
   "source": [
    "**W tym notebooku użyjemy kodu generatywnej sieci współzawodniczącej (Generative Adversarial Network) zaapożyczonej od [Rowela Atienzy](https://github.com/roatienza/Deep-Learning-Experiments/blob/master/Experiments/Tensorflow/GAN/dcgan_mnist.py) na licencji [MIT](https://github.com/roatienza/Deep-Learning-Experiments/blob/master/LICENSE), by stworzyć szkice na wzór rysunków stworzonych przez ludzi grających w grę [*Quick, Draw!*](https://quickdraw.withgoogle.com) (dane dostępne [tutaj](https://github.com/googlecreativelab/quickdraw-dataset) na licencji [Creative Commons](https://creativecommons.org/licenses/by/4.0/)).**"
   ]
  },
  {
   "cell_type": "markdown",
   "metadata": {
    "colab_type": "text",
    "id": "oXlK4A-bcaau"
   },
   "source": [
    "#### Zaimportujmy zależności"
   ]
  },
  {
   "cell_type": "code",
   "execution_count": null,
   "metadata": {
    "colab": {},
    "colab_type": "code",
    "id": "Zo2M552dcaax"
   },
   "outputs": [],
   "source": [
    "import numpy as np\n",
    "import os\n",
    "\n",
    "import tensorflow\n",
    "from tensorflow.keras.models import Model\n",
    "from tensorflow.keras.layers import Input, Dense, Conv2D, Dropout\n",
    "from tensorflow.keras.layers import BatchNormalization, Flatten\n",
    "from tensorflow.keras.layers import Activation\n",
    "from tensorflow.keras.layers import Reshape\n",
    "from tensorflow.keras.layers import Conv2DTranspose, UpSampling2D\n",
    "from tensorflow.keras.optimizers import Nadam \n",
    "\n",
    "import pandas as pd\n",
    "from matplotlib import pyplot as plt\n",
    "%matplotlib inline"
   ]
  },
  {
   "cell_type": "markdown",
   "metadata": {
    "colab_type": "text",
    "id": "9Lg61gBKcaa7"
   },
   "source": [
    "#### Załadujmy dane\n",
    "Bitmapowe pliki Numpy, jak zwykle 28x28 pikseli, dostępne są [tutaj](https://console.cloud.google.com/storage/browser/quickdraw_dataset/full/numpy_bitmap) -- wybierz dowolną kategorię i z pomocą np. biblioteki requests pobierz plik."
   ]
  },
  {
   "cell_type": "code",
   "execution_count": null,
   "metadata": {},
   "outputs": [],
   "source": [
    "..."
   ]
  },
  {
   "cell_type": "code",
   "execution_count": null,
   "metadata": {
    "colab": {},
    "colab_type": "code",
    "id": "ejQ38dGScabE"
   },
   "outputs": [],
   "source": [
    "input_images = ..."
   ]
  },
  {
   "cell_type": "code",
   "execution_count": null,
   "metadata": {
    "colab": {},
    "colab_type": "code",
    "id": "yEPP0_pZcabM"
   },
   "outputs": [],
   "source": [
    "data = np.load(input_images)"
   ]
  },
  {
   "cell_type": "code",
   "execution_count": null,
   "metadata": {
    "colab": {
     "base_uri": "https://localhost:8080/",
     "height": 34
    },
    "colab_type": "code",
    "id": "iMDPiztHcabT",
    "outputId": "23577e72-e3ba-4cac-c40e-f04fac8bf47c"
   },
   "outputs": [],
   "source": [
    "data.shape"
   ]
  },
  {
   "cell_type": "code",
   "execution_count": null,
   "metadata": {
    "colab": {
     "base_uri": "https://localhost:8080/",
     "height": 1000
    },
    "colab_type": "code",
    "id": "mf_8n9OBcaba",
    "outputId": "032d63e5-4e85-440c-bc0f-d3937894ed1f"
   },
   "outputs": [],
   "source": [
    "data[2100]"
   ]
  },
  {
   "cell_type": "code",
   "execution_count": null,
   "metadata": {
    "colab": {
     "base_uri": "https://localhost:8080/",
     "height": 34
    },
    "colab_type": "code",
    "id": "GspZei4Ecabg",
    "outputId": "65200161-275a-4bee-ac2a-0ddfd8d4b938"
   },
   "outputs": [],
   "source": [
    "data = data/255\n",
    "data = np.reshape(data,(data.shape[0],28,28,1))\n",
    "img_w,img_h = data.shape[1:3]\n",
    "data.shape"
   ]
  },
  {
   "cell_type": "code",
   "execution_count": null,
   "metadata": {
    "colab": {
     "base_uri": "https://localhost:8080/",
     "height": 1000
    },
    "colab_type": "code",
    "id": "FvQTNzJjcabl",
    "outputId": "1eeeaa7e-9831-48f5-ae5e-61f8d2f63427"
   },
   "outputs": [],
   "source": [
    "data[2100]"
   ]
  },
  {
   "cell_type": "code",
   "execution_count": null,
   "metadata": {
    "colab": {
     "base_uri": "https://localhost:8080/",
     "height": 282
    },
    "colab_type": "code",
    "id": "-A7Npc8lcabr",
    "outputId": "f50a4af7-74d1-4178-b58c-0722459dbfac"
   },
   "outputs": [],
   "source": [
    "plt.imshow(data[4242,:,:,0], cmap='Greys')"
   ]
  },
  {
   "cell_type": "markdown",
   "metadata": {
    "colab_type": "text",
    "id": "cwNAZqXCcabx"
   },
   "source": [
    "#### Stwórzmy dyskryminator, który będziemy uczyć rozpoznawać obrazy"
   ]
  },
  {
   "cell_type": "code",
   "execution_count": null,
   "metadata": {
    "colab": {},
    "colab_type": "code",
    "id": "cRNBDJ15cabz"
   },
   "outputs": [],
   "source": [
    "def build_discriminator(depth=64, p=0.4):\n",
    "\n",
    "    # definiujemy wejście\n",
    "    image = Input((img_w,img_h,1))\n",
    "    \n",
    "    # tworzymy warstwy konwolucyjne\n",
    "    conv1 = Conv2D(depth*1, 5, strides=2, padding='same', activation='relu')(image)\n",
    "    conv1 = Dropout(p)(conv1)\n",
    "    \n",
    "    conv2 = Conv2D(depth*2, 5, strides=2, padding='same', activation='relu')(conv1)\n",
    "    conv2 = Dropout(p)(conv2)\n",
    "    \n",
    "    conv3 = Conv2D(depth*4, 5, strides=2, padding='same', activation='relu')(conv2)\n",
    "    conv3 = Dropout(p)(conv3)\n",
    "    \n",
    "    conv4 = Conv2D(depth*8, 5, strides=1, padding='same', activation='relu')(conv3)\n",
    "    conv4 = Flatten()(Dropout(p)(conv4))\n",
    "    \n",
    "    # warstwa wyjściowa\n",
    "    prediction = Dense(1, activation='sigmoid')(conv4)\n",
    "    \n",
    "    # definicja modelu\n",
    "    model = Model(inputs=image, outputs=prediction)\n",
    "    \n",
    "    return model"
   ]
  },
  {
   "cell_type": "code",
   "execution_count": null,
   "metadata": {
    "colab": {
     "base_uri": "https://localhost:8080/",
     "height": 89
    },
    "colab_type": "code",
    "id": "iRcVYtcncab4",
    "outputId": "11462148-a76b-43d7-e2f4-454c2a170f6e"
   },
   "outputs": [],
   "source": [
    "discriminator = build_discriminator()"
   ]
  },
  {
   "cell_type": "code",
   "execution_count": null,
   "metadata": {
    "colab": {
     "base_uri": "https://localhost:8080/",
     "height": 538
    },
    "colab_type": "code",
    "id": "M2A1U4lJcab9",
    "outputId": "c8214ac7-7986-472c-d0f0-330f90c9bc1d"
   },
   "outputs": [],
   "source": [
    "discriminator.summary()"
   ]
  },
  {
   "cell_type": "code",
   "execution_count": null,
   "metadata": {
    "colab": {},
    "colab_type": "code",
    "id": "BOPgsz9JcacK"
   },
   "outputs": [],
   "source": [
    "discriminator.compile(loss='binary_crossentropy', optimizer=Nadam(lr=0.0008, clipvalue=1.0), metrics=['accuracy'])"
   ]
  },
  {
   "cell_type": "markdown",
   "metadata": {
    "colab_type": "text",
    "id": "Z3yK5JL8cacQ"
   },
   "source": [
    "#### Stwórzmy sieć generatora, którą będziemy uczyć tworzyć obrazy"
   ]
  },
  {
   "cell_type": "code",
   "execution_count": null,
   "metadata": {
    "colab": {},
    "colab_type": "code",
    "id": "SWT37kKCcacR"
   },
   "outputs": [],
   "source": [
    "z_dimensions = 32"
   ]
  },
  {
   "cell_type": "code",
   "execution_count": null,
   "metadata": {
    "colab": {},
    "colab_type": "code",
    "id": "4OriG0BPcacV"
   },
   "outputs": [],
   "source": [
    "def build_generator(latent_dim=z_dimensions, depth=64, p=0.4):\n",
    "    \n",
    "    # zdefiniowanie wejść\n",
    "    noise = Input((latent_dim,))\n",
    "    \n",
    "    # pierwsza warstwa gęsta\n",
    "    dense1 = Dense(7*7*depth)(noise)\n",
    "    dense1 = BatchNormalization(momentum=0.9)(dense1)\n",
    "    dense1 = Activation(activation='relu')(dense1)\n",
    "    dense1 = Reshape((7,7,depth))(dense1)\n",
    "    dense1 = Dropout(p)(dense1)\n",
    "    \n",
    "    # sieci dekonwolucyjne\n",
    "    conv1 = UpSampling2D()(dense1)\n",
    "    conv1 = Conv2DTranspose(int(depth/2), kernel_size=5, padding='same', activation=None,)(conv1)\n",
    "    conv1 = BatchNormalization(momentum=0.9)(conv1)\n",
    "    conv1 = Activation(activation='relu')(conv1)\n",
    "    \n",
    "    conv2 = UpSampling2D()(conv1)\n",
    "    conv2 = Conv2DTranspose(int(depth/4), \n",
    "                            kernel_size=5, padding='same', \n",
    "                            activation=None,)(conv2)\n",
    "    conv2 = BatchNormalization(momentum=0.9)(conv2)\n",
    "    conv2 = Activation(activation='relu')(conv2)\n",
    "    \n",
    "    conv3 = Conv2DTranspose(int(depth/8), \n",
    "                            kernel_size=5, padding='same', \n",
    "                            activation=None,)(conv2)\n",
    "    conv3 = BatchNormalization(momentum=0.9)(conv3)\n",
    "    conv3 = Activation(activation='relu')(conv3)\n",
    "\n",
    "    # warstwa wyjściowa\n",
    "    image = Conv2D(1, kernel_size=5, padding='same', \n",
    "                   activation='sigmoid')(conv3)\n",
    "\n",
    "    # definicja modelu    \n",
    "    model = Model(inputs=noise, outputs=image)\n",
    "    \n",
    "    return model"
   ]
  },
  {
   "cell_type": "code",
   "execution_count": null,
   "metadata": {
    "colab": {},
    "colab_type": "code",
    "id": "eSiyoRcfcaca"
   },
   "outputs": [],
   "source": [
    "generator = build_generator()"
   ]
  },
  {
   "cell_type": "code",
   "execution_count": null,
   "metadata": {
    "colab": {
     "base_uri": "https://localhost:8080/",
     "height": 781
    },
    "colab_type": "code",
    "id": "XqZCl_Bacace",
    "outputId": "70ae0aa8-19a9-4b16-c1d7-5564f2983615"
   },
   "outputs": [],
   "source": [
    "generator.summary()"
   ]
  },
  {
   "cell_type": "markdown",
   "metadata": {
    "colab_type": "text",
    "id": "xfq_ISh-cack"
   },
   "source": [
    "#### Stwórzmy sieć współzawodniczącą..."
   ]
  },
  {
   "cell_type": "code",
   "execution_count": null,
   "metadata": {
    "colab": {},
    "colab_type": "code",
    "id": "M42c5nM8cacl"
   },
   "outputs": [],
   "source": [
    "z = Input(shape=(z_dimensions,))\n",
    "img = generator(z)"
   ]
  },
  {
   "cell_type": "code",
   "execution_count": null,
   "metadata": {
    "colab": {},
    "colab_type": "code",
    "id": "GCl7ji7-cacq"
   },
   "outputs": [],
   "source": [
    "discriminator.trainable = False"
   ]
  },
  {
   "cell_type": "code",
   "execution_count": null,
   "metadata": {
    "colab": {},
    "colab_type": "code",
    "id": "71sEohKlcacu"
   },
   "outputs": [],
   "source": [
    "pred = discriminator(img)"
   ]
  },
  {
   "cell_type": "code",
   "execution_count": null,
   "metadata": {
    "colab": {},
    "colab_type": "code",
    "id": "y59iXFpjcacy"
   },
   "outputs": [],
   "source": [
    "adversarial_model = Model(z, pred)"
   ]
  },
  {
   "cell_type": "code",
   "execution_count": null,
   "metadata": {
    "colab": {},
    "colab_type": "code",
    "id": "s3sxRe2Kcac2"
   },
   "outputs": [],
   "source": [
    "adversarial_model.compile(loss='binary_crossentropy', optimizer=Nadam(lr=0.0004, clipvalue=1.0), metrics=['accuracy'])"
   ]
  },
  {
   "cell_type": "markdown",
   "metadata": {
    "colab_type": "text",
    "id": "04Zkz_OPcac5"
   },
   "source": [
    "#### ... i nauczmy ją (w wieeelu epokach)"
   ]
  },
  {
   "cell_type": "code",
   "execution_count": null,
   "metadata": {},
   "outputs": [],
   "source": [
    "from tqdm import tqdm"
   ]
  },
  {
   "cell_type": "code",
   "execution_count": null,
   "metadata": {
    "colab": {},
    "colab_type": "code",
    "id": "g6yD1zoocac6"
   },
   "outputs": [],
   "source": [
    "def train(epochs=2000, batch=128, z_dim=z_dimensions):\n",
    "    \n",
    "    d_metrics = []\n",
    "    a_metrics = []\n",
    "    \n",
    "    running_d_loss = 0\n",
    "    running_d_acc = 0\n",
    "    running_a_loss = 0\n",
    "    running_a_acc = 0\n",
    "    \n",
    "    for i in tqdm(range(epochs)):\n",
    "        \n",
    "        # pobierzmy prawdziwe obrazy: \n",
    "        real_imgs = np.reshape(data[np.random.choice(data.shape[0], batch, replace=False)], (batch,28,28,1))\n",
    "        \n",
    "        # wygenerujmy sztuczne obrazy: \n",
    "        fake_imgs = generator.predict(np.random.uniform(-1.0, 1.0, size=[batch, z_dim]))\n",
    "        \n",
    "        # dodajmy do siebie oba zbiory tworząc w ten sposób wejście dyskrymintora:\n",
    "        x = np.concatenate((real_imgs,fake_imgs))\n",
    "        \n",
    "        # dodajmy etykiety: \n",
    "        y = np.ones([2*batch,1])\n",
    "        y[batch:,:] = 0\n",
    "        \n",
    "        # nauczmy dyskryminator: \n",
    "        d_metrics.append(discriminator.train_on_batch(x,y))\n",
    "        running_d_loss += d_metrics[-1][0]\n",
    "        running_d_acc += d_metrics[-1][1]\n",
    "        \n",
    "        # zaszumione wejście sieci współzawodniczącej oraz \"prawdziwe\" obrazy: \n",
    "        noise = np.random.uniform(-1.0, 1.0, size=[batch, z_dim])\n",
    "        y = np.ones([batch,1])\n",
    "        \n",
    "        # nauczmy sieć współzawodniczącą: \n",
    "        a_metrics.append(adversarial_model.train_on_batch(noise,y)) \n",
    "        running_a_loss += a_metrics[-1][0]\n",
    "        running_a_acc += a_metrics[-1][1]\n",
    "        \n",
    "        # co jakiś czas printujmy progres i fake'owe obrazy: \n",
    "        if (i+1)%20 == 0:\n",
    "\n",
    "            print('Epoch #{}'.format(i))\n",
    "            log_mesg = \"%d: [D loss: %f, acc: %f]\" % \\\n",
    "            (i, running_d_loss/i, running_d_acc/i)\n",
    "            log_mesg = \"%s  [A loss: %f, acc: %f]\" % \\\n",
    "            (log_mesg, running_a_loss/i, running_a_acc/i)\n",
    "            print(log_mesg)\n",
    "\n",
    "            noise = np.random.uniform(-1.0, 1.0, \n",
    "                                      size=[16, z_dim])\n",
    "            gen_imgs = generator.predict(noise)\n",
    "\n",
    "            plt.figure(figsize=(5,5))\n",
    "\n",
    "            for k in range(gen_imgs.shape[0]):\n",
    "                plt.subplot(4, 4, k+1)\n",
    "                plt.imshow(gen_imgs[k, :, :, 0], \n",
    "                           cmap='gray')\n",
    "                plt.axis('off')\n",
    "                \n",
    "            plt.tight_layout()\n",
    "            plt.show()\n",
    "    \n",
    "    return a_metrics, d_metrics"
   ]
  },
  {
   "cell_type": "code",
   "execution_count": null,
   "metadata": {
    "colab": {
     "base_uri": "https://localhost:8080/",
     "height": 1000
    },
    "colab_type": "code",
    "id": "g5sO1sgXcadA",
    "outputId": "a6badb70-d36a-4188-fc5e-ab4911ea9ede"
   },
   "outputs": [],
   "source": [
    "a_metrics_complete, d_metrics_complete = train()"
   ]
  },
  {
   "cell_type": "markdown",
   "metadata": {},
   "source": [
    "#### Statystyki"
   ]
  },
  {
   "cell_type": "code",
   "execution_count": null,
   "metadata": {
    "colab": {
     "base_uri": "https://localhost:8080/",
     "height": 312
    },
    "colab_type": "code",
    "id": "K6RmEQ_2cadE",
    "outputId": "70665eae-9b82-47a3-b2f6-ba2bb7a9a36b"
   },
   "outputs": [],
   "source": [
    "ax = pd.DataFrame(\n",
    "    {\n",
    "        'Adversarial': [metric[0] for metric in a_metrics_complete],\n",
    "        'Discriminator': [metric[0] for metric in d_metrics_complete],\n",
    "    }\n",
    ").plot(title='Training Loss', logy=True)\n",
    "ax.set_xlabel(\"Epochs\")\n",
    "ax.set_ylabel(\"Loss\")"
   ]
  },
  {
   "cell_type": "code",
   "execution_count": null,
   "metadata": {
    "colab": {
     "base_uri": "https://localhost:8080/",
     "height": 312
    },
    "colab_type": "code",
    "id": "I_2zzzyAcadH",
    "outputId": "7793c2b4-4f9b-424e-a940-df40d64374c2"
   },
   "outputs": [],
   "source": [
    "ax = pd.DataFrame(\n",
    "    {\n",
    "        'Adversarial': [metric[1] for metric in a_metrics_complete],\n",
    "        'Discriminator': [metric[1] for metric in d_metrics_complete],\n",
    "    }\n",
    ").plot(title='Training Accuracy')\n",
    "ax.set_xlabel(\"Epochs\")\n",
    "ax.set_ylabel(\"Accuracy\")"
   ]
  }
 ],
 "metadata": {
  "accelerator": "GPU",
  "colab": {
   "name": "generative_adversarial_network.ipynb",
   "provenance": []
  },
  "kernelspec": {
   "display_name": "Python 3 (ipykernel)",
   "language": "python",
   "name": "python3"
  },
  "language_info": {
   "codemirror_mode": {
    "name": "ipython",
    "version": 3
   },
   "file_extension": ".py",
   "mimetype": "text/x-python",
   "name": "python",
   "nbconvert_exporter": "python",
   "pygments_lexer": "ipython3",
   "version": "3.8.8"
  }
 },
 "nbformat": 4,
 "nbformat_minor": 1
}
