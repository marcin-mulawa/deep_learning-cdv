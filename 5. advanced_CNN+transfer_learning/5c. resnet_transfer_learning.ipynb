{
 "cells": [
  {
   "cell_type": "markdown",
   "id": "7a3713f9",
   "metadata": {},
   "source": [
    "# Transfer Learning - ResNet\n",
    "\n",
    "**Załadujemy gotowy model sieci rezydualnej i dostroimy go do nowego zadania**"
   ]
  },
  {
   "cell_type": "code",
   "execution_count": null,
   "id": "0b760794",
   "metadata": {},
   "outputs": [],
   "source": [
    "import matplotlib.pyplot as plt\n",
    "import numpy as np\n",
    "import PIL\n",
    "import tensorflow as tf\n",
    "from tensorflow.keras.layers import Dense,Flatten\n",
    "from tensorflow.keras.models import Sequential\n",
    "from tensorflow.keras.optimizers import Adam"
   ]
  },
  {
   "cell_type": "markdown",
   "id": "4f26cd0d",
   "metadata": {},
   "source": [
    "### Pobieramy dane i deklarujemy ich cechy"
   ]
  },
  {
   "cell_type": "code",
   "execution_count": null,
   "id": "264fb064",
   "metadata": {},
   "outputs": [],
   "source": [
    "import pathlib\n",
    "dataset_url = \"https://storage.googleapis.com/download.tensorflow.org/example_images/flower_photos.tgz\"\n",
    "data_dir = tf.keras.utils.get_file('flower_photos', origin=dataset_url, untar=True)\n",
    "data_dir = pathlib.Path(data_dir)"
   ]
  },
  {
   "cell_type": "code",
   "execution_count": null,
   "id": "870a03e7",
   "metadata": {},
   "outputs": [],
   "source": [
    "img_height,img_width=180,180\n",
    "batch_size=32"
   ]
  },
  {
   "cell_type": "markdown",
   "id": "41b05edc",
   "metadata": {},
   "source": [
    "### Tworzymy zbiory treningowy i walidacyjny za pomocą funkcji image_dataset_from_directory"
   ]
  },
  {
   "cell_type": "code",
   "execution_count": null,
   "id": "1cdc95ba",
   "metadata": {},
   "outputs": [],
   "source": [
    "train_ds = tf.keras.preprocessing.image_dataset_from_directory(\n",
    "  data_dir,\n",
    "  validation_split=0.2,\n",
    "  subset=\"training\",\n",
    "  seed=123,\n",
    "  image_size=(img_height, img_width),\n",
    "  batch_size=batch_size)"
   ]
  },
  {
   "cell_type": "code",
   "execution_count": null,
   "id": "8f00f431",
   "metadata": {},
   "outputs": [],
   "source": [
    "val_ds = tf.keras.preprocessing.image_dataset_from_directory(\n",
    "  data_dir,\n",
    "  validation_split=0.2,\n",
    "  subset=\"validation\",\n",
    "  seed=123,\n",
    "  image_size=(img_height, img_width),\n",
    "  batch_size=batch_size)"
   ]
  },
  {
   "cell_type": "markdown",
   "id": "491d0388",
   "metadata": {},
   "source": [
    "### Zobaczmy jak tym razem wyglądają dane"
   ]
  },
  {
   "cell_type": "code",
   "execution_count": null,
   "id": "ac621530",
   "metadata": {},
   "outputs": [],
   "source": [
    "import matplotlib.pyplot as plt\n",
    "\n",
    "plt.figure(figsize=(10, 10))\n",
    "for images, labels in train_ds.take(1):\n",
    "    for i in range(6):\n",
    "        ax = plt.subplot(3, 3, i + 1)\n",
    "        plt.imshow(images[i].numpy().astype(\"uint8\"))\n",
    "        plt.title(train_ds.class_names[labels[i]])\n",
    "        plt.axis(\"off\")"
   ]
  },
  {
   "cell_type": "markdown",
   "id": "65a2faaf",
   "metadata": {},
   "source": [
    "**Zadanie 5. Załaduj z biblioteki Keras model ResNet50 tak byś mógł dostroić go dla wgranego zbioru danych (bez douczania załadowanych warstw), z odpowiednim rozmiarem wejścia (pamiętaj że zdjęcia są kolorowe), z average_poolingiem, dla 5 klas wyjściowych i wag nauczonych na zbiorze imagenet.**\n",
    "\n",
    "**Następnie dodaj warstwę spłaszczającą, warstwę gęstą ReLu z 512 neuronami i warstwę pozwalającą sklasyfikować dane, skompiluj model z dowolnym optymalizatorem, metryką trafności i funkcją kosztu sparse_categorical_crossentropy i naucz sieć z walidacją w 10-20 epokach**"
   ]
  },
  {
   "cell_type": "code",
   "execution_count": null,
   "id": "e49565cf",
   "metadata": {},
   "outputs": [],
   "source": [
    "#tu załaduj model"
   ]
  },
  {
   "cell_type": "code",
   "execution_count": null,
   "id": "fd6a22af",
   "metadata": {},
   "outputs": [],
   "source": [
    "#tu dodaj warstwy"
   ]
  },
  {
   "cell_type": "code",
   "execution_count": null,
   "id": "f8066d4c",
   "metadata": {},
   "outputs": [],
   "source": [
    "resnet_model.summary()"
   ]
  },
  {
   "cell_type": "code",
   "execution_count": null,
   "id": "9590ea3e",
   "metadata": {},
   "outputs": [],
   "source": [
    "#tu skompiluj model\n",
    "\n",
    "history = #tu naucz sieć, zmienna history będzie nam potrzebna do wizualizacji danych"
   ]
  },
  {
   "cell_type": "markdown",
   "id": "0f672637",
   "metadata": {},
   "source": [
    "### Zobaczmy jak model się nauczył"
   ]
  },
  {
   "cell_type": "code",
   "execution_count": null,
   "id": "ebb0de7e",
   "metadata": {},
   "outputs": [],
   "source": [
    "fig1 = plt.gcf()\n",
    "plt.plot(history.history['accuracy'])\n",
    "plt.plot(history.history['val_accuracy'])\n",
    "plt.axis(ymin=0.4,ymax=1)\n",
    "plt.grid()\n",
    "plt.title('Model Accuracy')\n",
    "plt.ylabel('Accuracy')\n",
    "plt.xlabel('Epochs')\n",
    "plt.legend(['train', 'validation'])\n",
    "plt.show()"
   ]
  }
 ],
 "metadata": {
  "kernelspec": {
   "display_name": "Python 3 (ipykernel)",
   "language": "python",
   "name": "python3"
  },
  "language_info": {
   "codemirror_mode": {
    "name": "ipython",
    "version": 3
   },
   "file_extension": ".py",
   "mimetype": "text/x-python",
   "name": "python",
   "nbconvert_exporter": "python",
   "pygments_lexer": "ipython3",
   "version": "3.8.8"
  }
 },
 "nbformat": 4,
 "nbformat_minor": 5
}
