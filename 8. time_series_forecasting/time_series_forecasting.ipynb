{
 "cells": [
  {
   "cell_type": "markdown",
   "metadata": {
    "id": "pa49bUnKyRgF"
   },
   "source": [
    " # Prognozowanie szeregów czasowych (time series forecasting) "
   ]
  },
  {
   "cell_type": "markdown",
   "metadata": {
    "id": "GU8C5qm_4vZb"
   },
   "source": [
    "Ten tutorial autostwa tworców TensorFlow jest wstępem do prognozowania szeregów czasowych z użyciem tej biblioteki. Pokazuje jak zbudować kilka różnych rodzajó modeli dla tego problemu, uwzgędniając CNN i RNN\n",
    "Tutorial ma dwie części\n",
    "\n",
    "* Prognoza dla jednego kroku czasowego:\n",
    "  * przy jednej zmiennej.\n",
    "  * przy wielu zmiennych.\n",
    "* Prognoza dla wielu kroków czasowych\n",
    "  * Single-shot: prognoza wszystkich wartości naraz.\n",
    "  * Autoregresyjna: jedna wartość naraz i podanie jej z powrotem jako wejście do modelu w celu prognozy kolejnej wartości"
   ]
  },
  {
   "cell_type": "markdown",
   "metadata": {
    "id": "XVhK72Pu1cJL"
   },
   "source": [
    "## Zależności"
   ]
  },
  {
   "cell_type": "code",
   "execution_count": null,
   "metadata": {
    "id": "7rZnJaGTWQw0"
   },
   "outputs": [],
   "source": [
    "import os\n",
    "import datetime\n",
    "\n",
    "import IPython\n",
    "import IPython.display\n",
    "import matplotlib as mpl\n",
    "import matplotlib.pyplot as plt\n",
    "import numpy as np\n",
    "import pandas as pd\n",
    "import seaborn as sns\n",
    "import tensorflow as tf\n",
    "\n",
    "mpl.rcParams['figure.figsize'] = (8, 6)\n",
    "mpl.rcParams['axes.grid'] = False"
   ]
  },
  {
   "cell_type": "markdown",
   "metadata": {
    "id": "TokBlnUhWFw9"
   },
   "source": [
    "## Zbiór danych\n",
    "Tutorial używa zbioru <a href=\"https://www.bgc-jena.mpg.de/wetter/\" class=\"external\">weather time series dataset</a> zebranego przez <a href=\"https://www.bgc-jena.mpg.de\" class=\"external\">Max Planck Institute for Biogeochemistry</a>.\n",
    "\n",
    "Zawiera on 14 różnych cech takich jak temperatura powietrza, ciśnienie, wilgotność itd. Wartości były zbierane co 10 minut, od 2003 roku. Będziemy używać jedynie danych między 2009 a 2016 rokiem. Ta część została przygotowana przez François Cholleta do książki [Deep Learning with Python](https://www.manning.com/books/deep-learning-with-python)."
   ]
  },
  {
   "cell_type": "code",
   "execution_count": null,
   "metadata": {
    "colab": {
     "base_uri": "https://localhost:8080/",
     "height": 51
    },
    "id": "xyv_i85IWInT",
    "outputId": "dac09cf9-c6ed-419f-bc68-4ec6fd0b626b"
   },
   "outputs": [],
   "source": [
    "zip_path = tf.keras.utils.get_file(\n",
    "    origin='https://storage.googleapis.com/tensorflow/tf-keras-datasets/jena_climate_2009_2016.csv.zip',\n",
    "    fname='jena_climate_2009_2016.csv.zip',\n",
    "    extract=True)\n",
    "csv_path, _ = os.path.splitext(zip_path)"
   ]
  },
  {
   "cell_type": "markdown",
   "metadata": {
    "id": "R81Wx8WP4c3G"
   },
   "source": [
    "Będziemy działać na **odczytach cogodzinnych**, dokonajmy więc resamplingu danych z 10 minut na 1h:"
   ]
  },
  {
   "cell_type": "code",
   "execution_count": null,
   "metadata": {
    "id": "TX6uGeeeWIkG"
   },
   "outputs": [],
   "source": [
    "df = pd.read_csv(csv_path)\n",
    "# slice [start:stop:step], starting from index 5 take every 6th record.\n",
    "df = df[5::6]\n",
    "\n",
    "date_time = pd.to_datetime(df.pop('Date Time'), format='%d.%m.%Y %H:%M:%S')"
   ]
  },
  {
   "cell_type": "markdown",
   "metadata": {
    "id": "VdbOWXiTWM2T"
   },
   "source": [
    "Spójrzmy jak wyglądają dane:"
   ]
  },
  {
   "cell_type": "code",
   "execution_count": null,
   "metadata": {
    "colab": {
     "base_uri": "https://localhost:8080/",
     "height": 221
    },
    "id": "ojHE-iCCWIhz",
    "outputId": "6343d625-00a3-47ec-cd91-a1b81d8e7421"
   },
   "outputs": [],
   "source": [
    "df.head()"
   ]
  },
  {
   "cell_type": "markdown",
   "metadata": {
    "id": "WRzj1inMfgcO"
   },
   "source": [
    "A tak wygląda zmiana tych wartości w czasie"
   ]
  },
  {
   "cell_type": "code",
   "execution_count": null,
   "metadata": {
    "colab": {
     "base_uri": "https://localhost:8080/",
     "height": 739
    },
    "id": "Vg5XIc5tfNlG",
    "outputId": "a552865f-77de-4ab1-d428-29e831ee37a6"
   },
   "outputs": [],
   "source": [
    "plot_cols = ['T (degC)', 'p (mbar)', 'rho (g/m**3)']\n",
    "plot_features = df[plot_cols]\n",
    "plot_features.index = date_time\n",
    "_ = plot_features.plot(subplots=True)\n",
    "\n",
    "plot_features = df[plot_cols][:480]\n",
    "plot_features.index = date_time[:480]\n",
    "_ = plot_features.plot(subplots=True)"
   ]
  },
  {
   "cell_type": "markdown",
   "metadata": {
    "id": "wXWLG0_WBhZS"
   },
   "source": [
    "### Analiza i czyszczenie danych"
   ]
  },
  {
   "cell_type": "markdown",
   "metadata": {
    "id": "yhmZXJew6GlS"
   },
   "source": [
    "Spójrzmy na statystyki zbioru:"
   ]
  },
  {
   "cell_type": "code",
   "execution_count": null,
   "metadata": {
    "colab": {
     "base_uri": "https://localhost:8080/",
     "height": 483
    },
    "id": "h510pgKVrrai",
    "outputId": "2a2abed9-5e4e-4e55-bb4f-1baf3243f58b"
   },
   "outputs": [],
   "source": [
    "df.describe().transpose()"
   ]
  },
  {
   "cell_type": "markdown",
   "metadata": {
    "id": "TzOTnWOoWMGK"
   },
   "source": [
    "#### Prędkość wiatru (wind velocity)"
   ]
  },
  {
   "cell_type": "markdown",
   "metadata": {
    "id": "i47LiW5DCVsP"
   },
   "source": [
    "Jedna rzecz powinna zwrócić naszą uwagę - wartość kolumny `min` dla wierszy `wv (m/s)` and `max. wv (m/s)`. Wartość `-9999` jest zdecydowanie błędna. Istnieje oddzielny wiersz dla kierunku wiatru, więc prędkość powinna być `>=0`. Zastąpmy błędne wartość zerami."
   ]
  },
  {
   "cell_type": "code",
   "execution_count": null,
   "metadata": {
    "colab": {
     "base_uri": "https://localhost:8080/",
     "height": 34
    },
    "id": "qFOq0_80vF4d",
    "outputId": "38a76427-e63b-402d-e4c4-f9be2110f550"
   },
   "outputs": [],
   "source": [
    "wv = df['wv (m/s)']\n",
    "bad_wv = wv == -9999.0\n",
    "wv[bad_wv] = 0.0\n",
    "\n",
    "max_wv = df['max. wv (m/s)']\n",
    "bad_max_wv = max_wv == -9999.0\n",
    "max_wv[bad_max_wv] = 0.0\n",
    "\n",
    "# Spójrzmy czy w dataframe'ie też się to zmieniło\n",
    "df['wv (m/s)'].min()"
   ]
  },
  {
   "cell_type": "markdown",
   "metadata": {
    "id": "vtmu2IBPgPG8"
   },
   "source": [
    "### Inżynieria cech (feature enginnering)\n",
    "\n",
    "Przed przystąpieniem do tworzenia modelu ważne jest zrozumienie swoich danych i upewnienie się, że przekazujesz modelowi odpowiednio sformatowane dane."
   ]
  },
  {
   "cell_type": "markdown",
   "metadata": {
    "id": "FYyEaqiD6j4s"
   },
   "source": [
    "#### Wiatr\n",
    "Ostatnia kolumna danych, `wd (deg)`, podaje kierunek wiatru w jednostkach stopni. Kąty nie są dobrymi danymi wejściowymi do modelu, 360° i 0° powinny być zbliżone do siebie i płynnie owijać się wokół siebie. Kierunek nie powinien mieć znaczenia, jeśli wiatr nie wieje. \n",
    "\n",
    "W tej chwili rozkład danych dotyczących wiatru wygląda następująco:"
   ]
  },
  {
   "cell_type": "code",
   "execution_count": null,
   "metadata": {
    "colab": {
     "base_uri": "https://localhost:8080/",
     "height": 409
    },
    "id": "YO7JGTcWQG2z",
    "outputId": "f4c70300-b6fe-4397-927b-09f588ad28e5"
   },
   "outputs": [],
   "source": [
    "plt.hist2d(df['wd (deg)'], df['wv (m/s)'], bins=(50, 50), vmax=400)\n",
    "plt.colorbar()\n",
    "plt.xlabel('Wind Direction [deg]')\n",
    "plt.ylabel('Wind Velocity [m/s]')"
   ]
  },
  {
   "cell_type": "markdown",
   "metadata": {
    "id": "yWnf5dwMU1_g"
   },
   "source": [
    "Model będzie mógł to łatwiej zinterpretować, jeśli kolumny kierunku i prędkości wiatru zostaną zamienione na **wektor wiatru**:"
   ]
  },
  {
   "cell_type": "code",
   "execution_count": null,
   "metadata": {
    "id": "6GmSTHXw6lI1"
   },
   "outputs": [],
   "source": [
    "wv = df.pop('wv (m/s)')\n",
    "max_wv = df.pop('max. wv (m/s)')\n",
    "\n",
    "# Konwertujemy do radianów\n",
    "wd_rad = df.pop('wd (deg)')*np.pi / 180\n",
    "\n",
    "# Obliczamy składowe x i y wiatru.\n",
    "df['Wx'] = wv*np.cos(wd_rad)\n",
    "df['Wy'] = wv*np.sin(wd_rad)\n",
    "\n",
    "# Obliczamy maksymalne składowe x i y wiatru\n",
    "df['max Wx'] = max_wv*np.cos(wd_rad)\n",
    "df['max Wy'] = max_wv*np.sin(wd_rad)"
   ]
  },
  {
   "cell_type": "markdown",
   "metadata": {
    "id": "7iI0zDoxWDyB"
   },
   "source": [
    "Rozkład wektorów wiatru jest znacznie prostszy do prawidłowej interpretacji przez model."
   ]
  },
  {
   "cell_type": "code",
   "execution_count": null,
   "metadata": {
    "colab": {
     "base_uri": "https://localhost:8080/",
     "height": 409
    },
    "id": "bMgCG5o2SYKD",
    "outputId": "32252d00-2b95-4b95-ba6a-81591fd89f39"
   },
   "outputs": [],
   "source": [
    "plt.hist2d(df['Wx'], df['Wy'], bins=(50, 50), vmax=400)\n",
    "plt.colorbar()\n",
    "plt.xlabel('Wind X [m/s]')\n",
    "plt.ylabel('Wind Y [m/s]')\n",
    "ax = plt.gca()\n",
    "ax.axis('tight')"
   ]
  },
  {
   "cell_type": "markdown",
   "metadata": {
    "id": "_8im1ttOWlRB"
   },
   "source": [
    "#### Czas"
   ]
  },
  {
   "cell_type": "markdown",
   "metadata": {
    "id": "7YE21HKK40zQ"
   },
   "source": [
    "Kolumna `Date Time` jest użyteczna ale nie w formie łańcucha znaków, zamieńmy ją na timestamp:"
   ]
  },
  {
   "cell_type": "code",
   "execution_count": null,
   "metadata": {
    "id": "LIFf-VjMfnh3"
   },
   "outputs": [],
   "source": [
    "timestamp_s = date_time.map(datetime.datetime.timestamp)"
   ]
  },
  {
   "cell_type": "markdown",
   "metadata": {
    "id": "EC_pnM1D5Sgc"
   },
   "source": [
    "Czas w sekundach nadal jednak nie odwzorowuje dobrze cykliczności czasu. Prostym sposobem odwzorowania tej cykliczności pory dnia i pory roku jest zastosowanie funkcji `sin` i `cos`"
   ]
  },
  {
   "cell_type": "code",
   "execution_count": null,
   "metadata": {
    "id": "MBfX6CDwax73"
   },
   "outputs": [],
   "source": [
    "day = 24*60*60\n",
    "year = (365.2425)*day\n",
    "\n",
    "df['Day sin'] = np.sin(timestamp_s * (2 * np.pi / day))\n",
    "df['Day cos'] = np.cos(timestamp_s * (2 * np.pi / day))\n",
    "df['Year sin'] = np.sin(timestamp_s * (2 * np.pi / year))\n",
    "df['Year cos'] = np.cos(timestamp_s * (2 * np.pi / year))"
   ]
  },
  {
   "cell_type": "code",
   "execution_count": null,
   "metadata": {
    "colab": {
     "base_uri": "https://localhost:8080/",
     "height": 421
    },
    "id": "mXBbTJZfuuTC",
    "outputId": "8882fc7c-cdbd-489d-aca7-2720eedc8c0c"
   },
   "outputs": [],
   "source": [
    "plt.plot(np.array(df['Day sin'])[:25])\n",
    "plt.plot(np.array(df['Day cos'])[:25])\n",
    "plt.xlabel('Time [h]')\n",
    "plt.title('Time of day signal')"
   ]
  },
  {
   "cell_type": "markdown",
   "metadata": {
    "id": "HiurzTGQgf_D"
   },
   "source": [
    "W ten sposób model uzyskuje dostęp do najważniejszych cech częstotliwości. W tym przypadku wiedzieliśmy już wcześniej, które częstotliwości są ważne. \n",
    "\n",
    "Jeśli nie jest to wiadome, można to określić, używając `fft` (czyli szybkiej transformacji Fouriera). Aby sprawdzić nasze założenia, oto wykres `tf.signal.rfft` temperatury w czasie. Zwróć uwagę na wyraźne szczyty przy częstotliwościach bliskich `1/rok` i `1/dzień`: "
   ]
  },
  {
   "cell_type": "code",
   "execution_count": null,
   "metadata": {
    "colab": {
     "base_uri": "https://localhost:8080/",
     "height": 392
    },
    "id": "EN4U1fcMiTYs",
    "outputId": "80da804e-797d-4368-b482-611f55f26736"
   },
   "outputs": [],
   "source": [
    "fft = tf.signal.rfft(df['T (degC)'])\n",
    "f_per_dataset = np.arange(0, len(fft))\n",
    "\n",
    "n_samples_h = len(df['T (degC)'])\n",
    "hours_per_year = 24*365.2524\n",
    "years_per_dataset = n_samples_h/(hours_per_year)\n",
    "\n",
    "f_per_year = f_per_dataset/years_per_dataset\n",
    "plt.step(f_per_year, np.abs(fft))\n",
    "plt.xscale('log')\n",
    "plt.ylim(0, 400000)\n",
    "plt.xlim([0.1, max(plt.xlim())])\n",
    "plt.xticks([1, 365.2524], labels=['1/Year', '1/day'])\n",
    "_ = plt.xlabel('Frequency (log scale)')"
   ]
  },
  {
   "cell_type": "markdown",
   "metadata": {
    "id": "2rbL8bSGDHy3"
   },
   "source": [
    "### Podzielmy dane"
   ]
  },
  {
   "cell_type": "markdown",
   "metadata": {
    "id": "qoFJZmXBaxCc"
   },
   "source": [
    "Użyjemy podziału `(70%, 20%, 10%)` dla terningu, walidacji i testu. Zauważ że nie mieszamy danych losowo, przy danych sekwencyjnych nie jest to pomocne."
   ]
  },
  {
   "cell_type": "code",
   "execution_count": null,
   "metadata": {
    "id": "ia-MPAHxbInX"
   },
   "outputs": [],
   "source": [
    "column_indices = {name: i for i, name in enumerate(df.columns)}\n",
    "\n",
    "n = len(df)\n",
    "train_df = df[0:int(n*0.7)]\n",
    "val_df = df[int(n*0.7):int(n*0.9)]\n",
    "test_df = df[int(n*0.9):]\n",
    "\n",
    "num_features = df.shape[1]"
   ]
  },
  {
   "cell_type": "markdown",
   "metadata": {
    "id": "-eFckdUUHWmT"
   },
   "source": [
    "### Znormalizujmy dane\n",
    "\n",
    "normalizujemy dane z użyciem wyłącznie średniej i odchylenia standardowego danych treningowych"
   ]
  },
  {
   "cell_type": "code",
   "execution_count": null,
   "metadata": {
    "id": "Eji6njXvHusN"
   },
   "outputs": [],
   "source": [
    "train_mean = train_df.mean()\n",
    "train_std = train_df.std()\n",
    "\n",
    "train_df = (train_df - train_mean) / train_std\n",
    "val_df = (val_df - train_mean) / train_std\n",
    "test_df = (test_df - train_mean) / train_std"
   ]
  },
  {
   "cell_type": "markdown",
   "metadata": {
    "id": "G6ufs8kk9JQw"
   },
   "source": [
    "Zobaczmy rozkład danych, niektóre z nich mają długie \"ogony\" ale nie pojawiają się oczywiste błędy jak ujemna prędkość wiatru"
   ]
  },
  {
   "cell_type": "code",
   "execution_count": null,
   "metadata": {
    "colab": {
     "base_uri": "https://localhost:8080/",
     "height": 467
    },
    "id": "T0UYEnkwm8Fe",
    "outputId": "3a56b5bd-a307-4c45-dafe-a2918be967a6"
   },
   "outputs": [],
   "source": [
    "df_std = (df - train_mean) / train_std\n",
    "df_std = df_std.melt(var_name='Column', value_name='Normalized')\n",
    "plt.figure(figsize=(12, 6))\n",
    "ax = sns.violinplot(x='Column', y='Normalized', data=df_std)\n",
    "_ = ax.set_xticklabels(df.keys(), rotation=90)"
   ]
  },
  {
   "cell_type": "markdown",
   "metadata": {
    "id": "ZBBmdxZ2HgfJ"
   },
   "source": [
    "## Okienkowanie danych (Data windowing)\n",
    "\n",
    "Modele w tym samouczku wykonują zestaw przewidywań na podstawie okna kolejnych próbek danych. \n",
    "\n",
    "Główne cechy okien wejściowych to:\n",
    "\n",
    "* Szerokość (liczba kroków czasowych) okna wejściowego i okna etykiet.\n",
    "* Przesunięcie czasowe między nimi.\n",
    "* Które cechy są używane jako dane wejściowe, etykiety lub obie. \n",
    "\n",
    "Tutorial buduje różne modele (w tym modele liniowe, DNN, CNN i RNN) i wykorzystuje je zarówno do:\n",
    "\n",
    "* *Single-output* (jednowyjściowych) i *multi-output* (wielowyjściowych) prognoz\n",
    "* *Single-time-step* (jednokrokowych) i *multi-time-step* (wielokrokowych) predictions.\n",
    "\n",
    "W tym rozdziale skupiono się na implementacji okienkowania danych w taki sposób, aby można je było ponownie wykorzystać we wszystkich tych modelach."
   ]
  },
  {
   "cell_type": "markdown",
   "metadata": {
    "id": "YAhGUVx1jtOy"
   },
   "source": [
    "W zależności od zadania i typu modelu może być konieczne wygenerowanie różnych okien danych. Oto kilka przykładów:\n",
    "\n",
    "1. Na przykład, aby dokonać pojedynczej prognozy na 24 godziny w przyszłości, biorąc pod uwagę 24 godziny historii, można zdefiniować takie okno:\n",
    "\n",
    "  ![One prediction 24h into the future.](https://github.com/tensorflow/docs/blob/master/site/en/tutorials/structured_data/images/raw_window_24h.png?raw=1)\n",
    "\n",
    "2. Model, który przewiduje 1 godzinę w przyszłości, mając do dyspozycji 6 godzin historii, musiałby mieć takie okno:\n",
    "\n",
    "  ![One prediction 1h into the future.](https://github.com/tensorflow/docs/blob/master/site/en/tutorials/structured_data/images/raw_window_1h.png?raw=1)"
   ]
  },
  {
   "cell_type": "markdown",
   "metadata": {
    "id": "sa2BbfNZt8wy"
   },
   "source": [
    "Pozostała część tej sekcji definiuje klasę `WindowGenerator`. Klasa ta może:\n",
    "\n",
    "1. Obsługiwać indeksy i przesunięcia, jak pokazano na diagramach powyżej.\n",
    "1. Rozdzielać okna cech na pary `(cechy, etykiety)`.\n",
    "2. Zwizualizować zawartość powstałych w ten sposób okien.\n",
    "3. Efektywnie wygenerować batche tych okien z danych treningowych, ewaluacyjnych i testowych, używając `tf.data.Dataset`."
   ]
  },
  {
   "cell_type": "markdown",
   "metadata": {
    "id": "rfx3jGjyziUF"
   },
   "source": [
    "### 1. Indeksy i przesunięcia\n",
    "\n",
    "Zacznijmy od utworzenia klasy `WindowGenerator`. Metoda `__init__` zawiera całą niezbędną logikę dla indeksów wejściowych i etykiet.\n",
    "\n",
    "Pobiera ona również ramki danych train, eval i test jako dane wejściowe. Zostaną one później przekonwertowane do `tf.data.Dataset` dla okien."
   ]
  },
  {
   "cell_type": "code",
   "execution_count": null,
   "metadata": {
    "id": "Kem30j8QHxyW"
   },
   "outputs": [],
   "source": [
    "class WindowGenerator():\n",
    "  def __init__(self, input_width, label_width, shift,\n",
    "               train_df=train_df, val_df=val_df, test_df=test_df,\n",
    "               label_columns=None):\n",
    "    # Przechowujemy dane wejściowe.\n",
    "    self.train_df = train_df\n",
    "    self.val_df = val_df\n",
    "    self.test_df = test_df\n",
    "\n",
    "    # Oblicz indeksy kolumn etykiet.\n",
    "    self.label_columns = label_columns\n",
    "    if label_columns is not None:\n",
    "      self.label_columns_indices = {name: i for i, name in\n",
    "                                    enumerate(label_columns)}\n",
    "    self.column_indices = {name: i for i, name in\n",
    "                           enumerate(train_df.columns)}\n",
    "\n",
    "    # Oblicz parametry okna.\n",
    "    self.input_width = input_width\n",
    "    self.label_width = label_width\n",
    "    self.shift = shift\n",
    "\n",
    "    self.total_window_size = input_width + shift\n",
    "\n",
    "    self.input_slice = slice(0, input_width)\n",
    "    self.input_indices = np.arange(self.total_window_size)[self.input_slice]\n",
    "\n",
    "    self.label_start = self.total_window_size - self.label_width\n",
    "    self.labels_slice = slice(self.label_start, None)\n",
    "    self.label_indices = np.arange(self.total_window_size)[self.labels_slice]\n",
    "\n",
    "  def __repr__(self):\n",
    "    return '\\n'.join([\n",
    "        f'Total window size: {self.total_window_size}',\n",
    "        f'Input indices: {self.input_indices}',\n",
    "        f'Label indices: {self.label_indices}',\n",
    "        f'Label column name(s): {self.label_columns}'])"
   ]
  },
  {
   "cell_type": "markdown",
   "metadata": {
    "id": "yVJgblsYzL1g"
   },
   "source": [
    "Poniżej znajduje się kod umożliwiający utworzenie dwóch okien pokazanych na diagramach na początku tego rozdziału:"
   ]
  },
  {
   "cell_type": "code",
   "execution_count": null,
   "metadata": {
    "colab": {
     "base_uri": "https://localhost:8080/",
     "height": 85
    },
    "id": "IsM5kRkz0UwK",
    "outputId": "a15a5f66-4011-4b1f-f6f1-363b47bad0f5"
   },
   "outputs": [],
   "source": [
    "w1 = WindowGenerator(input_width=24, label_width=1, shift=24,\n",
    "                     label_columns=['T (degC)'])\n",
    "w1"
   ]
  },
  {
   "cell_type": "code",
   "execution_count": null,
   "metadata": {
    "colab": {
     "base_uri": "https://localhost:8080/",
     "height": 85
    },
    "id": "viwKsYeAKFUn",
    "outputId": "b1970630-caed-4061-f03b-687597fce534"
   },
   "outputs": [],
   "source": [
    "w2 = WindowGenerator(input_width=6, label_width=1, shift=1,\n",
    "                     label_columns=['T (degC)'])\n",
    "w2"
   ]
  },
  {
   "cell_type": "markdown",
   "metadata": {
    "id": "kJaUyTWQJd-L"
   },
   "source": [
    "### 2. Split\n",
    "Metoda `split_window`, mając do dyspozycji listę kolejnych wejść, przekształca je w okno wejść i okno etykiet.\n",
    "\n",
    "Powyższy przykład `w2` zostanie podzielony w ten sposób:\n",
    "\n",
    "![The initial window is all consecuitive samples, this splits it into an (inputs, labels) pairs](https://github.com/tensorflow/docs/blob/master/site/en/tutorials/structured_data/images/split_window.png?raw=1)\n",
    "\n",
    "Ten diagram nie pokazuje osi `cech` danych, ale funkcja `split_window` obsługuje również `label_columns`, więc może być używana zarówno dla przykładów z jednym wyjściem, jak i z wieloma wyjściami."
   ]
  },
  {
   "cell_type": "code",
   "execution_count": null,
   "metadata": {
    "id": "W4KbxfzqkXPW"
   },
   "outputs": [],
   "source": [
    "def split_window(self, features):\n",
    "  inputs = features[:, self.input_slice, :]\n",
    "  labels = features[:, self.labels_slice, :]\n",
    "  if self.label_columns is not None:\n",
    "    labels = tf.stack(\n",
    "        [labels[:, :, self.column_indices[name]] for name in self.label_columns],\n",
    "        axis=-1)\n",
    "\n",
    "  # Slicing nie zachowuje statycznych informacji o kształcie, więc należy ustawić kształty ręcznie. W ten sposób zbiory danych `tf.data.Datasets` są łatwiejsze do sprawdzenia.\n",
    "  inputs.set_shape([None, self.input_width, None])\n",
    "  labels.set_shape([None, self.label_width, None])\n",
    "\n",
    "  return inputs, labels\n",
    "\n",
    "WindowGenerator.split_window = split_window"
   ]
  },
  {
   "cell_type": "markdown",
   "metadata": {
    "id": "G6U6VtVuM15s"
   },
   "source": [
    "Try it out:"
   ]
  },
  {
   "cell_type": "code",
   "execution_count": null,
   "metadata": {
    "colab": {
     "base_uri": "https://localhost:8080/",
     "height": 85
    },
    "id": "YeCWbq6KLmL7",
    "outputId": "277df4bb-9250-4adc-ae30-0aec877502ab"
   },
   "outputs": [],
   "source": [
    "# Stwórzmy stos trzech slice'ów o długości całego okna:\n",
    "example_window = tf.stack([np.array(train_df[:w2.total_window_size]),\n",
    "                           np.array(train_df[100:100+w2.total_window_size]),\n",
    "                           np.array(train_df[200:200+w2.total_window_size])])\n",
    "\n",
    "\n",
    "example_inputs, example_labels = w2.split_window(example_window)\n",
    "\n",
    "print('All shapes are: (batch, time, features)')\n",
    "print(f'Window shape: {example_window.shape}')\n",
    "print(f'Inputs shape: {example_inputs.shape}')\n",
    "print(f'labels shape: {example_labels.shape}')"
   ]
  },
  {
   "cell_type": "markdown",
   "metadata": {},
   "source": [
    "Zazwyczaj dane w TensorFlow są upakowane w arraye, w których najbardziej zewnętrzny indeks dotyczy przykładów (wymiar \"batchu\"). Indeksy środkowe to wymiar (wymiary) \"czasowy\" lub \"przestrzenny\" (szerokość, wysokość). Najbardziej wewnętrzne indeksy to cechy.\n",
    "\n",
    "Powyższy kod wziął batch 3 okien o 7 krokach czasowych, z 19 cechami na każdym kroku czasowym. Podzielił je na batch 6 okien o 6 krokach czasowych i 19 cechach wejściowych oraz na etykietę z 1 cechą w 1 kroku czasowym. Etykieta ma tylko jedną cechę, ponieważ `WindowGenerator` został zainicjowany tylko z `label_columns=['T (degC)']`. Początkowo ten samouczek będzie budował modele przewidujące pojedyncze etykiety wyjściowe."
   ]
  },
  {
   "cell_type": "markdown",
   "metadata": {
    "id": "tFZukGXrJoGo"
   },
   "source": [
    "### 3. Wizualizacja\n",
    "\n",
    "Poniżej przedstawiono metodę tworzenia wykresu, która umożliwia prostą wizualizację podzielonego okna:"
   ]
  },
  {
   "cell_type": "code",
   "execution_count": null,
   "metadata": {
    "id": "fmgd1qkYUWT7"
   },
   "outputs": [],
   "source": [
    "w2.example = example_inputs, example_labels"
   ]
  },
  {
   "cell_type": "code",
   "execution_count": null,
   "metadata": {
    "id": "jIrYccI-Hm3B"
   },
   "outputs": [],
   "source": [
    "def plot(self, model=None, plot_col='T (degC)', max_subplots=3):\n",
    "  inputs, labels = self.example\n",
    "  plt.figure(figsize=(12, 8))\n",
    "  plot_col_index = self.column_indices[plot_col]\n",
    "  max_n = min(max_subplots, len(inputs))\n",
    "  for n in range(max_n):\n",
    "    plt.subplot(3, 1, n+1)\n",
    "    plt.ylabel(f'{plot_col} [normed]')\n",
    "    plt.plot(self.input_indices, inputs[n, :, plot_col_index],\n",
    "             label='Inputs', marker='.', zorder=-10)\n",
    "\n",
    "    if self.label_columns:\n",
    "      label_col_index = self.label_columns_indices.get(plot_col, None)\n",
    "    else:\n",
    "      label_col_index = plot_col_index\n",
    "\n",
    "    if label_col_index is None:\n",
    "      continue\n",
    "\n",
    "    plt.scatter(self.label_indices, labels[n, :, label_col_index],\n",
    "                edgecolors='k', label='Labels', c='#2ca02c', s=64)\n",
    "    if model is not None:\n",
    "      predictions = model(inputs)\n",
    "      plt.scatter(self.label_indices, predictions[n, :, label_col_index],\n",
    "                  marker='X', edgecolors='k', label='Predictions',\n",
    "                  c='#ff7f0e', s=64)\n",
    "\n",
    "    if n == 0:\n",
    "      plt.legend()\n",
    "\n",
    "  plt.xlabel('Time [h]')\n",
    "\n",
    "WindowGenerator.plot = plot"
   ]
  },
  {
   "cell_type": "markdown",
   "metadata": {
    "id": "HXvctEuK68vX"
   },
   "source": [
    "Ten wykres wyrównuje dane wejściowe, etykiety i (później) przewidywania na podstawie czasu, do którego odnosi się dany element:"
   ]
  },
  {
   "cell_type": "code",
   "execution_count": null,
   "metadata": {
    "colab": {
     "base_uri": "https://localhost:8080/",
     "height": 497
    },
    "id": "XjTqUnglOOni",
    "outputId": "31396881-1a24-475d-fe66-673f01bc9774"
   },
   "outputs": [],
   "source": [
    "w2.plot()"
   ]
  },
  {
   "cell_type": "markdown",
   "metadata": {
    "id": "UqiqcPOldPG6"
   },
   "source": [
    "Można wykreślić inne kolumny, ale przykładowa konfiguracja okna `w2` ma etykiety tylko dla kolumny `T (degC)`."
   ]
  },
  {
   "cell_type": "code",
   "execution_count": null,
   "metadata": {
    "colab": {
     "base_uri": "https://localhost:8080/",
     "height": 497
    },
    "id": "EBRe4wnlfCH8",
    "outputId": "0463c5f8-0506-48db-aebe-d9e418a8f4d3"
   },
   "outputs": [],
   "source": [
    "w2.plot(plot_col='p (mbar)')"
   ]
  },
  {
   "cell_type": "markdown",
   "metadata": {
    "id": "xCvD-UaUzYMw"
   },
   "source": [
    "### 4. Tworzenie `tf.data.Dataset`"
   ]
  },
  {
   "cell_type": "markdown",
   "metadata": {
    "id": "kLO3SFR9Osdf"
   },
   "source": [
    "Finalnie metoda `make_dataset` pobierze szereg czasowy `DataFrame` i przekształci go w `tf.data.Dataset` dla par `(input_window, label_window)` przy użyciu funkcji `preprocessing.timeseries_dataset_from_array`."
   ]
  },
  {
   "cell_type": "code",
   "execution_count": null,
   "metadata": {
    "id": "35qoSQeRVfJg"
   },
   "outputs": [],
   "source": [
    "def make_dataset(self, data):\n",
    "  data = np.array(data, dtype=np.float32)\n",
    "  ds = tf.keras.preprocessing.timeseries_dataset_from_array(\n",
    "      data=data,\n",
    "      targets=None,\n",
    "      sequence_length=self.total_window_size,\n",
    "      sequence_stride=1,\n",
    "      shuffle=True,\n",
    "      batch_size=32,)\n",
    "\n",
    "  ds = ds.map(self.split_window)\n",
    "\n",
    "  return ds\n",
    "\n",
    "WindowGenerator.make_dataset = make_dataset"
   ]
  },
  {
   "cell_type": "markdown",
   "metadata": {
    "id": "LvsxQwJaCift"
   },
   "source": [
    "Obiekt `WindowGenerator` przechowuje dane treningowe, walidacyjne i testowe. Dodajmy właściwości umożliwiające dostęp do nich jako `tf.data.Datasets` za pomocą powyższej metody `make_dataset`. Dodajmy również standardowy przykładowy batch dla łatwego dostępu i tworzenia wykresów:"
   ]
  },
  {
   "cell_type": "code",
   "execution_count": null,
   "metadata": {
    "id": "2jZ2KkqGCfzu"
   },
   "outputs": [],
   "source": [
    "@property\n",
    "def train(self):\n",
    "  return self.make_dataset(self.train_df)\n",
    "\n",
    "@property\n",
    "def val(self):\n",
    "  return self.make_dataset(self.val_df)\n",
    "\n",
    "@property\n",
    "def test(self):\n",
    "  return self.make_dataset(self.test_df)\n",
    "\n",
    "@property\n",
    "def example(self):\n",
    "  \"\"\"Get and cache an example batch of `inputs, labels` for plotting.\"\"\"\n",
    "  result = getattr(self, '_example', None)\n",
    "  if result is None:\n",
    "    # Żaden batch nie został znaleziony, więc pobierzmy jeden ze zbioru `.train`\n",
    "    result = next(iter(self.train))\n",
    "    # i zachowajmy go\n",
    "    self._example = result\n",
    "  return result\n",
    "\n",
    "WindowGenerator.train = train\n",
    "WindowGenerator.val = val\n",
    "WindowGenerator.test = test\n",
    "WindowGenerator.example = example"
   ]
  },
  {
   "cell_type": "markdown",
   "metadata": {
    "id": "fF_Vj6Iw3Y2w"
   },
   "source": [
    "Teraz obiekt `WindowGenerator` daje dostęp do obiektów `tf.data.Dataset`, dzięki czemu można łatwo iterować po danych.\n",
    "\n",
    "Właściwość `Dataset.element_spec` mówi o strukturze, `dtypes` i kształtach elementów zbioru danych."
   ]
  },
  {
   "cell_type": "code",
   "execution_count": null,
   "metadata": {
    "colab": {
     "base_uri": "https://localhost:8080/",
     "height": 51
    },
    "id": "daJ0-U383YVs",
    "outputId": "bbf9ddba-f2e8-448b-ba22-7166f434742b"
   },
   "outputs": [],
   "source": [
    "# Każdy element to para (wejścia, etykieta)\n",
    "w2.train.element_spec"
   ]
  },
  {
   "cell_type": "markdown",
   "metadata": {
    "id": "XKTx3_Z7ua-n"
   },
   "source": [
    "Iteracja po zbiorze danych daje teraz konkretne batche:"
   ]
  },
  {
   "cell_type": "code",
   "execution_count": null,
   "metadata": {
    "colab": {
     "base_uri": "https://localhost:8080/",
     "height": 51
    },
    "id": "6gtKXEgf4Iml",
    "outputId": "f2147857-094c-412d-c4a2-83a00992e892"
   },
   "outputs": [],
   "source": [
    "for example_inputs, example_labels in w2.train.take(1):\n",
    "  print(f'Inputs shape (batch, time, features): {example_inputs.shape}')\n",
    "  print(f'Labels shape (batch, time, features): {example_labels.shape}')"
   ]
  },
  {
   "cell_type": "markdown",
   "metadata": {
    "id": "LyuGuJUgjUK3"
   },
   "source": [
    "## Modele jednokrokowe\n",
    "\n",
    "Najprostszym modelem, jaki można zbudować na tego typu danych, jest model przewidujący wartość pojedynczej cechy, 1 krok czasowy (1h) w przyszłości, tylko na podstawie bieżących warunków.\n",
    "\n",
    "Zacznijmy więc od zbudowania modelu przewidującego wartość `T (degC)` na 1h w przyszłości.\n",
    "\n",
    "![Predict the next time step](https://github.com/tensorflow/docs/blob/master/site/en/tutorials/structured_data/images/narrow_window.png?raw=1)\n",
    "\n",
    "Skonfigurujmy obiekt `WindowGenerator` do tworzenia takich jednokrokowych par `(input, label)`:"
   ]
  },
  {
   "cell_type": "code",
   "execution_count": null,
   "metadata": {
    "colab": {
     "base_uri": "https://localhost:8080/",
     "height": 85
    },
    "id": "G5QX1G1JTPCr",
    "outputId": "7521eef3-b3a4-481a-847e-7f2d88975acb"
   },
   "outputs": [],
   "source": [
    "single_step_window = WindowGenerator(\n",
    "    input_width=1, label_width=1, shift=1,\n",
    "    label_columns=['T (degC)'])\n",
    "single_step_window"
   ]
  },
  {
   "cell_type": "markdown",
   "metadata": {
    "id": "RKTm8ajVGw4N"
   },
   "source": [
    "Obiekt `window` tworzy `tf.data.Datasets` ze zbiorów treningowych, walidacyjnych i testowych, co pozwala na łatwe iterowanie po batchach danych."
   ]
  },
  {
   "cell_type": "code",
   "execution_count": null,
   "metadata": {
    "colab": {
     "base_uri": "https://localhost:8080/",
     "height": 51
    },
    "id": "Do4ILUaBF8oc",
    "outputId": "51b0d65e-d886-40c9-a099-17a05e4e4171"
   },
   "outputs": [],
   "source": [
    "for example_inputs, example_labels in single_step_window.train.take(1):\n",
    "  print(f'Inputs shape (batch, time, features): {example_inputs.shape}')\n",
    "  print(f'Labels shape (batch, time, features): {example_labels.shape}')"
   ]
  },
  {
   "cell_type": "markdown",
   "metadata": {
    "id": "D1bbPiR3VAm_"
   },
   "source": [
    "### Baseline (model trywialny)\n",
    "\n",
    "Przed zbudowaniem modelu, który można wytrenować, dobrze byłoby mieć baseline, który posłuży za punkt odniesienia do porównania z późniejszymi, bardziej skomplikowanymi modelami.\n",
    "\n",
    "Pierwsze etap polega na przewidywaniu temperatury na 1 godzinę w przyszłości na podstawie bieżących wartości wszystkich cech. Bieżące wartości obejmują bieżącą temperaturę. \n",
    "\n",
    "Zacznijmy więc od modelu, który jako prognozę zwraca tylko bieżącą temperaturę, przewidując \"Bez zmian\". Jest to rozsądny punkt odniesienia, ponieważ temperatura zmienia się powoli. Oczywiście ten punkt odniesienia będzie działał gorzej, jeśli przewidywania będą sięgać dalej w przyszłość.\n",
    "\n",
    "![Send the input to the output](https://github.com/tensorflow/docs/blob/master/site/en/tutorials/structured_data/images/baseline.png?raw=1)"
   ]
  },
  {
   "cell_type": "code",
   "execution_count": null,
   "metadata": {
    "id": "9TybQaIsi3yg"
   },
   "outputs": [],
   "source": [
    "class Baseline(tf.keras.Model):\n",
    "  def __init__(self, label_index=None):\n",
    "    super().__init__()\n",
    "    self.label_index = label_index\n",
    "\n",
    "  def call(self, inputs):\n",
    "    if self.label_index is None:\n",
    "      return inputs\n",
    "    result = inputs[:, :, self.label_index]\n",
    "    return result[:, :, tf.newaxis]"
   ]
  },
  {
   "cell_type": "markdown",
   "metadata": {
    "id": "0vb3f948i8p8"
   },
   "source": [
    "Zainicjalizujmy i oceńmy ten model:"
   ]
  },
  {
   "cell_type": "code",
   "execution_count": null,
   "metadata": {
    "colab": {
     "base_uri": "https://localhost:8080/",
     "height": 34
    },
    "id": "IS3-QKc4sX0D",
    "outputId": "b6e86b04-b06b-4ed6-b720-abd1acde1cb8"
   },
   "outputs": [],
   "source": [
    "baseline = Baseline(label_index=column_indices['T (degC)'])\n",
    "\n",
    "baseline.compile(loss=tf.losses.MeanSquaredError(),\n",
    "                 metrics=[tf.metrics.MeanAbsoluteError()])\n",
    "\n",
    "val_performance = {}\n",
    "performance = {}\n",
    "val_performance['Baseline'] = baseline.evaluate(single_step_window.val)\n",
    "performance['Baseline'] = baseline.evaluate(single_step_window.test, verbose=0)"
   ]
  },
  {
   "cell_type": "markdown",
   "metadata": {
    "id": "nhBxQcCSs7Ec"
   },
   "source": [
    "Wypisuje to pewne wskaźniki wydajności, ale nie dają one poczucia, jak dobrze model sobie radzi.\n",
    "\n",
    "Generator `WindowGenerator` ma metodę wykresu, ale wykresy nie będą zbyt interesujące przy pojedynczej próbce. Utwórzmy więc szerszy `WindowGenerator`, który generuje okna 24h z kolejnymi wejściami i etykietami naraz. \n",
    "\n",
    "Okno `wide_window` nie zmienia sposobu działania modelu. Model nadal tworzy prognozy na 1 godzinę w przyszłość na podstawie pojedynczego wejściowego kroku czasowego. Tutaj oś `time` działa jak oś `batch`: Każde przewidywanie jest wykonywane niezależnie, bez interakcji między krokami czasowymi."
   ]
  },
  {
   "cell_type": "code",
   "execution_count": null,
   "metadata": {
    "colab": {
     "base_uri": "https://localhost:8080/",
     "height": 85
    },
    "id": "C8jNR5uuJ5Zp",
    "outputId": "6def2362-a3b0-4f7a-89a3-be7da8f19ce8"
   },
   "outputs": [],
   "source": [
    "wide_window = WindowGenerator(\n",
    "    input_width=24, label_width=24, shift=1,\n",
    "    label_columns=['T (degC)'])\n",
    "\n",
    "wide_window"
   ]
  },
  {
   "cell_type": "markdown",
   "metadata": {
    "id": "ZAnj7CFZkuYv"
   },
   "source": [
    "Takie rozszerzone okno można przekazać bezpośrednio do tego samego modelu `baseline` bez żadnych zmian w kodzie. Jest to możliwe, ponieważ dane wejściowe i etykiety mają taką samą liczbę kroków czasowych, a linia bazowa po prostu przekazuje dane wejściowe do danych wyjściowych:\n",
    "\n",
    "  ![One prediction 1h into the future, ever hour.](https://github.com/tensorflow/docs/blob/master/site/en/tutorials/structured_data/images/last_window.png?raw=1)"
   ]
  },
  {
   "cell_type": "code",
   "execution_count": null,
   "metadata": {
    "colab": {
     "base_uri": "https://localhost:8080/",
     "height": 51
    },
    "id": "sGKdvdg087qs",
    "outputId": "3d837efe-a1bb-48d2-b167-11c469150b4f"
   },
   "outputs": [],
   "source": [
    "print('Input shape:', single_step_window.example[0].shape)\n",
    "print('Output shape:', baseline(single_step_window.example[0]).shape)"
   ]
  },
  {
   "cell_type": "markdown",
   "metadata": {
    "id": "SKqQHX1K0JW-"
   },
   "source": [
    "Wykreślając prognozy modelu podstawowego, można zauważyć, że są to po prostu etykiety przesunięte w prawo o 1h."
   ]
  },
  {
   "cell_type": "code",
   "execution_count": null,
   "metadata": {
    "colab": {
     "base_uri": "https://localhost:8080/",
     "height": 497
    },
    "id": "jQyAPVLgWTOZ",
    "outputId": "fe76c08f-a95d-492a-d02d-c73e9d5c1fd6"
   },
   "outputs": [],
   "source": [
    "wide_window.plot(baseline)"
   ]
  },
  {
   "cell_type": "markdown",
   "metadata": {
    "id": "E4aOJScj52Yu"
   },
   "source": [
    "### Model liniowy\n",
    "\n",
    "Najprostszy **trenowalny** model, który można zastosować do tego zadania, polega na wprowadzeniu liniowej transformacji między wejściem a wyjściem. W tym przypadku dane wyjściowe z danego kroku czasowego zależą tylko od tego kroku:\n",
    "\n",
    "![A single step prediction](https://github.com/tensorflow/docs/blob/master/site/en/tutorials/structured_data/images/narrow_window.png?raw=1)"
   ]
  },
  {
   "cell_type": "code",
   "execution_count": null,
   "metadata": {
    "id": "6341OXuQ5xA9"
   },
   "outputs": [],
   "source": [
    "linear = tf.keras.Sequential([\n",
    "    tf.keras.layers.Dense(units=1)\n",
    "])"
   ]
  },
  {
   "cell_type": "code",
   "execution_count": null,
   "metadata": {
    "colab": {
     "base_uri": "https://localhost:8080/",
     "height": 51
    },
    "id": "KwaOM8RucUSn",
    "outputId": "356225df-1391-40a7-e97d-003bddcd59f9"
   },
   "outputs": [],
   "source": [
    "print('Input shape:', single_step_window.example[0].shape)\n",
    "print('Output shape:', linear(single_step_window.example[0]).shape)"
   ]
  },
  {
   "cell_type": "markdown",
   "metadata": {
    "id": "OMZTYIj3bYLg"
   },
   "source": [
    "Zapakujmy w jedną funkcję wszystkie procedury które przydadzą się do następnych modeli"
   ]
  },
  {
   "cell_type": "code",
   "execution_count": null,
   "metadata": {
    "id": "CbCL6VIrk-Gt"
   },
   "outputs": [],
   "source": [
    "MAX_EPOCHS = 20\n",
    "\n",
    "def compile_and_fit(model, window, patience=2):\n",
    "  early_stopping = tf.keras.callbacks.EarlyStopping(monitor='val_loss',\n",
    "                                                    patience=patience,\n",
    "                                                    mode='min')\n",
    "\n",
    "  model.compile(loss=tf.losses.MeanSquaredError(),\n",
    "                optimizer=tf.optimizers.Adam(),\n",
    "                metrics=[tf.metrics.MeanAbsoluteError()])\n",
    "\n",
    "  history = model.fit(window.train, epochs=MAX_EPOCHS,\n",
    "                      validation_data=window.val,\n",
    "                      callbacks=[early_stopping])\n",
    "  return history"
   ]
  },
  {
   "cell_type": "markdown",
   "metadata": {
    "id": "OobVjM-schwj"
   },
   "source": [
    "Wytrenujmy model i oceńmy działanie"
   ]
  },
  {
   "cell_type": "code",
   "execution_count": null,
   "metadata": {
    "colab": {
     "base_uri": "https://localhost:8080/",
     "height": 428
    },
    "id": "9agbz2qB9bLS",
    "outputId": "9a629cad-b907-4938-ead6-4575dfb0867a"
   },
   "outputs": [],
   "source": [
    "history = compile_and_fit(linear, single_step_window)\n",
    "\n",
    "val_performance['Linear'] = linear.evaluate(single_step_window.val)\n",
    "performance['Linear'] = linear.evaluate(single_step_window.test, verbose=0)"
   ]
  },
  {
   "cell_type": "markdown",
   "metadata": {
    "id": "7U9XukYh8beN"
   },
   "source": [
    "Podobnie jak `baseline`, model liniowy może być wywoływany na batchach szerszych okien. W ten sposób model tworzy zestaw niezależnych przewidywań w odpowiednich krokach czasowych. Oś `time` działa jak kolejna oś `batch`. Nie ma żadnych interakcji między predykcjami w każdym kroku czasowym.\n",
    "\n",
    "![A single step prediction](https://github.com/tensorflow/docs/blob/master/site/en/tutorials/structured_data/images/wide_window.png?raw=1)"
   ]
  },
  {
   "cell_type": "code",
   "execution_count": null,
   "metadata": {
    "colab": {
     "base_uri": "https://localhost:8080/",
     "height": 51
    },
    "id": "K9UVM5Sw9KQN",
    "outputId": "f89fb72e-3a83-416f-81ed-cd8e6e14e0ca"
   },
   "outputs": [],
   "source": [
    "print('Input shape:', wide_window.example[0].shape)\n",
    "print('Output shape:', baseline(wide_window.example[0]).shape)"
   ]
  },
  {
   "cell_type": "markdown",
   "metadata": {
    "id": "X-CGj85oKaOG"
   },
   "source": [
    "Oto wykres przykładowych przewidywań dla `wide_window`, zauważ, że w wielu przypadkach przewidywanie jest wyraźnie lepsze niż zwracanie temperatury wejściowej, ale w kilku przypadkach jest gorsze"
   ]
  },
  {
   "cell_type": "code",
   "execution_count": null,
   "metadata": {
    "colab": {
     "base_uri": "https://localhost:8080/",
     "height": 497
    },
    "id": "bCC8VVo-OvwV",
    "outputId": "c3ba3e41-1d60-4391-d48a-0f9ec155fbf5"
   },
   "outputs": [],
   "source": [
    "wide_window.plot(linear)"
   ]
  },
  {
   "cell_type": "markdown",
   "metadata": {
    "id": "Is51vU8EMl6c"
   },
   "source": [
    "Jedną z zalet modeli liniowych jest to, że są one stosunkowo łatwe do zinterpretowania.\n",
    "Można wyciągnąć wagi warstw i zobaczyć, jaka waga jest przypisana do każdego wejścia"
   ]
  },
  {
   "cell_type": "code",
   "execution_count": null,
   "metadata": {
    "colab": {
     "base_uri": "https://localhost:8080/",
     "height": 453
    },
    "id": "d4uCTbsmK8VI",
    "outputId": "cde95562-4248-49d1-b9bb-ac9dcf388023"
   },
   "outputs": [],
   "source": [
    "plt.bar(x = range(len(train_df.columns)),\n",
    "        height=linear.layers[0].kernel[:,0].numpy())\n",
    "axis = plt.gca()\n",
    "axis.set_xticks(range(len(train_df.columns)))\n",
    "_ = axis.set_xticklabels(train_df.columns, rotation=90)"
   ]
  },
  {
   "cell_type": "markdown",
   "metadata": {
    "id": "Ylng7215boIY"
   },
   "source": [
    "Czasami model nie przykłada żadnej wagi do którejś danej wejściowej (`T (degC)`). Jest to jedno z zagrożeń związanych z losową inicjalizacją. "
   ]
  },
  {
   "cell_type": "markdown",
   "metadata": {
    "id": "W18e6da1cNbw"
   },
   "source": [
    "### Dense\n",
    "\n",
    "Przed zastosowaniem modeli, które faktycznie działają na wielu krokach czasowych, warto sprawdzić działanie głębszych, bardziej wydajnych modeli z jednym krokiem wejściowym.\n",
    "\n",
    "Oto model z zastosowaniem warstw gęstych "
   ]
  },
  {
   "cell_type": "code",
   "execution_count": null,
   "metadata": {
    "colab": {
     "base_uri": "https://localhost:8080/",
     "height": 190
    },
    "id": "Z86WkYp7cNAD",
    "outputId": "e0c7ebcc-7e3b-479b-d78e-41b877c4343b"
   },
   "outputs": [],
   "source": [
    "dense = tf.keras.Sequential([\n",
    "    tf.keras.layers.Dense(units=64, activation='relu'),\n",
    "    tf.keras.layers.Dense(units=64, activation='relu'),\n",
    "    tf.keras.layers.Dense(units=1)\n",
    "])\n",
    "\n",
    "history = compile_and_fit(dense, single_step_window)\n",
    "\n",
    "val_performance['Dense'] = dense.evaluate(single_step_window.val)\n",
    "performance['Dense'] = dense.evaluate(single_step_window.test, verbose=0)"
   ]
  },
  {
   "cell_type": "code",
   "execution_count": null,
   "metadata": {},
   "outputs": [],
   "source": [
    "wide_window.plot(dense)"
   ]
  },
  {
   "cell_type": "markdown",
   "metadata": {
    "id": "j5dv_whJdswH"
   },
   "source": [
    "### Multi-step dense\n",
    "\n",
    "Model jednkrokowy nie ma kontekstu dla bieżących wartości danych wejściowych. Nie może zobaczyć, jak cechy wejściowe zmieniają się w czasie. Aby rozwiązać ten problem, model musi mieć dostęp do wielu kroków czasowych podczas tworzenia prognoz:\n",
    "\n",
    "![Three time steps are used for each prediction.](https://github.com/tensorflow/docs/blob/master/site/en/tutorials/structured_data/images/conv_window.png?raw=1)\n"
   ]
  },
  {
   "cell_type": "markdown",
   "metadata": {
    "id": "Zac-ti8agbJ7"
   },
   "source": [
    "Modele `baseline`, `linear` i `dense` traktują każdy krok czasowy niezależnie. W tym przypadku model będzie przyjmował wiele kroków czasowych jako dane wejściowe, aby otrzymać jedno wyjście.\n",
    "\n",
    "Utwórzmy `WindowGenerator`, który będzie produkował batche 3h danych wejściowych i 1h etykiet:"
   ]
  },
  {
   "cell_type": "code",
   "execution_count": null,
   "metadata": {
    "colab": {
     "base_uri": "https://localhost:8080/",
     "height": 85
    },
    "id": "lBh0j5djUKY2",
    "outputId": "f9b80373-d538-4aef-bd03-721ad77ee3d4"
   },
   "outputs": [],
   "source": [
    "CONV_WIDTH = 3\n",
    "conv_window = WindowGenerator(\n",
    "    input_width=CONV_WIDTH,\n",
    "    label_width=1,\n",
    "    shift=1,\n",
    "    label_columns=['T (degC)'])\n",
    "\n",
    "conv_window"
   ]
  },
  {
   "cell_type": "code",
   "execution_count": null,
   "metadata": {
    "colab": {
     "base_uri": "https://localhost:8080/",
     "height": 516
    },
    "id": "dCQ5gvs68Xkd",
    "outputId": "dac7ae1a-22da-486d-952b-61483fe71374"
   },
   "outputs": [],
   "source": [
    "conv_window.plot()\n",
    "plt.title(\"Given 3h as input, predict 1h into the future.\")"
   ]
  },
  {
   "cell_type": "markdown",
   "metadata": {
    "id": "We0HdMxKeqB_"
   },
   "source": [
    "Można wytrenować model `dense` na oknie z wieloma krokami wejściowymi, dodając wypłaszczenie jako pierwszą warstwę modelu:"
   ]
  },
  {
   "cell_type": "code",
   "execution_count": null,
   "metadata": {
    "id": "oNQnUOkOnC1G"
   },
   "outputs": [],
   "source": [
    "multi_step_dense = tf.keras.Sequential([\n",
    "    tf.keras.layers.Flatten(),  # (time, features) => (time*features)\n",
    "    tf.keras.layers.Dense(units=32, activation='relu'),\n",
    "    tf.keras.layers.Dense(units=32, activation='relu'),\n",
    "    tf.keras.layers.Dense(units=1),\n",
    "    tf.keras.layers.Reshape([1, -1]), # powrót do wymiaru czasowego: (outputs) => (1, outputs)\n",
    "])"
   ]
  },
  {
   "cell_type": "code",
   "execution_count": null,
   "metadata": {
    "colab": {
     "base_uri": "https://localhost:8080/",
     "height": 51
    },
    "id": "cayD74luo4Vq",
    "outputId": "e204e019-9b9e-48fa-ace5-69cd77c320e7"
   },
   "outputs": [],
   "source": [
    "print('Input shape:', conv_window.example[0].shape)\n",
    "print('Output shape:', multi_step_dense(conv_window.example[0]).shape)"
   ]
  },
  {
   "cell_type": "code",
   "execution_count": null,
   "metadata": {
    "colab": {
     "base_uri": "https://localhost:8080/",
     "height": 34
    },
    "id": "fu91yEbRo9-J",
    "outputId": "b1b41595-ae0f-49e9-9e5d-a6ea4ad18558"
   },
   "outputs": [],
   "source": [
    "history = compile_and_fit(multi_step_dense, conv_window)\n",
    "\n",
    "IPython.display.clear_output()\n",
    "val_performance['Multi step dense'] = multi_step_dense.evaluate(conv_window.val)\n",
    "performance['Multi step dense'] = multi_step_dense.evaluate(conv_window.test, verbose=0)"
   ]
  },
  {
   "cell_type": "code",
   "execution_count": null,
   "metadata": {
    "colab": {
     "base_uri": "https://localhost:8080/",
     "height": 497
    },
    "id": "tnqdXYT6pkEh",
    "outputId": "87c895ba-b2b3-4553-c90d-ee65e0ce2e17"
   },
   "outputs": [],
   "source": [
    "conv_window.plot(multi_step_dense)"
   ]
  },
  {
   "cell_type": "markdown",
   "metadata": {
    "id": "gWfrsP8mq8lV"
   },
   "source": [
    "Główną wadą tego podejścia jest to, że model wynikowy może być wykonany tylko na oknach wejściowych o **dokładnie** takim kształcie. "
   ]
  },
  {
   "cell_type": "code",
   "execution_count": null,
   "metadata": {
    "colab": {
     "base_uri": "https://localhost:8080/",
     "height": 68
    },
    "id": "j-q6tz5Yq8Jk",
    "outputId": "663e3105-85dc-42d8-f2f0-ab68db6080fd"
   },
   "outputs": [],
   "source": [
    "print('Input shape:', wide_window.example[0].shape)\n",
    "try:\n",
    "  print('Output shape:', multi_step_dense(wide_window.example[0]).shape)\n",
    "except Exception as e:\n",
    "  print(f'\\n{type(e).__name__}:{e}')"
   ]
  },
  {
   "cell_type": "markdown",
   "metadata": {
    "id": "bvvajm3ip_8V"
   },
   "source": [
    "Modele konwolucyjne rozwiązują ten problem."
   ]
  },
  {
   "cell_type": "markdown",
   "metadata": {
    "id": "CrpU6gwSJome"
   },
   "source": [
    "### Convolution neural network\n",
    " \n",
    "Warstwa konwolucji (`layers.Conv1D`) również przyjmuje wiele kroków czasowych jako dane wejściowe do każdego przewidywania."
   ]
  },
  {
   "cell_type": "markdown",
   "metadata": {
    "id": "cdLBwoaHmsWb"
   },
   "source": [
    "Poniżej znajduje się **ten sam** model co `multi_step_dense`, napisany na nowo z zastosowaniem konwolucji. \n",
    "\n",
    "Zmiany:\n",
    "* `layers.Flatten` i pierwszy `layers.Dense` zostały zastąpione przez `layers.Conv1D`.\n",
    "* `layers.Reshape` nie jest już potrzebna, ponieważ konwolucja zachowuje oś czasu na wyjściu."
   ]
  },
  {
   "cell_type": "code",
   "execution_count": null,
   "metadata": {
    "id": "5azaMBj4ac9t"
   },
   "outputs": [],
   "source": [
    "conv_model = tf.keras.Sequential([\n",
    "    tf.keras.layers.Conv1D(filters=32, kernel_size=(CONV_WIDTH,), activation='relu'),\n",
    "    tf.keras.layers.Dense(units=32, activation='relu'),\n",
    "    tf.keras.layers.Dense(units=1),\n",
    "])"
   ]
  },
  {
   "cell_type": "markdown",
   "metadata": {
    "id": "ftaH6B5ECRiK"
   },
   "source": [
    "Uruchommy go na przykładowym batchu, aby sprawdzić, czy model generuje dane wyjściowe o oczekiwanym kształcie:"
   ]
  },
  {
   "cell_type": "code",
   "execution_count": null,
   "metadata": {
    "colab": {
     "base_uri": "https://localhost:8080/",
     "height": 68
    },
    "id": "5YNgt1-e98lH",
    "outputId": "28f7caf8-7f35-4109-8215-77233e989829"
   },
   "outputs": [],
   "source": [
    "print(\"Conv model on `conv_window`\")\n",
    "print('Input shape:', conv_window.example[0].shape)\n",
    "print('Output shape:', conv_model(conv_window.example[0]).shape)"
   ]
  },
  {
   "cell_type": "markdown",
   "metadata": {
    "id": "5m4kC-jGCY3x"
   },
   "source": [
    "Przetrenujmy i oceńmy go na `conv_window`, a powinien on dać wydajność podobną do modelu `multi_step_dense`."
   ]
  },
  {
   "cell_type": "code",
   "execution_count": null,
   "metadata": {
    "colab": {
     "base_uri": "https://localhost:8080/",
     "height": 34
    },
    "id": "QDVWdm4paUW7",
    "outputId": "c6f0003d-b671-41eb-a78d-6392c1e1ed51"
   },
   "outputs": [],
   "source": [
    "history = compile_and_fit(conv_model, conv_window)\n",
    "\n",
    "IPython.display.clear_output()\n",
    "val_performance['Conv'] = conv_model.evaluate(conv_window.val)\n",
    "performance['Conv'] = conv_model.evaluate(conv_window.test, verbose=0)"
   ]
  },
  {
   "cell_type": "markdown",
   "metadata": {
    "id": "sYRipDeXs0Kr"
   },
   "source": [
    "Różnica między `conv_model` a modelem `multi_step_dense` polega na tym, że `conv_model` może być uruchamiany na danych wejściowych o dowolnej długości. Warstwa konwolucyjna jest stosowana do przesuwanego okna danych wejściowych:\n",
    "\n",
    "![Executing a convolutional model on a sequence](https://github.com/tensorflow/docs/blob/master/site/en/tutorials/structured_data/images/wide_conv_window.png?raw=1)\n",
    "\n",
    "Jeśli uruchomimy go na szerszym wejściu, daje szerszy sygnał wyjściowy:"
   ]
  },
  {
   "cell_type": "code",
   "execution_count": null,
   "metadata": {
    "colab": {
     "base_uri": "https://localhost:8080/",
     "height": 85
    },
    "id": "hoqccxx9r5jF",
    "outputId": "1afcc009-081b-4064-a560-35c3c17420a4"
   },
   "outputs": [],
   "source": [
    "print(\"Wide window\")\n",
    "print('Input shape:', wide_window.example[0].shape)\n",
    "print('Labels shape:', wide_window.example[1].shape)\n",
    "print('Output shape:', conv_model(wide_window.example[0]).shape)"
   ]
  },
  {
   "cell_type": "markdown",
   "metadata": {
    "id": "h_WGxtLIHhRF"
   },
   "source": [
    "Zauważ, że dane wyjściowe są krótsze niż dane wejściowe. Aby trening i wizualizacja działały, etykiety i przewidywania muszą mieć taką samą długość. Zbudujmy więc `WindowGenerator`, który wytworzy szerokie okna z kilkoma dodatkowymi krokami czasowymi na wejściu, aby długość etykiet i przewidywań była taka sama: "
   ]
  },
  {
   "cell_type": "code",
   "execution_count": null,
   "metadata": {
    "colab": {
     "base_uri": "https://localhost:8080/",
     "height": 102
    },
    "id": "_VPvJ_VwTc0f",
    "outputId": "6f0aead9-6626-4151-fb17-dd201fb0ee21"
   },
   "outputs": [],
   "source": [
    "LABEL_WIDTH = 24\n",
    "INPUT_WIDTH = LABEL_WIDTH + (CONV_WIDTH - 1)\n",
    "wide_conv_window = WindowGenerator(\n",
    "    input_width=INPUT_WIDTH,\n",
    "    label_width=LABEL_WIDTH,\n",
    "    shift=1,\n",
    "    label_columns=['T (degC)'])\n",
    "\n",
    "wide_conv_window"
   ]
  },
  {
   "cell_type": "code",
   "execution_count": null,
   "metadata": {
    "colab": {
     "base_uri": "https://localhost:8080/",
     "height": 85
    },
    "id": "gtqlWYXeKXej",
    "outputId": "f945313a-c0e2-43b3-9bf5-801a0e580dcf"
   },
   "outputs": [],
   "source": [
    "print(\"Wide conv window\")\n",
    "print('Input shape:', wide_conv_window.example[0].shape)\n",
    "print('Labels shape:', wide_conv_window.example[1].shape)\n",
    "print('Output shape:', conv_model(wide_conv_window.example[0]).shape)"
   ]
  },
  {
   "cell_type": "markdown",
   "metadata": {
    "id": "yzxbbS56cSBV"
   },
   "source": [
    "Teraz możemy wykreślić przewidywania modelu w szerszym oknie. Zwróć uwagę na 3 wejściowe kroki czasowe przed pierwszym przewidywaniem. Każde przewidywanie jest oparte na trzech poprzednich krokach czasowych:"
   ]
  },
  {
   "cell_type": "code",
   "execution_count": null,
   "metadata": {
    "colab": {
     "base_uri": "https://localhost:8080/",
     "height": 497
    },
    "id": "gR7VyL45UuEe",
    "outputId": "f06ec812-1f08-4668-d13a-a40604e3af61"
   },
   "outputs": [],
   "source": [
    "wide_conv_window.plot(conv_model)"
   ]
  },
  {
   "cell_type": "markdown",
   "metadata": {
    "id": "H4crpOcoMlSe"
   },
   "source": [
    "### Sieć rekurencyjna\n",
    "\n",
    "RNN dobrze się sprawdza do predykcji szeregów czasowych. Sieci RNN przetwarzają szeregi czasowe krok po kroku, zachowując stan wewnętrzny z kroku na krok.\n",
    "\n",
    "Użyjemy tu konkretnie warstwy LSTM ([LSTM](https://www.tensorflow.org/versions/r2.0/api_docs/python/tf/keras/layers/LSTM))."
   ]
  },
  {
   "cell_type": "markdown",
   "metadata": {
    "id": "vfQbHSMb1ATa"
   },
   "source": [
    "Ważnym argumentem konstruktora dla wszystkich warstw keras RNN jest argument `return_sequences`. To ustawienie może skonfigurować warstwę na jeden z dwóch sposobów.\n",
    "\n",
    "1. Jeśli ustawiono domyślnie wartość `False`, warstwa zwraca tylko dane wyjściowe z ostatniego kroku czasowego, dając modelowi czas na `rozgrzanie` swojego stanu wewnętrznego przed wykonaniem pojedynczego przewidywania:\n",
    "\n",
    "![An lstm warming up and making a single prediction](https://github.com/tensorflow/docs/blob/master/site/en/tutorials/structured_data/images/lstm_1_window.png?raw=1)\n",
    "\n",
    "2. Jeśli ustawiono na `True`, warstwa zwraca wyjście dla każdego wejścia. Jest to przydatne do:\n",
    "  * układania warstw RNN. \n",
    "  * treningu modelu na wielu krokach czasowych jednocześnie.\n",
    "\n",
    "![An lstm making a prediction after every timestep](https://github.com/tensorflow/docs/blob/master/site/en/tutorials/structured_data/images/lstm_many_window.png?raw=1)"
   ]
  },
  {
   "cell_type": "code",
   "execution_count": null,
   "metadata": {
    "id": "DXKLCJy8nWNU"
   },
   "outputs": [],
   "source": [
    "lstm_model = tf.keras.models.Sequential([\n",
    "    tf.keras.layers.LSTM(32, return_sequences=True), #[batch, time, features] => [batch, time, lstm_units]\n",
    "    tf.keras.layers.Dense(units=1) #[batch, time, features]\n",
    "])"
   ]
  },
  {
   "cell_type": "markdown",
   "metadata": {
    "id": "F124B00KZcLC"
   },
   "source": [
    "Przy `return_sequences=True` model może być trenowany na danych z 24 godzin na raz.\n",
    "\n",
    "Uwaga: daje to pesymistyczny obraz wydajności modelu. W pierwszym kroku czasowym model nie ma dostępu do poprzednich kroków, a więc nie może działać lepiej niż proste modele `linear` i `dense` pokazane wcześniej."
   ]
  },
  {
   "cell_type": "code",
   "execution_count": null,
   "metadata": {
    "colab": {
     "base_uri": "https://localhost:8080/",
     "height": 51
    },
    "id": "eZEROCQVYV6q",
    "outputId": "bce51ab2-641b-43b1-f89c-e93d1555a068"
   },
   "outputs": [],
   "source": [
    "print('Input shape:', wide_window.example[0].shape)\n",
    "print('Output shape:', lstm_model(wide_window.example[0]).shape)"
   ]
  },
  {
   "cell_type": "code",
   "execution_count": null,
   "metadata": {
    "colab": {
     "base_uri": "https://localhost:8080/",
     "height": 34
    },
    "id": "uvdWRl1e9WJl",
    "outputId": "4b8f96e5-f118-42b8-cca9-411cad939e0d"
   },
   "outputs": [],
   "source": [
    "history = compile_and_fit(lstm_model, wide_window)\n",
    "\n",
    "IPython.display.clear_output()\n",
    "val_performance['LSTM'] = lstm_model.evaluate(wide_window.val)\n",
    "performance['LSTM'] = lstm_model.evaluate(wide_window.test, verbose=0)"
   ]
  },
  {
   "cell_type": "code",
   "execution_count": null,
   "metadata": {
    "colab": {
     "base_uri": "https://localhost:8080/",
     "height": 497
    },
    "id": "NwAOWCVgB26e",
    "outputId": "9ef7d502-22b6-4989-a91b-aad01632532e"
   },
   "outputs": [],
   "source": [
    "wide_window.plot(lstm_model)"
   ]
  },
  {
   "cell_type": "markdown",
   "metadata": {
    "id": "pYglOCKehi8F"
   },
   "source": [
    "### Wydajność modeli"
   ]
  },
  {
   "cell_type": "markdown",
   "metadata": {
    "id": "2pCk0_rwhi8H"
   },
   "source": [
    "W przypadku tego zestawu danych zazwyczaj każdy z modeli radzi sobie nieco lepiej niż poprzedni."
   ]
  },
  {
   "cell_type": "code",
   "execution_count": null,
   "metadata": {
    "colab": {
     "base_uri": "https://localhost:8080/",
     "height": 430
    },
    "id": "JjEkt488hi8I",
    "outputId": "82b17750-a332-470b-fb99-7ed96976ea23"
   },
   "outputs": [],
   "source": [
    "x = np.arange(len(performance))\n",
    "width = 0.3\n",
    "metric_name = 'mean_absolute_error'\n",
    "metric_index = lstm_model.metrics_names.index('mean_absolute_error')\n",
    "val_mae = [v[metric_index] for v in val_performance.values()]\n",
    "test_mae = [v[metric_index] for v in performance.values()]\n",
    "\n",
    "plt.ylabel('mean_absolute_error [T (degC), normalized]')\n",
    "plt.bar(x - 0.17, val_mae, width, label='Validation')\n",
    "plt.bar(x + 0.17, test_mae, width, label='Test')\n",
    "plt.xticks(ticks=x, labels=performance.keys(), rotation=45)\n",
    "_ = plt.legend()"
   ]
  },
  {
   "cell_type": "code",
   "execution_count": null,
   "metadata": {
    "colab": {
     "base_uri": "https://localhost:8080/",
     "height": 119
    },
    "id": "cBMCpsdphi8L",
    "outputId": "b8f9b383-0487-4150-ba34-26371992d5aa"
   },
   "outputs": [],
   "source": [
    "for name, value in performance.items():\n",
    "  print(f'{name:12s}: {value[1]:0.4f}')"
   ]
  },
  {
   "cell_type": "markdown",
   "metadata": {
    "id": "b5rUJ_2YMWzG"
   },
   "source": [
    "### Modele wielowyjściowe\n",
    "\n",
    "Dotychczasowe modele przewidywały pojedynczą cechę wyjściową, `T (degC)`, dla pojedynczego kroku czasowego.\n",
    "\n",
    "Wszystkie te modele można przekształcić tak, aby przewidywały wiele cech, zmieniając liczbę jednostek w warstwie wyjściowej i dostosowując okna treningowe tak, aby zawierały wszystkie cechy w \"etykietach\"."
   ]
  },
  {
   "cell_type": "code",
   "execution_count": null,
   "metadata": {
    "colab": {
     "base_uri": "https://localhost:8080/",
     "height": 51
    },
    "id": "9Gk0Z91xjOwv",
    "outputId": "da42476a-130a-4350-e7ef-406fd35236a8"
   },
   "outputs": [],
   "source": [
    "single_step_window = WindowGenerator(\n",
    "    # `WindowGenerator` zwraca wszystkie cechy jako etykiety, o ile nie określiliśmy parametru 'label_columns' \n",
    "    input_width=1, label_width=1, shift=1)\n",
    "\n",
    "wide_window = WindowGenerator(input_width=24, label_width=24, shift=1)\n",
    "\n",
    "for example_inputs, example_labels in wide_window.train.take(1):\n",
    "  print(f'Inputs shape (batch, time, features): {example_inputs.shape}')\n",
    "  print(f'Labels shape (batch, time, features): {example_labels.shape}')"
   ]
  },
  {
   "cell_type": "markdown",
   "metadata": {
    "id": "XmcjHfDskX1N"
   },
   "source": [
    "Zauważ, że oś `features` etykiet ma teraz taką samą głębokość jak dane wejściowe, a nie 1 jak wcześniej."
   ]
  },
  {
   "cell_type": "markdown",
   "metadata": {
    "id": "9k7S5IHNhSNF"
   },
   "source": [
    "#### Baseline\n",
    "\n",
    "Można tu zastosować ten sam model bazowy, ale tym razem powtarzając wszystkie cechy zamiast wybierać konkretny `label_index`."
   ]
  },
  {
   "cell_type": "code",
   "execution_count": null,
   "metadata": {
    "id": "sqqB9W-pjr5i"
   },
   "outputs": [],
   "source": [
    "baseline = Baseline()\n",
    "baseline.compile(loss=tf.losses.MeanSquaredError(), metrics=[tf.metrics.MeanAbsoluteError()])"
   ]
  },
  {
   "cell_type": "code",
   "execution_count": null,
   "metadata": {
    "colab": {
     "base_uri": "https://localhost:8080/",
     "height": 34
    },
    "id": "ltQdgaqQjQWu",
    "outputId": "beb1c672-6fc7-49f0-c8b5-ca87078c366e"
   },
   "outputs": [],
   "source": [
    "val_performance = {}\n",
    "performance = {}\n",
    "val_performance['Baseline'] = baseline.evaluate(wide_window.val)\n",
    "performance['Baseline'] = baseline.evaluate(wide_window.test, verbose=0)"
   ]
  },
  {
   "cell_type": "markdown",
   "metadata": {
    "id": "dfbCrf5q3P6n"
   },
   "source": [
    "#### Dense"
   ]
  },
  {
   "cell_type": "code",
   "execution_count": null,
   "metadata": {
    "id": "NdpzH1dYjdIN"
   },
   "outputs": [],
   "source": [
    "dense = tf.keras.Sequential([\n",
    "    tf.keras.layers.Dense(units=64, activation='relu'),\n",
    "    tf.keras.layers.Dense(units=64, activation='relu'),\n",
    "    tf.keras.layers.Dense(units=num_features)\n",
    "])"
   ]
  },
  {
   "cell_type": "code",
   "execution_count": null,
   "metadata": {
    "colab": {
     "base_uri": "https://localhost:8080/",
     "height": 34
    },
    "id": "6uHuU9Cd3PTo",
    "outputId": "afee7558-7ff7-44a3-8edd-ff13bbf54e0d"
   },
   "outputs": [],
   "source": [
    "history = compile_and_fit(dense, single_step_window)\n",
    "\n",
    "IPython.display.clear_output()\n",
    "val_performance['Dense'] = dense.evaluate(single_step_window.val)\n",
    "performance['Dense'] = dense.evaluate(single_step_window.test, verbose=0)"
   ]
  },
  {
   "cell_type": "markdown",
   "metadata": {
    "id": "dsc9pur_mHsx"
   },
   "source": [
    "#### RNN\n"
   ]
  },
  {
   "cell_type": "code",
   "execution_count": null,
   "metadata": {
    "colab": {
     "base_uri": "https://localhost:8080/",
     "height": 85
    },
    "id": "4QbGLMyomXaz",
    "outputId": "07952013-4d34-490d-ef0b-b4a5606ed660"
   },
   "outputs": [],
   "source": [
    "%%time\n",
    "wide_window = WindowGenerator(\n",
    "    input_width=24, label_width=24, shift=1)\n",
    "\n",
    "lstm_model = tf.keras.models.Sequential([\n",
    "    tf.keras.layers.LSTM(32, return_sequences=True),  # [batch, time, features] => [batch, time, lstm_units]\n",
    "    tf.keras.layers.Dense(units=num_features) # [batch, time, features]\n",
    "])\n",
    "\n",
    "history = compile_and_fit(lstm_model, wide_window)\n",
    "\n",
    "IPython.display.clear_output()\n",
    "val_performance['LSTM'] = lstm_model.evaluate( wide_window.val)\n",
    "performance['LSTM'] = lstm_model.evaluate( wide_window.test, verbose=0)\n",
    "\n",
    "print()"
   ]
  },
  {
   "cell_type": "markdown",
   "metadata": {
    "id": "UwhY2f_Nn0_K"
   },
   "source": [
    "<a id=\"residual\"></a>\n",
    "\n",
    "#### Połączenia rezydualne\n",
    "\n",
    "W modelu `Baseline` wykorzystano fakt, że sekwencja nie zmienia się drastycznie z kroku na krok. Każdy model trenowany w tym poradniku był inicjalizowany losowo, a następnie musiał się nauczyć, że dane wyjściowe są niewielką zmianą w stosunku do poprzedniego kroku czasowego.\n",
    "\n",
    "Problem ten można obejść, starannie inicjalizując model, ale prościej jest wbudować go w strukturę modelu, np. korzystając z połączeń rezydualnych, w których każda warstwa dodaje się do wyniku modelu.\n",
    "\n",
    "![A model with a residual connection](https://github.com/tensorflow/docs/blob/master/site/en/tutorials/structured_data/images/residual.png?raw=1)"
   ]
  },
  {
   "cell_type": "markdown",
   "metadata": {
    "id": "yP58A_ORx0kM"
   },
   "source": [
    "Podejście to może być stosowane w połączeniu z każdym modelem omawianym w tym poradniku. \n",
    "\n",
    "Tutaj jest ono zastosowane do modelu LSTM, zauważ użycie `tf.initializers.zeros`, aby zapewnić, że początkowe przewidywane zmiany są małe i nie przeciążają rezydualnego połączenia."
   ]
  },
  {
   "cell_type": "code",
   "execution_count": null,
   "metadata": {
    "id": "7YlfnDQC22TQ"
   },
   "outputs": [],
   "source": [
    "class ResidualWrapper(tf.keras.Model):\n",
    "  def __init__(self, model):\n",
    "    super().__init__()\n",
    "    self.model = model\n",
    "\n",
    "  def call(self, inputs, *args, **kwargs):\n",
    "    delta = self.model(inputs, *args, **kwargs)\n",
    "\n",
    "    # prognoza dla każdego kroku to dane wejściowe z poprzedniego kroku czasowego plus delta obliczona przez model\n",
    "    return inputs + delta"
   ]
  },
  {
   "cell_type": "code",
   "execution_count": null,
   "metadata": {
    "colab": {
     "base_uri": "https://localhost:8080/",
     "height": 85
    },
    "id": "NNeH02pspc9B",
    "outputId": "4cdb8d60-53bf-40f0-a268-6623e20902a4"
   },
   "outputs": [],
   "source": [
    "%%time\n",
    "residual_lstm = ResidualWrapper(\n",
    "    tf.keras.Sequential([\n",
    "    tf.keras.layers.LSTM(32, return_sequences=True),\n",
    "    tf.keras.layers.Dense(\n",
    "        num_features,\n",
    "        # Przewidywane delty powinny zaczynać się od małej wartości, dlatego zainicjujmy warstwę wyjściową zerami\n",
    "        kernel_initializer=tf.initializers.zeros)\n",
    "]))\n",
    "\n",
    "history = compile_and_fit(residual_lstm, wide_window)\n",
    "\n",
    "IPython.display.clear_output()\n",
    "val_performance['Residual LSTM'] = residual_lstm.evaluate(wide_window.val)\n",
    "performance['Residual LSTM'] = residual_lstm.evaluate(wide_window.test, verbose=0)\n",
    "print()"
   ]
  },
  {
   "cell_type": "markdown",
   "metadata": {
    "id": "I42Er9Du6co1"
   },
   "source": [
    "#### Wydajność"
   ]
  },
  {
   "cell_type": "markdown",
   "metadata": {
    "id": "LZxR38P_6pUi"
   },
   "source": [
    "Poniżej przedstawiono ogólne wyniki dla modeli wielowyjściowych."
   ]
  },
  {
   "cell_type": "code",
   "execution_count": null,
   "metadata": {
    "colab": {
     "base_uri": "https://localhost:8080/",
     "height": 422
    },
    "id": "6XgTK9tnr7rc",
    "outputId": "944957eb-e04f-4130-9b80-65ab8ab0cd60"
   },
   "outputs": [],
   "source": [
    "x = np.arange(len(performance))\n",
    "width = 0.3\n",
    "\n",
    "metric_name = 'mean_absolute_error'\n",
    "metric_index = lstm_model.metrics_names.index('mean_absolute_error')\n",
    "val_mae = [v[metric_index] for v in val_performance.values()]\n",
    "test_mae = [v[metric_index] for v in performance.values()]\n",
    "\n",
    "plt.bar(x - 0.17, val_mae, width, label='Validation')\n",
    "plt.bar(x + 0.17, test_mae, width, label='Test')\n",
    "plt.xticks(ticks=x, labels=performance.keys(),\n",
    "           rotation=45)\n",
    "plt.ylabel('MAE (average over all outputs)')\n",
    "_ = plt.legend()"
   ]
  },
  {
   "cell_type": "code",
   "execution_count": null,
   "metadata": {
    "colab": {
     "base_uri": "https://localhost:8080/",
     "height": 85
    },
    "id": "URz3ajCc6kBj",
    "outputId": "6a568510-5497-404c-8ee3-40b10b2417b5"
   },
   "outputs": [],
   "source": [
    "for name, value in performance.items():\n",
    "  print(f'{name:15s}: {value[1]:0.4f}')"
   ]
  },
  {
   "cell_type": "markdown",
   "metadata": {
    "id": "_Vt2MJhNxwPU"
   },
   "source": [
    "Powyższe wyniki są uśrednione dla wszystkich wyników modelu."
   ]
  },
  {
   "cell_type": "markdown",
   "metadata": {},
   "source": [
    "## Modele wielokrokowe/wieloetapowe (multi-step)\n",
    "\n",
    "Zarówno modele z jednym wyjściem, jak i modele z wieloma wyjściami, o których była mowa w poprzednich rozdziałach, tworzyły **prognozy z pojedynczym krokiem czasowym**, na 1h w przyszłość.\n",
    "\n",
    "W tej części przeanalizowano, jak rozszerzyć te modele, aby tworzyć **prognozy wieloetapowe**.\n",
    "\n",
    "W prognozie wieloetapowej model musi nauczyć się przewidywać zakres przyszłych wartości. W przeciwieństwie do modelu jednoetapowego, w którym przewidywany jest tylko jeden przyszły punkt, model wieloetapowy przewiduje sekwencję przyszłych wartości.\n",
    "\n",
    "Istnieją dwa przybliżone podejścia do tego zagadnienia:\n",
    "    \n",
    "1. Przewidywanie pojedynczego punktu, w którym cały szereg czasowy jest przewidywany jednocześnie.\n",
    "2. Przewidywanie autoregresyjne, w którym model dokonuje tylko przewidywań jednoetapowych, a jego dane wyjściowe są podawane jako dane wejściowe.\n",
    "\n",
    "W tej sekcji wszystkie modele będą przewidywać **wszystkie cechy dla wszystkich wyjściowych kroków czasowych**."
   ]
  },
  {
   "cell_type": "markdown",
   "metadata": {
    "id": "WFsDAwVt4_rq"
   },
   "source": [
    "W przypadku modelu wieloetapowego dane treningowe ponownie składają się z próbek godzinowych. Jednak w tym przypadku modele uczą się przewidywać 24-godzinną przyszłość, biorąc pod uwagę 24-godzinną przeszłość.\n",
    "\n",
    "Poniżej znajduje się obiekt `Windows`, który generuje slice'y ze zbioru danych:"
   ]
  },
  {
   "cell_type": "code",
   "execution_count": null,
   "metadata": {
    "colab": {
     "base_uri": "https://localhost:8080/",
     "height": 565
    },
    "id": "1cFYtsz6XiGw",
    "outputId": "a186abbf-f60e-4f7f-d38b-9fa5dfaec045"
   },
   "outputs": [],
   "source": [
    "OUT_STEPS = 24\n",
    "multi_window = WindowGenerator(input_width=24, label_width=OUT_STEPS, shift=OUT_STEPS)\n",
    "multi_window.plot()\n",
    "multi_window"
   ]
  },
  {
   "cell_type": "markdown",
   "metadata": {
    "id": "5lg8SInh9Jzd"
   },
   "source": [
    "### Baselines"
   ]
  },
  {
   "cell_type": "markdown",
   "metadata": {
    "id": "axwpoWYOApJL"
   },
   "source": [
    "Baseline powtarza ostatni wejściowy krok czasowy przez wymaganą liczbę wyjściowych kroków czasowych:\n",
    "\n",
    "![Repeat the last input, for each output step](https://github.com/tensorflow/docs/blob/master/site/en/tutorials/structured_data/images/multistep_last.png?raw=1)"
   ]
  },
  {
   "cell_type": "code",
   "execution_count": null,
   "metadata": {
    "colab": {
     "base_uri": "https://localhost:8080/",
     "height": 514
    },
    "id": "_5iaHSaJ9Rxv",
    "outputId": "627c4b1d-3a78-4977-a4fa-85e78931dd95"
   },
   "outputs": [],
   "source": [
    "class MultiStepLastBaseline(tf.keras.Model):\n",
    "  def call(self, inputs):\n",
    "    return tf.tile(inputs[:, -1:, :], [1, OUT_STEPS, 1])\n",
    "\n",
    "last_baseline = MultiStepLastBaseline()\n",
    "last_baseline.compile(loss=tf.losses.MeanSquaredError(),\n",
    "                      metrics=[tf.metrics.MeanAbsoluteError()])\n",
    "\n",
    "multi_val_performance = {}\n",
    "multi_performance = {}\n",
    "\n",
    "multi_val_performance['Last'] = last_baseline.evaluate(multi_window.val)\n",
    "multi_performance['Last'] = last_baseline.evaluate(multi_window.test, verbose=0)\n",
    "multi_window.plot(last_baseline)"
   ]
  },
  {
   "cell_type": "markdown",
   "metadata": {
    "id": "AvHZ93ObAfMA"
   },
   "source": [
    "Ponieważ zadanie polega na przewidywaniu doby na podstawie doby, innym prostym podejściem jest powtórzenie poprzedniego dnia, zakładając, że jutro będzie podobnie:\n",
    "\n",
    "![Repeat the previous day](https://github.com/tensorflow/docs/blob/master/site/en/tutorials/structured_data/images/multistep_repeat.png?raw=1)"
   ]
  },
  {
   "cell_type": "code",
   "execution_count": 79,
   "metadata": {
    "colab": {
     "base_uri": "https://localhost:8080/",
     "height": 514
    },
    "id": "L8Y1uMhGwIRs",
    "outputId": "096ba3b8-ceb3-4330-ebd8-ee74f513026e"
   },
   "outputs": [
    {
     "name": "stdout",
     "output_type": "stream",
     "text": [
      "437/437 [==============================] - 1s 2ms/step - loss: 0.4271 - mean_absolute_error: 0.3960\n"
     ]
    },
    {
     "data": {
      "image/png": "[encoded data removed]",
      "text/plain": [
       "<Figure size 864x576 with 3 Axes>"
      ]
     },
     "metadata": {
      "needs_background": "light"
     },
     "output_type": "display_data"
    }
   ],
   "source": [
    "class RepeatBaseline(tf.keras.Model):\n",
    "  def call(self, inputs):\n",
    "    return inputs\n",
    "\n",
    "repeat_baseline = RepeatBaseline()\n",
    "repeat_baseline.compile(loss=tf.losses.MeanSquaredError(),\n",
    "                        metrics=[tf.metrics.MeanAbsoluteError()])\n",
    "\n",
    "multi_val_performance['Repeat'] = repeat_baseline.evaluate(multi_window.val)\n",
    "multi_performance['Repeat'] = repeat_baseline.evaluate(multi_window.test, verbose=0)\n",
    "multi_window.plot(repeat_baseline)"
   ]
  },
  {
   "cell_type": "markdown",
   "metadata": {
    "id": "tbndS-ct9C2Q"
   },
   "source": [
    "### Single-shot\n",
    "\n",
    "Jednym z zaawansowanych podejść do tego problemu jest użycie modelu \"single-shot\", w którym model dokonuje predykcji całej sekwencji w jednym kroku.\n",
    "\n",
    "Można to wydajnie zaimplementować jako `layers.Dense` z jednostkami wyjściowymi `OUT_STEPS*features`. Model musi tylko przekształcić dane wyjściowe do wymaganych `(OUTPUT_STEPS, features)`."
   ]
  },
  {
   "cell_type": "markdown",
   "metadata": {
    "id": "NCKS4m1VKrDQ"
   },
   "source": [
    "#### Linear\n",
    "\n",
    "Prosty model liniowy oparty na ostatnim wejściowym kroku czasowym działa lepiej niż którykolwiek z modeli baseline, ale nie ma wystarczającej mocy. Model musi przewidywać kroki czasowe `OUTPUT_STEPS` na podstawie jednego wejściowego kroku czasowego z projekcją liniową. Model ten może uchwycić jedynie niskowymiarowy wycinek zachowania, prawdopodobnie oparty głównie na porze dnia i roku.\n",
    "\n",
    "![Predct all timesteps from the last time-step](https://github.com/tensorflow/docs/blob/master/site/en/tutorials/structured_data/images/multistep_dense.png?raw=1)"
   ]
  },
  {
   "cell_type": "code",
   "execution_count": null,
   "metadata": {
    "colab": {
     "base_uri": "https://localhost:8080/",
     "height": 517
    },
    "id": "kfRz_WVhIQcd",
    "outputId": "7dd74355-bd59-4b31-df19-f2132b541767"
   },
   "outputs": [
    {
     "name": "stdout",
     "output_type": "stream",
     "text": [
      "Epoch 1/20\n",
      "1532/1532 [==============================] - 6s 3ms/step - loss: 0.3291 - mean_absolute_error: 0.3987 - val_loss: 0.2593 - val_mean_absolute_error: 0.3230\n",
      "Epoch 2/20\n",
      "1532/1532 [==============================] - 4s 3ms/step - loss: 0.2578 - mean_absolute_error: 0.3133 - val_loss: 0.2562 - val_mean_absolute_error: 0.3055\n",
      "Epoch 3/20\n",
      " 308/1532 [=====>........................] - ETA: 4s - loss: 0.2561 - mean_absolute_error: 0.3074"
     ]
    }
   ],
   "source": [
    "multi_linear_model = tf.keras.Sequential([\n",
    "    tf.keras.layers.Lambda(lambda x: x[:, -1:, :]), #ostatni krok - [batch, time, features] => [batch, 1, features]\n",
    "    tf.keras.layers.Dense(OUT_STEPS*num_features, \n",
    "                          kernel_initializer=tf.initializers.zeros), #[batch, 1, out_steps*features]\n",
    "    tf.keras.layers.Reshape([OUT_STEPS, num_features]) #[batch, out_steps, features]\n",
    "])\n",
    "\n",
    "history = compile_and_fit(multi_linear_model, multi_window)\n",
    "\n",
    "IPython.display.clear_output()\n",
    "multi_val_performance['Linear'] = multi_linear_model.evaluate(multi_window.val)\n",
    "multi_performance['Linear'] = multi_linear_model.evaluate(multi_window.test, verbose=0)\n",
    "multi_window.plot(multi_linear_model)"
   ]
  },
  {
   "cell_type": "markdown",
   "metadata": {
    "id": "zi2TMHk2IRrh"
   },
   "source": [
    "#### Dense\n",
    "\n",
    "Dodanie `layers.Dense` między wejściem a wyjściem daje modelowi liniowemu większą moc, ale nadal jest on oparty tylko na jednym wejściowym kroku czasowym."
   ]
  },
  {
   "cell_type": "code",
   "execution_count": null,
   "metadata": {
    "colab": {
     "base_uri": "https://localhost:8080/",
     "height": 514
    },
    "id": "jezm-BKaGj91",
    "outputId": "3b8b297f-ccf3-4a45-96c7-827fcdb409cb"
   },
   "outputs": [],
   "source": [
    "multi_dense_model = tf.keras.Sequential([\n",
    "    tf.keras.layers.Lambda(lambda x: x[:, -1:, :]), #ostatni krok [batch, time, features] => [batch, 1, features]\n",
    "    tf.keras.layers.Dense(512, activation='relu'), #[batch, 1, dense_units]\n",
    "    tf.keras.layers.Dense(OUT_STEPS*num_features,\n",
    "                          kernel_initializer=tf.initializers.zeros), #[batch, out_steps*features]\n",
    "    tf.keras.layers.Reshape([OUT_STEPS, num_features]) #[batch, out_steps, features]\n",
    "])\n",
    "\n",
    "history = compile_and_fit(multi_dense_model, multi_window)\n",
    "\n",
    "IPython.display.clear_output()\n",
    "multi_val_performance['Dense'] = multi_dense_model.evaluate(multi_window.val)\n",
    "multi_performance['Dense'] = multi_dense_model.evaluate(multi_window.test, verbose=0)\n",
    "multi_window.plot(multi_dense_model)"
   ]
  },
  {
   "cell_type": "markdown",
   "metadata": {
    "id": "icsBAjCzMaMl"
   },
   "source": [
    "#### CNN"
   ]
  },
  {
   "cell_type": "markdown",
   "metadata": {
    "id": "34lCZrWYNBwd"
   },
   "source": [
    "Model konwolucyjny dokonuje przewidywań na podstawie historii o stałej szerokości, co może prowadzić do lepszych wyników niż model gęsty, ponieważ widzi, jak rzeczy zmieniają się w czasie:\n",
    "\n",
    "![A convolutional model sees how things change over time](https://github.com/tensorflow/docs/blob/master/site/en/tutorials/structured_data/images/multistep_conv.png?raw=1)"
   ]
  },
  {
   "cell_type": "code",
   "execution_count": null,
   "metadata": {
    "colab": {
     "base_uri": "https://localhost:8080/",
     "height": 514
    },
    "id": "0xJoIP6PMWMI",
    "outputId": "425ee95a-319a-4a01-8a18-5282b199761f"
   },
   "outputs": [],
   "source": [
    "CONV_WIDTH = 3\n",
    "multi_conv_model = tf.keras.Sequential([\n",
    "    tf.keras.layers.Lambda(lambda x: x[:, -CONV_WIDTH:, :]), #[batch, time, features] => [batch, CONV_WIDTH, features]\n",
    "    tf.keras.layers.Conv1D(256, activation='relu', kernel_size=(CONV_WIDTH)), #[batch, 1, conv_units] \n",
    "    tf.keras.layers.Dense(OUT_STEPS*num_features,\n",
    "                          kernel_initializer=tf.initializers.zeros), #[batch, 1,  out_steps*features]\n",
    "    tf.keras.layers.Reshape([OUT_STEPS, num_features]) #[batch, out_steps, features]\n",
    "])\n",
    "\n",
    "history = compile_and_fit(multi_conv_model, multi_window)\n",
    "\n",
    "IPython.display.clear_output()\n",
    "\n",
    "multi_val_performance['Conv'] = multi_conv_model.evaluate(multi_window.val)\n",
    "multi_performance['Conv'] = multi_conv_model.evaluate(multi_window.test, verbose=0)\n",
    "multi_window.plot(multi_conv_model)"
   ]
  },
  {
   "cell_type": "markdown",
   "metadata": {
    "id": "weBjeZAFJOP4"
   },
   "source": [
    "#### RNN"
   ]
  },
  {
   "cell_type": "markdown",
   "metadata": {
    "id": "8022xOKxOO92"
   },
   "source": [
    "Model rekurencyjny może nauczyć się korzystać z długiej historii danych wejściowych, jeśli jest ona istotna dla przewidywań dokonywanych przez model. W tym przypadku model będzie gromadził stan wewnętrzny przez 24 godziny, a następnie dokona pojedynczego przewidywania na następne 24 godziny.\n",
    "\n",
    "W tym formacie pojedynczego ujęcia LSTM musi wytworzyć wyjście tylko w ostatnim kroku czasowym, dlatego należy ustawić `return_sequences=False`.\n",
    "\n",
    "![The lstm accumulates state over the input window, and makes a single prediction for the next 24h](https://github.com/tensorflow/docs/blob/master/site/en/tutorials/structured_data/images/multistep_lstm.png?raw=1)\n"
   ]
  },
  {
   "cell_type": "code",
   "execution_count": null,
   "metadata": {
    "colab": {
     "base_uri": "https://localhost:8080/",
     "height": 514
    },
    "id": "Bf1ks6RTzF64",
    "outputId": "178b6376-ff97-43dd-d1aa-d6edf6d28e17"
   },
   "outputs": [],
   "source": [
    "multi_lstm_model = tf.keras.Sequential([\n",
    "    tf.keras.layers.LSTM(32, return_sequences=False), #[batch, time, features] => [batch, lstm_units]\n",
    "    tf.keras.layers.Dense(OUT_STEPS*num_features,\n",
    "                          kernel_initializer=tf.initializers.zeros), #[batch, out_steps*features]\n",
    "    tf.keras.layers.Reshape([OUT_STEPS, num_features]) #[batch, out_steps, features]\n",
    "])\n",
    "\n",
    "history = compile_and_fit(multi_lstm_model, multi_window)\n",
    "\n",
    "IPython.display.clear_output()\n",
    "\n",
    "multi_val_performance['LSTM'] = multi_lstm_model.evaluate(multi_window.val)\n",
    "multi_performance['LSTM'] = multi_lstm_model.evaluate(multi_window.test, verbose=0)\n",
    "multi_window.plot(multi_lstm_model)"
   ]
  },
  {
   "cell_type": "markdown",
   "metadata": {
    "id": "d5n-1cDW12Vo"
   },
   "source": [
    "### Model autoregresyjny\n",
    "\n",
    "Wszystkie powyższe modele przewidują całą sekwencję wyjściową jako pojedynczy krok.\n",
    "\n",
    "W niektórych przypadkach pomocne może być podzielenie prognozy na poszczególne kroki czasowe. Wówczas dane wyjściowe każdego modelu mogą być wprowadzane do niego samego w każdym kroku, a przewidywania mogą być uzależnione od poprzedniego.\n",
    "\n",
    "Jedną z wyraźnych zalet tego typu modelu jest to, że można go skonfigurować tak, by produkował dane wyjściowe o różnej długości.\n",
    "\n",
    "Można wziąć dowolny z jednokrokowych modeli wielowyjściowych, wytrenowanych w pierwszej części tego poradnika, i uruchomić go w autoregresyjnej pętli sprzężenia zwrotnego, ale tutaj skupimy się na zbudowaniu modelu, który został specjalnie wytrenowany do tegp celu\n",
    "\n",
    "![Feedback a model's output to its input](https://github.com/tensorflow/docs/blob/master/site/en/tutorials/structured_data/images/multistep_autoregressive.png?raw=1)\n"
   ]
  },
  {
   "cell_type": "markdown",
   "metadata": {
    "id": "PKRreBbULRXY"
   },
   "source": [
    "#### RNN\n",
    "\n",
    "Ten tutorial buduje tylko autoregresyjny model RNN, ale schemat można zastosować do dowolnego modelu, który został zaprojektowany do wyprowadzania pojedynczego kroku czasowego.\n",
    "\n",
    "Model będzie miał taką samą podstawową formę jak modele `LSTM` z pojedynczym krokiem czasowym: `LSTM`, po którym następuje `Dense`, który konwertuje dane wyjściowe `LSTM` na przewidywania modelu.\n",
    "\n",
    "`LSTMCell` to `LSTM` w ujęciu bardziej niskopoziomowym, obiekt `LSTM` sam zarządza stanem i sekwencją wyników.\n",
    "\n",
    "W tym przypadku model musi ręcznie zarządzać wejściami dla każdego kroku, więc używa `layers.LSTMCell`."
   ]
  },
  {
   "cell_type": "code",
   "execution_count": null,
   "metadata": {
    "id": "s5tz3Nu0R5JG"
   },
   "outputs": [],
   "source": [
    "class FeedBack(tf.keras.Model):\n",
    "  def __init__(self, units, out_steps):\n",
    "    super().__init__()\n",
    "    self.out_steps = out_steps\n",
    "    self.units = units\n",
    "    self.lstm_cell = tf.keras.layers.LSTMCell(units)\n",
    "    self.lstm_rnn = tf.keras.layers.RNN(self.lstm_cell, return_state=True) # zapakujmy LSTMcell w RNN dla ułatwienia warmupu\n",
    "    self.dense = tf.keras.layers.Dense(num_features)"
   ]
  },
  {
   "cell_type": "code",
   "execution_count": null,
   "metadata": {
    "id": "2OXVM9G1U7xR"
   },
   "outputs": [],
   "source": [
    "feedback_model = FeedBack(units=32, out_steps=OUT_STEPS)"
   ]
  },
  {
   "cell_type": "markdown",
   "metadata": {
    "id": "ph5uFSfTUNho"
   },
   "source": [
    "Pierwszą metodą, jakiej potrzebuje ten model, jest metoda `warmup`, która inicjalizuje jego stan wewnętrzny na podstawie danych wejściowych. Po wytrenowaniu stan ten będzie przechwytywał istotne części historii danych wejściowych. Jest to odpowiednik wcześniejszego jednoetapowego modelu `LSTM`:"
   ]
  },
  {
   "cell_type": "code",
   "execution_count": null,
   "metadata": {
    "id": "vM2K_LLdRjDZ"
   },
   "outputs": [],
   "source": [
    "def warmup(self, inputs):\n",
    "  x, *state = self.lstm_rnn(inputs) #inputs.shape => (batch, time, features),  x.shape => (batch, lstm_units)\n",
    "  prediction = self.dense(x)  # predictions.shape => (batch, features)\n",
    "  return prediction, state\n",
    "\n",
    "FeedBack.warmup = warmup"
   ]
  },
  {
   "cell_type": "markdown",
   "metadata": {
    "id": "6JkaSYaZ9eB7"
   },
   "source": [
    "Metoda ta zwraca prognozę pojedynczego kroku czasowego oraz wewnętrzny stan LSTM:"
   ]
  },
  {
   "cell_type": "code",
   "execution_count": null,
   "metadata": {
    "colab": {
     "base_uri": "https://localhost:8080/",
     "height": 34
    },
    "id": "w9Fz6NTKXXwU",
    "outputId": "836cb3b0-2195-4774-f1e3-41ab7c10159c"
   },
   "outputs": [],
   "source": [
    "prediction, state = feedback_model.warmup(multi_window.example[0])\n",
    "prediction.shape"
   ]
  },
  {
   "cell_type": "markdown",
   "metadata": {
    "id": "S_ZdvPjdX3y3"
   },
   "source": [
    "Mając stan `RNN` i początkowe przewidywania, można teraz kontynuować iterację modelu, podając przewidywania z każdego kroku z powrotem jako dane wejściowe.\n",
    "\n",
    "Najprostszym podejściem do zbierania przewidywań wyjściowych jest użycie pythonowej listy i stackowanie po pętli."
   ]
  },
  {
   "cell_type": "code",
   "execution_count": null,
   "metadata": {
    "id": "g1GRDu3mZtr9"
   },
   "outputs": [],
   "source": [
    "def call(self, inputs, training=None):\n",
    "  predictions = []\n",
    "  # zainicjalizuj stan LSTM\n",
    "  prediction, state = self.warmup(inputs)\n",
    "\n",
    "  # umieść pierwszą prognozę\n",
    "  predictions.append(prediction)\n",
    "\n",
    "  # przeprowadź resztę predykcji\n",
    "  for n in range(1, self.out_steps):\n",
    "    x = prediction # używa ostatnią prognozę jako wejście\n",
    "    x, state = self.lstm_cell(x, states=state, training=training) # wykonuje jeden krok LSTM\n",
    "    prediction = self.dense(x) # konwertuje wyjście LSTM na prognozę\n",
    "    predictions.append(prediction) # dodaje prognozę do wyjścia\n",
    "\n",
    "  predictions = tf.stack(predictions)  # (time, batch, features)\n",
    "  predictions = tf.transpose(predictions, [1, 0, 2]) # (batch, time, features)\n",
    "  return predictions\n",
    "\n",
    "FeedBack.call = call"
   ]
  },
  {
   "cell_type": "markdown",
   "metadata": {
    "id": "Ubop-YWp15XW"
   },
   "source": [
    "Przetestuj ten model na przykładowych danych wejściowych:"
   ]
  },
  {
   "cell_type": "code",
   "execution_count": null,
   "metadata": {
    "colab": {
     "base_uri": "https://localhost:8080/",
     "height": 34
    },
    "id": "Xja83zEYaM2D",
    "outputId": "55bf0ea6-1d30-444c-ee1e-e92ecd960bb3"
   },
   "outputs": [],
   "source": [
    "print('Output shape (batch, time, features): ', feedback_model(multi_window.example[0]).shape)"
   ]
  },
  {
   "cell_type": "markdown",
   "metadata": {
    "id": "qMs0rYB8be9M"
   },
   "source": [
    "Teraz wytrenujmy model:"
   ]
  },
  {
   "cell_type": "code",
   "execution_count": null,
   "metadata": {
    "colab": {
     "base_uri": "https://localhost:8080/",
     "height": 514
    },
    "id": "VBRVG2hnNyrO",
    "outputId": "5e8c2a74-0f3a-4520-a829-67135efe3ae0"
   },
   "outputs": [],
   "source": [
    "history = compile_and_fit(feedback_model, multi_window)\n",
    "\n",
    "IPython.display.clear_output()\n",
    "\n",
    "multi_val_performance['AR LSTM'] = feedback_model.evaluate(multi_window.val)\n",
    "multi_performance['AR LSTM'] = feedback_model.evaluate(multi_window.test, verbose=0)\n",
    "multi_window.plot(feedback_model)"
   ]
  },
  {
   "cell_type": "markdown",
   "metadata": {
    "id": "hGjcJsAQJUkI"
   },
   "source": [
    "### Wydajność"
   ]
  },
  {
   "cell_type": "markdown",
   "metadata": {
    "id": "sODAwr2ndtDB"
   },
   "source": [
    "Najbardziej złożone modele wcale nie dają najlepszych wyników"
   ]
  },
  {
   "cell_type": "code",
   "execution_count": null,
   "metadata": {
    "colab": {
     "base_uri": "https://localhost:8080/",
     "height": 402
    },
    "id": "WZwWBA8S6B3L",
    "outputId": "5f1addf9-2175-4f7c-8a9a-ea23077a5131"
   },
   "outputs": [],
   "source": [
    "x = np.arange(len(multi_performance))\n",
    "width = 0.3\n",
    "\n",
    "\n",
    "metric_name = 'mean_absolute_error'\n",
    "metric_index = lstm_model.metrics_names.index('mean_absolute_error')\n",
    "val_mae = [v[metric_index] for v in multi_val_performance.values()]\n",
    "test_mae = [v[metric_index] for v in multi_performance.values()]\n",
    "\n",
    "plt.bar(x - 0.17, val_mae, width, label='Validation')\n",
    "plt.bar(x + 0.17, test_mae, width, label='Test')\n",
    "plt.xticks(ticks=x, labels=multi_performance.keys(),\n",
    "           rotation=45)\n",
    "plt.ylabel(f'MAE (average over all times and outputs)')\n",
    "_ = plt.legend()"
   ]
  },
  {
   "cell_type": "markdown",
   "metadata": {
    "id": "Zq3hUsedCEmJ"
   },
   "source": [
    "Metryki dla modeli wielowyjściowych w pierwszej połowie tego poradnika pokazują wydajność uśrednioną dla wszystkich cech wyjściowych. Wydajność ta jest podobna, ale również uśredniona dla wyjściowych przedziałów czasowych. "
   ]
  },
  {
   "cell_type": "code",
   "execution_count": null,
   "metadata": {
    "colab": {
     "base_uri": "https://localhost:8080/",
     "height": 136
    },
    "id": "jKq3eAIvH4Db",
    "outputId": "cd01cc6c-4d88-4ded-a702-54c365845e78"
   },
   "outputs": [],
   "source": [
    "for name, value in multi_performance.items():\n",
    "  print(f'{name:8s}: {value[1]:0.4f}')"
   ]
  },
  {
   "cell_type": "markdown",
   "metadata": {
    "id": "MpBFwfnaHP23"
   },
   "source": [
    "Zysk uzyskany przy przejściu z modelu gęstego do modeli konwolucyjnych i rekurencyjnych wynosi zaledwie kilka procent (jeśli w ogóle), a model autoregresyjny okazał się wyraźnie gorszy. Tak więc te bardziej złożone podejścia mogą nie być warte zachodu w przypadku **tego** problemu, ale nie ma sposobu, aby się o tym przekonać, nie próbując, a te modele mogą być pomocne w przypadku **twojego** problemu."
   ]
  }
 ],
 "metadata": {
  "accelerator": "GPU",
  "colab": {
   "collapsed_sections": [],
   "name": "time_series.ipynb",
   "provenance": []
  },
  "kernelspec": {
   "display_name": "Python 3 (ipykernel)",
   "language": "python",
   "name": "python3"
  },
  "language_info": {
   "codemirror_mode": {
    "name": "ipython",
    "version": 3
   },
   "file_extension": ".py",
   "mimetype": "text/x-python",
   "name": "python",
   "nbconvert_exporter": "python",
   "pygments_lexer": "ipython3",
   "version": "3.7.11"
  }
 },
 "nbformat": 4,
 "nbformat_minor": 1
}
