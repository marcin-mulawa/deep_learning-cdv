{
 "cells": [
  {
   "cell_type": "markdown",
   "metadata": {
    "colab_type": "text",
    "id": "LcrCNS6jc5-e"
   },
   "source": [
    "# Płytka sieć neuronowa w PyTorch"
   ]
  },
  {
   "cell_type": "markdown",
   "metadata": {
    "colab_type": "text",
    "id": "mEygUgLVKJ7x"
   },
   "source": [
    "### Zaimportujmy zależności"
   ]
  },
  {
   "cell_type": "code",
   "execution_count": null,
   "metadata": {
    "colab": {},
    "colab_type": "code",
    "id": "nfFVh41odSXB"
   },
   "outputs": [],
   "source": [
    "import torch\n",
    "import torch.nn as nn\n",
    "from torchvision.datasets import MNIST\n",
    "from torchvision import transforms\n",
    "from torchsummary import summary\n",
    "import matplotlib.pyplot as plt"
   ]
  },
  {
   "cell_type": "markdown",
   "metadata": {
    "colab_type": "text",
    "id": "6QCoX-S6dj54"
   },
   "source": [
    "### Załadujmy dane i od razu przeskalujmy (funkcja ToTensor konwertuje piksele z [0,255] na [0,1]"
   ]
  },
  {
   "cell_type": "code",
   "execution_count": null,
   "metadata": {
    "colab": {
     "base_uri": "https://localhost:8080/",
     "height": 259
    },
    "colab_type": "code",
    "id": "UXk2_Pazef4W",
    "outputId": "1482c5ea-0451-453a-b762-43a658f50d45"
   },
   "outputs": [],
   "source": [
    "train = MNIST('data', train=True, transform=transforms.ToTensor(), download=True)\n",
    "test = MNIST('data', train=False, transform=transforms.ToTensor())"
   ]
  },
  {
   "cell_type": "markdown",
   "metadata": {},
   "source": [
    "### Sprawdźmy jak wyglądają dane"
   ]
  },
  {
   "cell_type": "code",
   "execution_count": null,
   "metadata": {
    "colab": {
     "base_uri": "https://localhost:8080/",
     "height": 35
    },
    "colab_type": "code",
    "id": "EdMVpcOHetgf",
    "outputId": "488de8ea-f066-438b-dafc-2748a6f28b8f"
   },
   "outputs": [],
   "source": [
    "train.data.shape"
   ]
  },
  {
   "cell_type": "code",
   "execution_count": null,
   "metadata": {},
   "outputs": [],
   "source": [
    "train"
   ]
  },
  {
   "cell_type": "code",
   "execution_count": null,
   "metadata": {
    "colab": {
     "base_uri": "https://localhost:8080/",
     "height": 1002
    },
    "colab_type": "code",
    "id": "yZ8hKPF6exuw",
    "outputId": "210219ce-d5d8-4b06-9db4-bcbc1472f973"
   },
   "outputs": [],
   "source": [
    "train.data[0]"
   ]
  },
  {
   "cell_type": "markdown",
   "metadata": {},
   "source": [
    "### Zobaczmy konkretne wartości"
   ]
  },
  {
   "cell_type": "code",
   "execution_count": null,
   "metadata": {
    "colab": {
     "base_uri": "https://localhost:8080/",
     "height": 286
    },
    "colab_type": "code",
    "id": "vzITvYebe6NQ",
    "outputId": "6c3faad1-d5fd-4000-9337-2de757b1bef8"
   },
   "outputs": [],
   "source": [
    "plt.imshow(train.data[0].numpy().squeeze(), cmap='gray_r')"
   ]
  },
  {
   "cell_type": "code",
   "execution_count": null,
   "metadata": {
    "colab": {
     "base_uri": "https://localhost:8080/",
     "height": 104
    },
    "colab_type": "code",
    "id": "kf4i8Q09fCpw",
    "outputId": "55a78ab8-7a11-47a0-e9a9-a59e2a4c803b"
   },
   "outputs": [],
   "source": [
    "train.targets[0:100]"
   ]
  },
  {
   "cell_type": "code",
   "execution_count": null,
   "metadata": {
    "colab": {
     "base_uri": "https://localhost:8080/",
     "height": 35
    },
    "colab_type": "code",
    "id": "e6d0sd_8fQPH",
    "outputId": "3ecf50a1-8220-4ea7-9f59-d5efdf235bf7"
   },
   "outputs": [],
   "source": [
    "train.targets.shape"
   ]
  },
  {
   "cell_type": "code",
   "execution_count": null,
   "metadata": {
    "colab": {
     "base_uri": "https://localhost:8080/",
     "height": 35
    },
    "colab_type": "code",
    "id": "0qST6tDffR9v",
    "outputId": "6f7fa323-d560-4e28-f753-1832658ed45b"
   },
   "outputs": [],
   "source": [
    "test.data.shape"
   ]
  },
  {
   "cell_type": "code",
   "execution_count": null,
   "metadata": {
    "colab": {
     "base_uri": "https://localhost:8080/",
     "height": 35
    },
    "colab_type": "code",
    "id": "WyPpoB3dfiwo",
    "outputId": "15ac5f38-8716-4189-edd3-b8e13f84d4bd"
   },
   "outputs": [],
   "source": [
    "test.targets.shape"
   ]
  },
  {
   "cell_type": "markdown",
   "metadata": {
    "colab_type": "text",
    "id": "yYMXOGJvfkCo"
   },
   "source": [
    "### Popaczkujmy zbiór danych z wykorzystaniem klasy DataLoader i przejrzyjmy paczki"
   ]
  },
  {
   "cell_type": "code",
   "execution_count": null,
   "metadata": {
    "colab": {},
    "colab_type": "code",
    "id": "8IySNK8Ef6Eq"
   },
   "outputs": [],
   "source": [
    "train_loader = torch.utils.data.DataLoader(train, batch_size=128, shuffle=True) \n",
    "test_loader = torch.utils.data.DataLoader(test, batch_size=128) "
   ]
  },
  {
   "cell_type": "code",
   "execution_count": null,
   "metadata": {},
   "outputs": [],
   "source": [
    "n_batches = len(train_loader)\n",
    "n_batches"
   ]
  },
  {
   "cell_type": "code",
   "execution_count": null,
   "metadata": {},
   "outputs": [],
   "source": [
    "n_test_batches = len(test_loader)\n",
    "n_test_batches"
   ]
  },
  {
   "cell_type": "code",
   "execution_count": null,
   "metadata": {
    "colab": {},
    "colab_type": "code",
    "id": "SLfWTrjshEsh"
   },
   "outputs": [],
   "source": [
    "X_sample, y_sample = iter(train_loader).next()"
   ]
  },
  {
   "cell_type": "code",
   "execution_count": null,
   "metadata": {
    "colab": {
     "base_uri": "https://localhost:8080/",
     "height": 35
    },
    "colab_type": "code",
    "id": "5fc-M4JCiRTW",
    "outputId": "746dc866-ee0a-422d-98b9-a8045558070a"
   },
   "outputs": [],
   "source": [
    "X_sample.shape"
   ]
  },
  {
   "cell_type": "code",
   "execution_count": null,
   "metadata": {
    "colab": {
     "base_uri": "https://localhost:8080/",
     "height": 35
    },
    "colab_type": "code",
    "id": "2TCZnZR-iWvo",
    "outputId": "396a086b-2155-476b-8b18-6c903dda106f"
   },
   "outputs": [],
   "source": [
    "y_sample.shape"
   ]
  },
  {
   "cell_type": "code",
   "execution_count": null,
   "metadata": {
    "colab": {
     "base_uri": "https://localhost:8080/",
     "height": 121
    },
    "colab_type": "code",
    "id": "8uk1_iPDiXR7",
    "outputId": "a820ebe3-cc65-40db-9974-0d755eadb103"
   },
   "outputs": [],
   "source": [
    "y_sample"
   ]
  },
  {
   "cell_type": "code",
   "execution_count": null,
   "metadata": {
    "colab": {
     "base_uri": "https://localhost:8080/",
     "height": 1952
    },
    "colab_type": "code",
    "id": "Sf4z56RKi1ja",
    "outputId": "a6ea24fe-4730-4ab5-9abf-36e99d12b1d1"
   },
   "outputs": [],
   "source": [
    "X_sample[0]"
   ]
  },
  {
   "cell_type": "markdown",
   "metadata": {},
   "source": [
    "### Spłaszczamy paczkę \n",
    "(niespodzianie służy do tego funkcja .view())"
   ]
  },
  {
   "cell_type": "code",
   "execution_count": null,
   "metadata": {
    "colab": {},
    "colab_type": "code",
    "id": "zlj29yCske1c"
   },
   "outputs": [],
   "source": [
    "X_flat_sample = X_sample.view(X_sample.shape[0], -1)"
   ]
  },
  {
   "cell_type": "code",
   "execution_count": null,
   "metadata": {
    "colab": {
     "base_uri": "https://localhost:8080/",
     "height": 35
    },
    "colab_type": "code",
    "id": "8VtnEEvLi4UD",
    "outputId": "bf534ee2-d23d-4c01-8060-09ec72222cb0"
   },
   "outputs": [],
   "source": [
    "X_flat_sample.shape"
   ]
  },
  {
   "cell_type": "code",
   "execution_count": null,
   "metadata": {
    "colab": {
     "base_uri": "https://localhost:8080/",
     "height": 1537
    },
    "colab_type": "code",
    "id": "Koet4ZSgkSHu",
    "outputId": "8334d8fb-0538-4e7e-d534-9d3829d995c1"
   },
   "outputs": [],
   "source": [
    "X_flat_sample[0]"
   ]
  },
  {
   "cell_type": "markdown",
   "metadata": {
    "colab_type": "text",
    "id": "s-lTFFhdkogC"
   },
   "source": [
    "### Czas na zaprojektowanie architektury sieci"
   ]
  },
  {
   "cell_type": "markdown",
   "metadata": {},
   "source": [
    "PyTorch opiera się na modułach (obiektach klasy `torch.nn.Module`), które są łączone w graf obliczeń. Moduły mogą wykorzystywać parametry (obiekty klasy `torch.nn.Parameter`), dla których mogą być automatycznie liczone gradienty i które mogą podlegać optymalizacji."
   ]
  },
  {
   "cell_type": "markdown",
   "metadata": {},
   "source": [
    "**Zadanie 1. Zadeklaruj odpowiedni rozmiar wejścia i wyjścia tak, by warstwa wejściowa przyjęła pojedynczo wszystkie piksele obrazka, a warstwa wyjściowa mogła reprezentować każdą z klas**"
   ]
  },
  {
   "cell_type": "code",
   "execution_count": null,
   "metadata": {
    "colab": {},
    "colab_type": "code",
    "id": "mkwmSP10k8Y7"
   },
   "outputs": [],
   "source": [
    "n_input = ...\n",
    "n_dense = 64\n",
    "n_out = ..."
   ]
  },
  {
   "cell_type": "markdown",
   "metadata": {},
   "source": [
    "Tworzymy model, składający się sekwencji warstw: wejściowej warstwy liniowej czyli warstwy implementującej operację $\\hat{y} = Wx + b$, (zwróćmy uwagę na jej liczbę wejść i wyjść), ukrytej warstwy gęstej o 64 neuronach z sigmoidalną funkcją aktywacji oraz wyjściowej warstwy liniowej (tu również zwróćmy uwagę na liczbę wejść)"
   ]
  },
  {
   "cell_type": "code",
   "execution_count": null,
   "metadata": {
    "colab": {},
    "colab_type": "code",
    "id": "XLAYTQcrk208"
   },
   "outputs": [],
   "source": [
    "model = nn.Sequential(\n",
    "    nn.Linear(n_input, n_dense),\n",
    "    nn.Sigmoid(),\n",
    "    nn.Linear(n_dense, n_out)\n",
    ")"
   ]
  },
  {
   "cell_type": "code",
   "execution_count": null,
   "metadata": {
    "colab": {
     "base_uri": "https://localhost:8080/",
     "height": 294
    },
    "colab_type": "code",
    "id": "ELhOOEzcmMjN",
    "outputId": "0bedac30-6b93-493f-c1a7-50f6c528a772"
   },
   "outputs": [],
   "source": [
    "summary(model, (1, n_input))"
   ]
  },
  {
   "cell_type": "markdown",
   "metadata": {
    "colab_type": "text",
    "id": "ad12qUaumQNF"
   },
   "source": [
    "### Skonfigurujmy hiperparametry"
   ]
  },
  {
   "cell_type": "markdown",
   "metadata": {},
   "source": [
    "**Zadanie 2. Zajrzyj do dokumentacji biblioteki torch i zadeklaruj entropię skrośną (CrossEntropy) jako funkcję straty oraz SGD jako algorytm optymalizacji - z parametrami modelu jako parametrami do optymalizacji, oraz ze stałą uczenia równą 0.01**"
   ]
  },
  {
   "cell_type": "code",
   "execution_count": null,
   "metadata": {
    "colab": {},
    "colab_type": "code",
    "id": "MApHSXQGmfdE"
   },
   "outputs": [],
   "source": [
    "cost_fxn = "
   ]
  },
  {
   "cell_type": "code",
   "execution_count": null,
   "metadata": {
    "colab": {},
    "colab_type": "code",
    "id": "K0c1Iqnpm32m"
   },
   "outputs": [],
   "source": [
    "optimizer = "
   ]
  },
  {
   "cell_type": "markdown",
   "metadata": {
    "colab_type": "text",
    "id": "V3836ImZnQ6_"
   },
   "source": [
    "### Zdefinujmy metrykę trafności prognozy"
   ]
  },
  {
   "cell_type": "code",
   "execution_count": null,
   "metadata": {
    "colab": {},
    "colab_type": "code",
    "id": "p9iTkEv6nVHB"
   },
   "outputs": [],
   "source": [
    "def accuracy_pct(pred_y, true_y):\n",
    "  _, prediction = torch.max(pred_y, 1)\n",
    "  correct = (prediction == true_y).sum().item()\n",
    "  return (correct / true_y.shape[0]) * 100.0"
   ]
  },
  {
   "cell_type": "markdown",
   "metadata": {},
   "source": [
    "### Wreszcie nauczmy sieć \n",
    "(zwróćmy zwłaszcza uwagę na to co się dzieje w zagnieżdżonej pętli)"
   ]
  },
  {
   "cell_type": "code",
   "execution_count": null,
   "metadata": {
    "colab": {
     "base_uri": "https://localhost:8080/",
     "height": 2142
    },
    "colab_type": "code",
    "id": "ka2rxjOcnY_1",
    "outputId": "54b4f4fb-62dc-4079-e734-2752ba245c8b"
   },
   "outputs": [],
   "source": [
    "n_epochs = 20 \n",
    "\n",
    "print('Training for {} epochs. \\n'.format(n_epochs))\n",
    "\n",
    "for epoch in range(n_epochs):\n",
    "  \n",
    "  avg_cost = 0.0\n",
    "  avg_accuracy = 0.0\n",
    "  \n",
    "  for i, (X, y) in enumerate(train_loader): # enumerate() pozwala iterować po całym popaczkowanym zbiorze  \n",
    "    \n",
    "    # wykonujemy feed-forward:\n",
    "    X_flat = X.view(X.shape[0], -1)\n",
    "    y_hat = model(X_flat)\n",
    "    cost = cost_fxn(y_hat, y)\n",
    "    avg_cost += cost / n_batches\n",
    "    \n",
    "    # propagacja wsteczna i optymalizacja poprzez algorytm spadku gradientu: \n",
    "    optimizer.zero_grad() # ustawiamy gradienty w sieci na zero; .backward() accumulates them in buffers\n",
    "    cost.backward() #obliczamy i zbieramy gradienty\n",
    "    optimizer.step() #aktualizujemy wagi z wykorzystaniem zebranych gradientów\n",
    "    \n",
    "    # obliczamy wartości wyznaczonej wcześniej metryki:\n",
    "    accuracy = accuracy_pct(y_hat, y)\n",
    "    avg_accuracy += accuracy / n_batches\n",
    "    \n",
    "    if (i + 1) % 100 == 0:\n",
    "      print('Step {}'.format(i + 1))\n",
    "    \n",
    "  print('Epoch {}/{} complete: Cost: {:.3f}, Accuracy: {:.1f}% \\n'\n",
    "        .format(epoch + 1, n_epochs, avg_cost, avg_accuracy)) \n",
    "\n",
    "print('Training complete.')"
   ]
  },
  {
   "cell_type": "markdown",
   "metadata": {
    "colab_type": "text",
    "id": "xmUI1Z7jj0XO"
   },
   "source": [
    "### Testujemy model"
   ]
  },
  {
   "cell_type": "markdown",
   "metadata": {},
   "source": [
    "**Zadanie 3. Zaimplementuj w gotowej pętli obliczanie trafności na całym zbiorze testowym z wykorzystaniem funkcji accuracy_pct**"
   ]
  },
  {
   "cell_type": "code",
   "execution_count": null,
   "metadata": {
    "colab": {
     "base_uri": "https://localhost:8080/",
     "height": 35
    },
    "colab_type": "code",
    "id": "DPU-rP_7jtk_",
    "outputId": "d9c513ed-4de9-4196-ea95-80487fcf5e78"
   },
   "outputs": [],
   "source": [
    "model.eval()\n",
    "\n",
    "with torch.no_grad(): # dezyaktywacja klasy autograd która oblicza pochodne i rejestruje graf wszystkich operacji wykonanych na tensorze, w tym przypadku chcemy zaoszczędzić pamięc\n",
    "  \n",
    "  avg_test_cost = 0.0\n",
    "  avg_test_acc = 0.0\n",
    "  \n",
    "  for X, y in test_loader:\n",
    "    \n",
    "    # dokonujemy prognozy: \n",
    "    X_flat = X.view(X.shape[0], -1)\n",
    "    y_hat = model(X_flat)\n",
    "    \n",
    "    # obliczamy koszt: \n",
    "    cost = cost_fxn(y_hat, y)\n",
    "    avg_test_cost += cost / n_test_batches\n",
    "    \n",
    "    # tu odpowiedź - obliczamy trafność:\n",
    "    test_accuracy = \n",
    "    avg_test_acc += \n",
    "\n",
    "print('Test cost: {:.3f}, Test accuracy: {:.1f}%'.format(avg_test_cost, avg_test_acc))"
   ]
  }
 ],
 "metadata": {
  "accelerator": "TPU",
  "colab": {
   "include_colab_link": true,
   "name": "shallow_net_in_pytorch.ipynb",
   "provenance": [],
   "version": "0.3.2"
  },
  "kernelspec": {
   "display_name": "Python 3",
   "language": "python",
   "name": "python3"
  },
  "language_info": {
   "codemirror_mode": {
    "name": "ipython",
    "version": 3
   },
   "file_extension": ".py",
   "mimetype": "text/x-python",
   "name": "python",
   "nbconvert_exporter": "python",
   "pygments_lexer": "ipython3",
   "version": "3.8.8"
  }
 },
 "nbformat": 4,
 "nbformat_minor": 1
}
